{
 "cells": [
  {
   "cell_type": "code",
   "execution_count": 1,
   "metadata": {},
   "outputs": [],
   "source": [
    "import numpy as np \n",
    "\n",
    "def safeDivide(numerator: float, denomonator: float) -> float:\n",
    "    return 0 if denomonator == 0 else numerator / denomonator\n",
    "\n",
    "class Results:\n",
    "    def __init__(self, accuracy:float, mae:float, rmse:float, confusion_matrix:np.ndarray):\n",
    "        self.accuracy = accuracy\n",
    "        self.mae = mae\n",
    "        self.rmse = rmse\n",
    "        self.cm = confusion_matrix \n",
    "        self.true_negatives, self.false_positives, self.false_negatives, self.true_positives = self.cm.ravel()\n",
    "        self.total = self.true_negatives + self.false_positives + self.false_negatives + self.true_positives\n",
    "        self.false_positives_rate = self.false_positives / self.total\n",
    "        self.false_negatives_rate = self.false_negatives / self.total\n",
    "        self.precision = safeDivide(self.true_positives, (self.true_positives + self.false_positives) )  \n",
    "        self.recall = safeDivide(self.true_positives, (self.true_positives + self.false_negatives))  \n",
    "        self.f1_score =  2 * safeDivide((self.precision * self.recall) ,(self.precision + self.recall))\n",
    "\n",
    "    \n",
    "    def __str__(self):\n",
    "        return f'''Results \n",
    "    Accuracy: {self.accuracy:.2f}\n",
    "    Mean Absolute Error: {self.mae:.2f}\n",
    "    Root Mean Squared Error: {self.rmse:.2f}\n",
    "    False Positives: {self.false_positives_rate:.2f}\n",
    "    Fales Negatives: {self.false_negatives_rate: .2f}\n",
    "    Precision: {self.precision:.2f}\n",
    "    Recall: {self.recall:.2f}\n",
    "    F1 Score: {self.f1_score:.2f}'''\n",
    "\n"
   ]
  },
  {
   "cell_type": "code",
   "execution_count": 2,
   "metadata": {},
   "outputs": [],
   "source": [
    "import os\n",
    "import numpy as np \n",
    "import pandas as pd \n",
    "from  datetime import timedelta, datetime\n",
    "from sklearn.preprocessing import StandardScaler\n",
    "from sklearn.model_selection import train_test_split \n",
    "from sklearn.metrics import accuracy_score,mean_absolute_error, root_mean_squared_error, confusion_matrix\n",
    "from tensorflow.keras.preprocessing.sequence import TimeseriesGenerator\n",
    "from tensorflow.keras.models import Sequential\n",
    "from tensorflow.keras.layers import LSTM, Dense, Input\n",
    "import matplotlib.pyplot as plt\n",
    "\n",
    "\n",
    "\n",
    "timestamp = 'timestamp'\n",
    "unix_timestamp = 'unix_timestamp'\n",
    "precision = .2\n",
    "\n",
    "def loadFiles(directory: str) -> list[str]:\n",
    "    file_paths = np.array([])\n",
    "    for root, dirs, files in os.walk(directory):\n",
    "        for file in files:\n",
    "            if file.endswith('.csv'):\n",
    "                file_paths = np.append(file_paths, os.path.join(root, file))\n",
    "    return file_paths\n",
    "\n",
    "def loadData(file0: str, file1:str) -> tuple[pd.DataFrame, pd.DataFrame]:\n",
    "    normals = pd.read_csv(file0, encoding='latin-1') \n",
    "    anomalies = pd.read_csv(file1, encoding='latin-1') \n",
    "    normals['USER'] = 0\n",
    "    anomalies['USER'] = 1\n",
    "    normals[unix_timestamp], normals[timestamp] = normals[timestamp], pd.to_datetime(normals[timestamp], unit='ms')\n",
    "    anomalies[unix_timestamp], anomalies[timestamp] = anomalies[timestamp], pd.to_datetime(anomalies[timestamp], unit='ms')\n",
    "    print(f'loaded normals: {normals.shape},  loaded anomalies: {anomalies.shape}')\n",
    "    return normals, anomalies\n",
    "\n",
    "def random_time_range(anomalies: pd.DataFrame, iteration: int) -> tuple[datetime, datetime]:\n",
    "    #determine start and end time. subtrat one second from start time to ensure the real start time is always included\n",
    "    start_time, end_time = anomalies[timestamp].min() - timedelta(seconds=1) , anomalies[timestamp].max()\n",
    "    print(f'anomalies start_time: {start_time} - end_time: {end_time}')\n",
    "    \n",
    "    #pick a random time delta between a range, weighted by the number of iterations\n",
    "    delta = timedelta(minutes= np.random.randint(5,30) + 2 ** iteration)\n",
    "    latest_start  = np.maximum(end_time - delta, start_time)\n",
    "        \n",
    "    random_start = start_time + timedelta(seconds=np.random.randint(0, int((latest_start - start_time).total_seconds() + 1))) \n",
    "    random_end = random_start + delta\n",
    "    print(f'random time rand selected {random_start} - {random_end}')\n",
    "    return random_start, random_end\n",
    "\n",
    "def inject_anomalies(normal:pd.DataFrame, anomalies:pd.DataFrame, start_time: datetime, end_time:datetime) -> tuple[pd.DataFrame, pd.Index]:\n",
    "    anomalies_condition = (start_time <= anomalies[timestamp]) & (anomalies[timestamp] <= end_time)\n",
    "    normal_conditoin = (start_time <= normal[timestamp]) & (normal[timestamp] <= end_time)\n",
    "    #find anomalies that fall within the random time range\n",
    "    subset_anomalies = anomalies[anomalies_condition]\n",
    "    index = subset_anomalies.index\n",
    "    print(f'{subset_anomalies.shape[0]} anomalies selected')\n",
    "\n",
    "    #if no anomalies found do nothing\n",
    "    if subset_anomalies.empty:\n",
    "        return normal, index\n",
    "    \n",
    "    #find normals that fall within the same random time range\n",
    "    subset_normal = normal[normal_conditoin]\n",
    "    \n",
    "    #if no normals found append anomalies to normals list\n",
    "    if subset_normal.empty:\n",
    "        print('no normal data within range, appending anomalies')\n",
    "        return pd.concat([normal,subset_anomalies], ignore_index=True), index\n",
    "    \n",
    "    #if normals found remove them and append anomalies to list to prevent unrealistic data where 2 users are interating with 1 machine\n",
    "    print(f'{subset_normal.shape[0]} normals selected to be overwritten')\n",
    "    return pd.concat([normal.drop(normal[normal_conditoin].index), subset_anomalies], ignore_index=True), index  \n",
    "\n",
    "def mergeData(normals:pd.DataFrame, anomalies:pd.DataFrame, anomaly_percentage_target:float=0.05) -> tuple[pd.DataFrame,float]:\n",
    "    max_size = normals.shape[0] + anomalies.shape[0]\n",
    "    anomaly_percentage = 0\n",
    "    iteration = 0\n",
    "    #merge two datasets\n",
    "    while anomaly_percentage < anomaly_percentage_target and normals.shape[0] < max_size and not anomalies.empty:\n",
    "        iteration+=1\n",
    "        print(f'current iteration: {iteration} - anomaly_size: {anomalies.shape} - anomaly_percentage: {anomaly_percentage} - current_size: {normals.shape[0]} -  max_size: {max_size}')\n",
    "        print(f'starting shape: {normals.shape}')\n",
    "        normals, index = inject_anomalies(normals, anomalies, *random_time_range(anomalies, iteration))\n",
    "        anomalies.drop(index, inplace=True)\n",
    "        print(f'ending shape: {normals.shape}')\n",
    "        anomaly_percentage = normals[normals['USER'] == 1].shape[0] / normals.shape[0]\n",
    "\n",
    "    print(f'total iterations: {iteration} - final anomaly_percentage: {anomaly_percentage}')\n",
    "    normals.sort_values(timestamp)\n",
    "    print(f'merged shape: {normals.shape}')\n",
    "    return normals, anomaly_percentage\n",
    "\n",
    "def reduceDimensions(data: pd.DataFrame) -> pd.DataFrame:\n",
    "    columns_to_drop = [\n",
    "        timestamp,\n",
    "        'active_apps_average',\n",
    "        'current_app',\n",
    "        'penultimate_app',\n",
    "        'changes_between_apps',\n",
    "        'current_app_foreground_time',\n",
    "        'current_app_average_processes',\n",
    "        'current_app_stddev_processes',\n",
    "        'current_app_average_cpu',\n",
    "        'current_app_stddev_cpu',\n",
    "        'system_average_cpu',\n",
    "        'system_stddev_cpu',\n",
    "        'current_app_average_mem',\n",
    "        'current_app_stddev_mem',\n",
    "        'system_average_mem',\n",
    "        'system_stddev_mem',\n",
    "        'received_bytes',\n",
    "        'sent_bytes'\n",
    "    ]\n",
    "    return data.iloc[:, ~data.columns.isin(columns_to_drop)]\n",
    "      \n",
    "def normalizeAndSplitData(data: pd.DataFrame, train_size: float = 0.70, test_size: float = 0.15, validate_size: float = 0.15, look_back: int = 0, batch_size: int = 128) -> tuple[TimeseriesGenerator,TimeseriesGenerator,TimeseriesGenerator]:\n",
    "    user_mask = data.columns.isin(['USER'])\n",
    "    features = data.iloc[:, ~user_mask].to_numpy()\n",
    "    labels = data.iloc[:, user_mask].to_numpy()\n",
    "    \n",
    "    #normalizing data \n",
    "    scaler = StandardScaler()\n",
    "    features_scaled = scaler.fit_transform(features)\n",
    "    \n",
    "    #split data\n",
    "    non_train_size = test_size + validate_size\n",
    "    features_train, features_temp, labels_train, labels_temp = train_test_split(features_scaled,labels, train_size=train_size, test_size= non_train_size, shuffle=False, random_state=42) \n",
    "\n",
    "    # Split the temporary data into 50% validation and 50% test (50% of 30% is 15% each)\n",
    "    features_validation, features_test, labels_validation, labels_test = train_test_split(features_temp, labels_temp, train_size= validate_size / non_train_size, test_size=test_size / non_train_size, shuffle=False, random_state=42)\n",
    "    \n",
    "    train_generator = TimeseriesGenerator(features_train, labels_train, length=look_back, batch_size=batch_size)\n",
    "    test_generator = TimeseriesGenerator(features_test, labels_test, length=look_back, batch_size=batch_size)\n",
    "    validation_generator = TimeseriesGenerator(features_validation, labels_validation, length=look_back, batch_size=batch_size)\n",
    "    return train_generator, test_generator, validation_generator \n",
    "\n",
    "def buildTrainAndTestModel(train: TimeseriesGenerator, test:TimeseriesGenerator, epochs:int, look_back:int=0):\n",
    "    model = Sequential()\n",
    "    features_count = train.data.shape[1]\n",
    "    model.add(Input(shape=(look_back,features_count)))\n",
    "    model.add(LSTM(50, activation='relu'))\n",
    "    model.add(Dense(1, activation='sigmoid'))\n",
    "    model.compile(optimizer='adam', loss='binary_crossentropy', metrics=['accuracy'])\n",
    "    model.summary()\n",
    "    history = model.fit(train, epochs=epochs, verbose=1, validation_data=test)\n",
    "    return model, history  \n",
    "\n",
    "def validateModel(model: Sequential, validation: TimeseriesGenerator, look_back:int=0) -> Results:\n",
    "    # Make a prediction (example with last batch of validation data)\n",
    "    predictions = model.predict(validation)\n",
    "    predictions = (predictions >= 0.5).astype(int)\n",
    "    actual = validation.targets[look_back:]\n",
    "\n",
    "    print(predictions.shape, actual.shape)\n",
    "    # Calculate accuracy, MAE and RMSE\n",
    "    accuracy = accuracy_score(actual, predictions)\n",
    "    mae = mean_absolute_error(actual, predictions)\n",
    "    rmse = root_mean_squared_error(actual, predictions)\n",
    "    cm = confusion_matrix(actual, predictions, labels=[True, False])\n",
    "    results = Results(accuracy,mae,rmse,cm)\n",
    "    print(results)\n",
    "    return results\n",
    "\n",
    "\n",
    "def plotHistory(history):\n",
    "    plt.figure(figsize=(12, 6))\n",
    "    plt.plot(history['loss'], label='Training Loss')\n",
    "    plt.title('Model Loss')\n",
    "    plt.xlabel('Epoch')\n",
    "    plt.ylabel('Loss')\n",
    "    plt.legend()\n",
    "    plt.show()\n",
    "\n",
    "def plotMetrics(metrics: list):\n",
    "    for metric in metrics:\n",
    "        plotHistory(metric['history'])"
   ]
  },
  {
   "cell_type": "code",
   "execution_count": 3,
   "metadata": {},
   "outputs": [
    {
     "name": "stdout",
     "output_type": "stream",
     "text": [
      "changed working dir to: /Users/osono/Library/CloudStorage/OneDrive-NorthCarolinaA&TStateUniversity/COMP 850 - 1A Big Data Analytics/Project/continuous authentication/datasets/Behacom\n",
      "loaded normals: (179, 12052),  loaded anomalies: (6059, 12052)\n",
      "current iteration: 1 - anomaly_size: (6059, 12052) - anomaly_percentage: 0 - current_size: 179 -  max_size: 6238\n",
      "starting shape: (179, 12052)\n",
      "anomalies start_time: 2019-11-20 13:44:14.128000 - end_time: 2020-01-11 18:07:10.469000\n",
      "random time rand selected 2020-01-07 15:36:07.128000 - 2020-01-07 16:06:07.128000\n",
      "29 anomalies selected\n",
      "no normal data within range, appending anomalies\n",
      "ending shape: (208, 12052)\n",
      "total iterations: 1 - final anomaly_percentage: 0.13942307692307693\n",
      "merged shape: (208, 12052)\n"
     ]
    },
    {
     "data": {
      "text/html": [
       "<pre style=\"white-space:pre;overflow-x:auto;line-height:normal;font-family:Menlo,'DejaVu Sans Mono',consolas,'Courier New',monospace\"><span style=\"font-weight: bold\">Model: \"sequential\"</span>\n",
       "</pre>\n"
      ],
      "text/plain": [
       "\u001b[1mModel: \"sequential\"\u001b[0m\n"
      ]
     },
     "metadata": {},
     "output_type": "display_data"
    },
    {
     "data": {
      "text/html": [
       "<pre style=\"white-space:pre;overflow-x:auto;line-height:normal;font-family:Menlo,'DejaVu Sans Mono',consolas,'Courier New',monospace\">┏━━━━━━━━━━━━━━━━━━━━━━━━━━━━━━━━━┳━━━━━━━━━━━━━━━━━━━━━━━━┳━━━━━━━━━━━━━━━┓\n",
       "┃<span style=\"font-weight: bold\"> Layer (type)                    </span>┃<span style=\"font-weight: bold\"> Output Shape           </span>┃<span style=\"font-weight: bold\">       Param # </span>┃\n",
       "┡━━━━━━━━━━━━━━━━━━━━━━━━━━━━━━━━━╇━━━━━━━━━━━━━━━━━━━━━━━━╇━━━━━━━━━━━━━━━┩\n",
       "│ lstm (<span style=\"color: #0087ff; text-decoration-color: #0087ff\">LSTM</span>)                     │ (<span style=\"color: #00d7ff; text-decoration-color: #00d7ff\">None</span>, <span style=\"color: #00af00; text-decoration-color: #00af00\">50</span>)             │     <span style=\"color: #00af00; text-decoration-color: #00af00\">2,416,800</span> │\n",
       "├─────────────────────────────────┼────────────────────────┼───────────────┤\n",
       "│ dense (<span style=\"color: #0087ff; text-decoration-color: #0087ff\">Dense</span>)                   │ (<span style=\"color: #00d7ff; text-decoration-color: #00d7ff\">None</span>, <span style=\"color: #00af00; text-decoration-color: #00af00\">1</span>)              │            <span style=\"color: #00af00; text-decoration-color: #00af00\">51</span> │\n",
       "└─────────────────────────────────┴────────────────────────┴───────────────┘\n",
       "</pre>\n"
      ],
      "text/plain": [
       "┏━━━━━━━━━━━━━━━━━━━━━━━━━━━━━━━━━┳━━━━━━━━━━━━━━━━━━━━━━━━┳━━━━━━━━━━━━━━━┓\n",
       "┃\u001b[1m \u001b[0m\u001b[1mLayer (type)                   \u001b[0m\u001b[1m \u001b[0m┃\u001b[1m \u001b[0m\u001b[1mOutput Shape          \u001b[0m\u001b[1m \u001b[0m┃\u001b[1m \u001b[0m\u001b[1m      Param #\u001b[0m\u001b[1m \u001b[0m┃\n",
       "┡━━━━━━━━━━━━━━━━━━━━━━━━━━━━━━━━━╇━━━━━━━━━━━━━━━━━━━━━━━━╇━━━━━━━━━━━━━━━┩\n",
       "│ lstm (\u001b[38;5;33mLSTM\u001b[0m)                     │ (\u001b[38;5;45mNone\u001b[0m, \u001b[38;5;34m50\u001b[0m)             │     \u001b[38;5;34m2,416,800\u001b[0m │\n",
       "├─────────────────────────────────┼────────────────────────┼───────────────┤\n",
       "│ dense (\u001b[38;5;33mDense\u001b[0m)                   │ (\u001b[38;5;45mNone\u001b[0m, \u001b[38;5;34m1\u001b[0m)              │            \u001b[38;5;34m51\u001b[0m │\n",
       "└─────────────────────────────────┴────────────────────────┴───────────────┘\n"
      ]
     },
     "metadata": {},
     "output_type": "display_data"
    },
    {
     "data": {
      "text/html": [
       "<pre style=\"white-space:pre;overflow-x:auto;line-height:normal;font-family:Menlo,'DejaVu Sans Mono',consolas,'Courier New',monospace\"><span style=\"font-weight: bold\"> Total params: </span><span style=\"color: #00af00; text-decoration-color: #00af00\">2,416,851</span> (9.22 MB)\n",
       "</pre>\n"
      ],
      "text/plain": [
       "\u001b[1m Total params: \u001b[0m\u001b[38;5;34m2,416,851\u001b[0m (9.22 MB)\n"
      ]
     },
     "metadata": {},
     "output_type": "display_data"
    },
    {
     "data": {
      "text/html": [
       "<pre style=\"white-space:pre;overflow-x:auto;line-height:normal;font-family:Menlo,'DejaVu Sans Mono',consolas,'Courier New',monospace\"><span style=\"font-weight: bold\"> Trainable params: </span><span style=\"color: #00af00; text-decoration-color: #00af00\">2,416,851</span> (9.22 MB)\n",
       "</pre>\n"
      ],
      "text/plain": [
       "\u001b[1m Trainable params: \u001b[0m\u001b[38;5;34m2,416,851\u001b[0m (9.22 MB)\n"
      ]
     },
     "metadata": {},
     "output_type": "display_data"
    },
    {
     "data": {
      "text/html": [
       "<pre style=\"white-space:pre;overflow-x:auto;line-height:normal;font-family:Menlo,'DejaVu Sans Mono',consolas,'Courier New',monospace\"><span style=\"font-weight: bold\"> Non-trainable params: </span><span style=\"color: #00af00; text-decoration-color: #00af00\">0</span> (0.00 B)\n",
       "</pre>\n"
      ],
      "text/plain": [
       "\u001b[1m Non-trainable params: \u001b[0m\u001b[38;5;34m0\u001b[0m (0.00 B)\n"
      ]
     },
     "metadata": {},
     "output_type": "display_data"
    },
    {
     "name": "stdout",
     "output_type": "stream",
     "text": [
      "Epoch 1/5\n",
      "\u001b[1m13/15\u001b[0m \u001b[32m━━━━━━━━━━━━━━━━━\u001b[0m\u001b[37m━━━\u001b[0m \u001b[1m0s\u001b[0m 14ms/step - accuracy: 0.6353 - loss: 0.6631"
     ]
    },
    {
     "name": "stderr",
     "output_type": "stream",
     "text": [
      "/opt/homebrew/anaconda3/lib/python3.12/site-packages/keras/src/trainers/data_adapters/py_dataset_adapter.py:122: UserWarning: Your `PyDataset` class should call `super().__init__(**kwargs)` in its constructor. `**kwargs` can include `workers`, `use_multiprocessing`, `max_queue_size`. Do not pass these arguments to `fit()`, as they will be ignored.\n",
      "  self._warn_if_super_not_called()\n"
     ]
    },
    {
     "name": "stdout",
     "output_type": "stream",
     "text": [
      "\u001b[1m15/15\u001b[0m \u001b[32m━━━━━━━━━━━━━━━━━━━━\u001b[0m\u001b[37m\u001b[0m \u001b[1m1s\u001b[0m 28ms/step - accuracy: 0.6506 - loss: 0.7247 - val_accuracy: 1.0000 - val_loss: 0.0458\n",
      "Epoch 2/5\n",
      "\u001b[1m15/15\u001b[0m \u001b[32m━━━━━━━━━━━━━━━━━━━━\u001b[0m\u001b[37m\u001b[0m \u001b[1m0s\u001b[0m 15ms/step - accuracy: 0.9851 - loss: 0.0391 - val_accuracy: 0.7241 - val_loss: 0.3613\n",
      "Epoch 3/5\n",
      "\u001b[1m15/15\u001b[0m \u001b[32m━━━━━━━━━━━━━━━━━━━━\u001b[0m\u001b[37m\u001b[0m \u001b[1m0s\u001b[0m 15ms/step - accuracy: 1.0000 - loss: 0.0101 - val_accuracy: 0.6897 - val_loss: 0.6154\n",
      "Epoch 4/5\n",
      "\u001b[1m15/15\u001b[0m \u001b[32m━━━━━━━━━━━━━━━━━━━━\u001b[0m\u001b[37m\u001b[0m \u001b[1m0s\u001b[0m 15ms/step - accuracy: 1.0000 - loss: 8.1605e-04 - val_accuracy: 0.6897 - val_loss: 0.7605\n",
      "Epoch 5/5\n",
      "\u001b[1m15/15\u001b[0m \u001b[32m━━━━━━━━━━━━━━━━━━━━\u001b[0m\u001b[37m\u001b[0m \u001b[1m0s\u001b[0m 15ms/step - accuracy: 1.0000 - loss: 4.0003e-04 - val_accuracy: 0.6897 - val_loss: 0.8745\n",
      "\u001b[1m3/3\u001b[0m \u001b[32m━━━━━━━━━━━━━━━━━━━━\u001b[0m\u001b[37m\u001b[0m \u001b[1m0s\u001b[0m 30ms/step\n",
      "(28, 1) (28, 1)\n",
      "Results \n",
      "    Accuracy: 0.82\n",
      "    Mean Absolute Error: 0.18\n",
      "    Root Mean Squared Error: 0.42\n",
      "    False Positives: 0.00\n",
      "    Fales Negatives:  0.18\n",
      "    Precision: 1.00\n",
      "    Recall: 0.82\n",
      "    F1 Score: 0.90\n",
      "loaded normals: (17284, 12052),  loaded anomalies: (5404, 12052)\n",
      "current iteration: 1 - anomaly_size: (5404, 12052) - anomaly_percentage: 0 - current_size: 17284 -  max_size: 22688\n",
      "starting shape: (17284, 12052)\n",
      "anomalies start_time: 2019-11-20 12:04:46.244000 - end_time: 2020-01-13 17:27:59.514000\n",
      "random time rand selected 2019-12-13 17:03:39.244000 - 2019-12-13 17:33:39.244000\n",
      "0 anomalies selected\n",
      "ending shape: (17284, 12052)\n",
      "current iteration: 2 - anomaly_size: (5404, 12052) - anomaly_percentage: 0.0 - current_size: 17284 -  max_size: 22688\n",
      "starting shape: (17284, 12052)\n",
      "anomalies start_time: 2019-11-20 12:04:46.244000 - end_time: 2020-01-13 17:27:59.514000\n",
      "random time rand selected 2019-11-29 15:58:15.244000 - 2019-11-29 16:18:15.244000\n",
      "18 anomalies selected\n",
      "14 normals selected to be overwritten\n",
      "ending shape: (17288, 12052)\n",
      "current iteration: 3 - anomaly_size: (5386, 12052) - anomaly_percentage: 0.0010411846367422489 - current_size: 17288 -  max_size: 22688\n",
      "starting shape: (17288, 12052)\n",
      "anomalies start_time: 2019-11-20 12:04:46.244000 - end_time: 2020-01-13 17:27:59.514000\n",
      "random time rand selected 2019-12-05 06:12:06.244000 - 2019-12-05 06:45:06.244000\n",
      "0 anomalies selected\n",
      "ending shape: (17288, 12052)\n",
      "current iteration: 4 - anomaly_size: (5386, 12052) - anomaly_percentage: 0.0010411846367422489 - current_size: 17288 -  max_size: 22688\n",
      "starting shape: (17288, 12052)\n",
      "anomalies start_time: 2019-11-20 12:04:46.244000 - end_time: 2020-01-13 17:27:59.514000\n",
      "random time rand selected 2019-12-27 02:22:33.244000 - 2019-12-27 02:59:33.244000\n",
      "0 anomalies selected\n",
      "ending shape: (17288, 12052)\n",
      "current iteration: 5 - anomaly_size: (5386, 12052) - anomaly_percentage: 0.0010411846367422489 - current_size: 17288 -  max_size: 22688\n",
      "starting shape: (17288, 12052)\n",
      "anomalies start_time: 2019-11-20 12:04:46.244000 - end_time: 2020-01-13 17:27:59.514000\n",
      "random time rand selected 2019-12-01 16:50:11.244000 - 2019-12-01 17:46:11.244000\n",
      "0 anomalies selected\n",
      "ending shape: (17288, 12052)\n",
      "current iteration: 6 - anomaly_size: (5386, 12052) - anomaly_percentage: 0.0010411846367422489 - current_size: 17288 -  max_size: 22688\n",
      "starting shape: (17288, 12052)\n",
      "anomalies start_time: 2019-11-20 12:04:46.244000 - end_time: 2020-01-13 17:27:59.514000\n",
      "random time rand selected 2019-12-26 12:39:13.244000 - 2019-12-26 13:51:13.244000\n",
      "0 anomalies selected\n",
      "ending shape: (17288, 12052)\n",
      "current iteration: 7 - anomaly_size: (5386, 12052) - anomaly_percentage: 0.0010411846367422489 - current_size: 17288 -  max_size: 22688\n",
      "starting shape: (17288, 12052)\n",
      "anomalies start_time: 2019-11-20 12:04:46.244000 - end_time: 2020-01-13 17:27:59.514000\n",
      "random time rand selected 2020-01-12 08:08:27.244000 - 2020-01-12 10:44:27.244000\n",
      "0 anomalies selected\n",
      "ending shape: (17288, 12052)\n",
      "current iteration: 8 - anomaly_size: (5386, 12052) - anomaly_percentage: 0.0010411846367422489 - current_size: 17288 -  max_size: 22688\n",
      "starting shape: (17288, 12052)\n",
      "anomalies start_time: 2019-11-20 12:04:46.244000 - end_time: 2020-01-13 17:27:59.514000\n",
      "random time rand selected 2019-12-20 17:49:19.244000 - 2019-12-20 22:11:19.244000\n",
      "0 anomalies selected\n",
      "ending shape: (17288, 12052)\n",
      "current iteration: 9 - anomaly_size: (5386, 12052) - anomaly_percentage: 0.0010411846367422489 - current_size: 17288 -  max_size: 22688\n",
      "starting shape: (17288, 12052)\n",
      "anomalies start_time: 2019-11-20 12:04:46.244000 - end_time: 2020-01-13 17:27:59.514000\n",
      "random time rand selected 2020-01-03 10:05:49.244000 - 2020-01-03 18:52:49.244000\n",
      "0 anomalies selected\n",
      "ending shape: (17288, 12052)\n",
      "current iteration: 10 - anomaly_size: (5386, 12052) - anomaly_percentage: 0.0010411846367422489 - current_size: 17288 -  max_size: 22688\n",
      "starting shape: (17288, 12052)\n",
      "anomalies start_time: 2019-11-20 12:04:46.244000 - end_time: 2020-01-13 17:27:59.514000\n",
      "random time rand selected 2019-11-29 11:21:54.244000 - 2019-11-30 04:37:54.244000\n",
      "321 anomalies selected\n",
      "220 normals selected to be overwritten\n",
      "ending shape: (17389, 12052)\n",
      "current iteration: 11 - anomaly_size: (5065, 12052) - anomaly_percentage: 0.018459945942837425 - current_size: 17389 -  max_size: 22688\n",
      "starting shape: (17389, 12052)\n",
      "anomalies start_time: 2019-11-20 12:04:46.244000 - end_time: 2020-01-13 17:27:59.514000\n",
      "random time rand selected 2019-12-28 02:44:20.244000 - 2019-12-29 13:10:20.244000\n",
      "0 anomalies selected\n",
      "ending shape: (17389, 12052)\n",
      "current iteration: 12 - anomaly_size: (5065, 12052) - anomaly_percentage: 0.018459945942837425 - current_size: 17389 -  max_size: 22688\n",
      "starting shape: (17389, 12052)\n",
      "anomalies start_time: 2019-11-20 12:04:46.244000 - end_time: 2020-01-13 17:27:59.514000\n",
      "random time rand selected 2019-12-21 18:29:31.244000 - 2019-12-24 15:01:31.244000\n",
      "57 anomalies selected\n",
      "800 normals selected to be overwritten\n",
      "ending shape: (16646, 12052)\n",
      "current iteration: 13 - anomaly_size: (5008, 12052) - anomaly_percentage: 0.022708158116063918 - current_size: 16646 -  max_size: 22688\n",
      "starting shape: (16646, 12052)\n",
      "anomalies start_time: 2019-11-20 12:04:46.244000 - end_time: 2020-01-13 17:27:59.514000\n",
      "random time rand selected 2019-12-27 16:33:55.244000 - 2020-01-02 09:23:55.244000\n",
      "195 anomalies selected\n",
      "2335 normals selected to be overwritten\n",
      "ending shape: (14506, 12052)\n",
      "current iteration: 14 - anomaly_size: (4813, 12052) - anomaly_percentage: 0.039500896180890664 - current_size: 14506 -  max_size: 22688\n",
      "starting shape: (14506, 12052)\n",
      "anomalies start_time: 2019-11-20 12:04:46.244000 - end_time: 2020-01-13 17:27:59.514000\n",
      "random time rand selected 2019-12-14 22:51:54.244000 - 2019-12-26 08:02:54.244000\n",
      "1041 anomalies selected\n",
      "2263 normals selected to be overwritten\n",
      "ending shape: (13284, 12052)\n",
      "total iterations: 14 - final anomaly_percentage: 0.11720867208672087\n",
      "merged shape: (13284, 12052)\n"
     ]
    },
    {
     "data": {
      "text/html": [
       "<pre style=\"white-space:pre;overflow-x:auto;line-height:normal;font-family:Menlo,'DejaVu Sans Mono',consolas,'Courier New',monospace\"><span style=\"font-weight: bold\">Model: \"sequential_1\"</span>\n",
       "</pre>\n"
      ],
      "text/plain": [
       "\u001b[1mModel: \"sequential_1\"\u001b[0m\n"
      ]
     },
     "metadata": {},
     "output_type": "display_data"
    },
    {
     "data": {
      "text/html": [
       "<pre style=\"white-space:pre;overflow-x:auto;line-height:normal;font-family:Menlo,'DejaVu Sans Mono',consolas,'Courier New',monospace\">┏━━━━━━━━━━━━━━━━━━━━━━━━━━━━━━━━━┳━━━━━━━━━━━━━━━━━━━━━━━━┳━━━━━━━━━━━━━━━┓\n",
       "┃<span style=\"font-weight: bold\"> Layer (type)                    </span>┃<span style=\"font-weight: bold\"> Output Shape           </span>┃<span style=\"font-weight: bold\">       Param # </span>┃\n",
       "┡━━━━━━━━━━━━━━━━━━━━━━━━━━━━━━━━━╇━━━━━━━━━━━━━━━━━━━━━━━━╇━━━━━━━━━━━━━━━┩\n",
       "│ lstm_1 (<span style=\"color: #0087ff; text-decoration-color: #0087ff\">LSTM</span>)                   │ (<span style=\"color: #00d7ff; text-decoration-color: #00d7ff\">None</span>, <span style=\"color: #00af00; text-decoration-color: #00af00\">50</span>)             │     <span style=\"color: #00af00; text-decoration-color: #00af00\">2,416,800</span> │\n",
       "├─────────────────────────────────┼────────────────────────┼───────────────┤\n",
       "│ dense_1 (<span style=\"color: #0087ff; text-decoration-color: #0087ff\">Dense</span>)                 │ (<span style=\"color: #00d7ff; text-decoration-color: #00d7ff\">None</span>, <span style=\"color: #00af00; text-decoration-color: #00af00\">1</span>)              │            <span style=\"color: #00af00; text-decoration-color: #00af00\">51</span> │\n",
       "└─────────────────────────────────┴────────────────────────┴───────────────┘\n",
       "</pre>\n"
      ],
      "text/plain": [
       "┏━━━━━━━━━━━━━━━━━━━━━━━━━━━━━━━━━┳━━━━━━━━━━━━━━━━━━━━━━━━┳━━━━━━━━━━━━━━━┓\n",
       "┃\u001b[1m \u001b[0m\u001b[1mLayer (type)                   \u001b[0m\u001b[1m \u001b[0m┃\u001b[1m \u001b[0m\u001b[1mOutput Shape          \u001b[0m\u001b[1m \u001b[0m┃\u001b[1m \u001b[0m\u001b[1m      Param #\u001b[0m\u001b[1m \u001b[0m┃\n",
       "┡━━━━━━━━━━━━━━━━━━━━━━━━━━━━━━━━━╇━━━━━━━━━━━━━━━━━━━━━━━━╇━━━━━━━━━━━━━━━┩\n",
       "│ lstm_1 (\u001b[38;5;33mLSTM\u001b[0m)                   │ (\u001b[38;5;45mNone\u001b[0m, \u001b[38;5;34m50\u001b[0m)             │     \u001b[38;5;34m2,416,800\u001b[0m │\n",
       "├─────────────────────────────────┼────────────────────────┼───────────────┤\n",
       "│ dense_1 (\u001b[38;5;33mDense\u001b[0m)                 │ (\u001b[38;5;45mNone\u001b[0m, \u001b[38;5;34m1\u001b[0m)              │            \u001b[38;5;34m51\u001b[0m │\n",
       "└─────────────────────────────────┴────────────────────────┴───────────────┘\n"
      ]
     },
     "metadata": {},
     "output_type": "display_data"
    },
    {
     "data": {
      "text/html": [
       "<pre style=\"white-space:pre;overflow-x:auto;line-height:normal;font-family:Menlo,'DejaVu Sans Mono',consolas,'Courier New',monospace\"><span style=\"font-weight: bold\"> Total params: </span><span style=\"color: #00af00; text-decoration-color: #00af00\">2,416,851</span> (9.22 MB)\n",
       "</pre>\n"
      ],
      "text/plain": [
       "\u001b[1m Total params: \u001b[0m\u001b[38;5;34m2,416,851\u001b[0m (9.22 MB)\n"
      ]
     },
     "metadata": {},
     "output_type": "display_data"
    },
    {
     "data": {
      "text/html": [
       "<pre style=\"white-space:pre;overflow-x:auto;line-height:normal;font-family:Menlo,'DejaVu Sans Mono',consolas,'Courier New',monospace\"><span style=\"font-weight: bold\"> Trainable params: </span><span style=\"color: #00af00; text-decoration-color: #00af00\">2,416,851</span> (9.22 MB)\n",
       "</pre>\n"
      ],
      "text/plain": [
       "\u001b[1m Trainable params: \u001b[0m\u001b[38;5;34m2,416,851\u001b[0m (9.22 MB)\n"
      ]
     },
     "metadata": {},
     "output_type": "display_data"
    },
    {
     "data": {
      "text/html": [
       "<pre style=\"white-space:pre;overflow-x:auto;line-height:normal;font-family:Menlo,'DejaVu Sans Mono',consolas,'Courier New',monospace\"><span style=\"font-weight: bold\"> Non-trainable params: </span><span style=\"color: #00af00; text-decoration-color: #00af00\">0</span> (0.00 B)\n",
       "</pre>\n"
      ],
      "text/plain": [
       "\u001b[1m Non-trainable params: \u001b[0m\u001b[38;5;34m0\u001b[0m (0.00 B)\n"
      ]
     },
     "metadata": {},
     "output_type": "display_data"
    },
    {
     "name": "stdout",
     "output_type": "stream",
     "text": [
      "Epoch 1/5\n",
      "\u001b[1m 13/930\u001b[0m \u001b[37m━━━━━━━━━━━━━━━━━━━━\u001b[0m \u001b[1m12s\u001b[0m 13ms/step - accuracy: 0.6819 - loss: 1.1352"
     ]
    },
    {
     "name": "stderr",
     "output_type": "stream",
     "text": [
      "/opt/homebrew/anaconda3/lib/python3.12/site-packages/keras/src/trainers/data_adapters/py_dataset_adapter.py:122: UserWarning: Your `PyDataset` class should call `super().__init__(**kwargs)` in its constructor. `**kwargs` can include `workers`, `use_multiprocessing`, `max_queue_size`. Do not pass these arguments to `fit()`, as they will be ignored.\n",
      "  self._warn_if_super_not_called()\n"
     ]
    },
    {
     "name": "stdout",
     "output_type": "stream",
     "text": [
      "\u001b[1m930/930\u001b[0m \u001b[32m━━━━━━━━━━━━━━━━━━━━\u001b[0m\u001b[37m\u001b[0m \u001b[1m13s\u001b[0m 13ms/step - accuracy: 0.8920 - loss: 2.4959 - val_accuracy: 0.2729 - val_loss: 633.1342\n",
      "Epoch 2/5\n",
      "\u001b[1m930/930\u001b[0m \u001b[32m━━━━━━━━━━━━━━━━━━━━\u001b[0m\u001b[37m\u001b[0m \u001b[1m12s\u001b[0m 13ms/step - accuracy: 0.9997 - loss: 0.0012 - val_accuracy: 0.2704 - val_loss: 698.3663\n",
      "Epoch 3/5\n",
      "\u001b[1m930/930\u001b[0m \u001b[32m━━━━━━━━━━━━━━━━━━━━\u001b[0m\u001b[37m\u001b[0m \u001b[1m12s\u001b[0m 13ms/step - accuracy: 1.0000 - loss: 1.7362e-04 - val_accuracy: 0.2698 - val_loss: 705.4559\n",
      "Epoch 4/5\n",
      "\u001b[1m930/930\u001b[0m \u001b[32m━━━━━━━━━━━━━━━━━━━━\u001b[0m\u001b[37m\u001b[0m \u001b[1m12s\u001b[0m 13ms/step - accuracy: 1.0000 - loss: 2.3657e-05 - val_accuracy: 0.2693 - val_loss: 705.6420\n",
      "Epoch 5/5\n",
      "\u001b[1m930/930\u001b[0m \u001b[32m━━━━━━━━━━━━━━━━━━━━\u001b[0m\u001b[37m\u001b[0m \u001b[1m12s\u001b[0m 13ms/step - accuracy: 1.0000 - loss: 1.2445e-05 - val_accuracy: 0.2693 - val_loss: 705.4142\n",
      "\u001b[1m199/199\u001b[0m \u001b[32m━━━━━━━━━━━━━━━━━━━━\u001b[0m\u001b[37m\u001b[0m \u001b[1m1s\u001b[0m 3ms/step\n",
      "(1990, 1) (1990, 1)\n",
      "Results \n",
      "    Accuracy: 0.99\n",
      "    Mean Absolute Error: 0.01\n",
      "    Root Mean Squared Error: 0.09\n",
      "    False Positives: 0.00\n",
      "    Fales Negatives:  0.01\n",
      "    Precision: 1.00\n",
      "    Recall: 0.99\n",
      "    F1 Score: 1.00\n",
      "loaded normals: (2128, 12052),  loaded anomalies: (1332, 12052)\n",
      "current iteration: 1 - anomaly_size: (1332, 12052) - anomaly_percentage: 0 - current_size: 2128 -  max_size: 3460\n",
      "starting shape: (2128, 12052)\n",
      "anomalies start_time: 2019-12-18 21:40:43.828000 - end_time: 2020-01-14 01:25:31.180000\n",
      "random time rand selected 2020-01-07 20:59:04.828000 - 2020-01-07 21:21:04.828000\n",
      "0 anomalies selected\n",
      "ending shape: (2128, 12052)\n",
      "current iteration: 2 - anomaly_size: (1332, 12052) - anomaly_percentage: 0.0 - current_size: 2128 -  max_size: 3460\n",
      "starting shape: (2128, 12052)\n",
      "anomalies start_time: 2019-12-18 21:40:43.828000 - end_time: 2020-01-14 01:25:31.180000\n",
      "random time rand selected 2019-12-23 06:28:38.828000 - 2019-12-23 06:49:38.828000\n",
      "0 anomalies selected\n",
      "ending shape: (2128, 12052)\n",
      "current iteration: 3 - anomaly_size: (1332, 12052) - anomaly_percentage: 0.0 - current_size: 2128 -  max_size: 3460\n",
      "starting shape: (2128, 12052)\n",
      "anomalies start_time: 2019-12-18 21:40:43.828000 - end_time: 2020-01-14 01:25:31.180000\n",
      "random time rand selected 2020-01-02 02:15:37.828000 - 2020-01-02 02:51:37.828000\n",
      "0 anomalies selected\n",
      "ending shape: (2128, 12052)\n",
      "current iteration: 4 - anomaly_size: (1332, 12052) - anomaly_percentage: 0.0 - current_size: 2128 -  max_size: 3460\n",
      "starting shape: (2128, 12052)\n",
      "anomalies start_time: 2019-12-18 21:40:43.828000 - end_time: 2020-01-14 01:25:31.180000\n",
      "random time rand selected 2020-01-12 23:22:02.828000 - 2020-01-12 23:43:02.828000\n",
      "21 anomalies selected\n",
      "no normal data within range, appending anomalies\n",
      "ending shape: (2149, 12052)\n",
      "current iteration: 5 - anomaly_size: (1311, 12052) - anomaly_percentage: 0.009771986970684038 - current_size: 2149 -  max_size: 3460\n",
      "starting shape: (2149, 12052)\n",
      "anomalies start_time: 2019-12-18 21:40:43.828000 - end_time: 2020-01-14 01:25:31.180000\n",
      "random time rand selected 2020-01-06 14:54:04.828000 - 2020-01-06 15:54:04.828000\n",
      "0 anomalies selected\n",
      "ending shape: (2149, 12052)\n",
      "current iteration: 6 - anomaly_size: (1311, 12052) - anomaly_percentage: 0.009771986970684038 - current_size: 2149 -  max_size: 3460\n",
      "starting shape: (2149, 12052)\n",
      "anomalies start_time: 2019-12-18 21:40:43.828000 - end_time: 2020-01-14 01:25:31.180000\n",
      "random time rand selected 2020-01-11 11:11:21.828000 - 2020-01-11 12:29:21.828000\n",
      "0 anomalies selected\n",
      "ending shape: (2149, 12052)\n",
      "current iteration: 7 - anomaly_size: (1311, 12052) - anomaly_percentage: 0.009771986970684038 - current_size: 2149 -  max_size: 3460\n",
      "starting shape: (2149, 12052)\n",
      "anomalies start_time: 2019-12-18 21:40:43.828000 - end_time: 2020-01-14 01:25:31.180000\n",
      "random time rand selected 2019-12-28 09:54:48.828000 - 2019-12-28 12:20:48.828000\n",
      "0 anomalies selected\n",
      "ending shape: (2149, 12052)\n",
      "current iteration: 8 - anomaly_size: (1311, 12052) - anomaly_percentage: 0.009771986970684038 - current_size: 2149 -  max_size: 3460\n",
      "starting shape: (2149, 12052)\n",
      "anomalies start_time: 2019-12-18 21:40:43.828000 - end_time: 2020-01-14 01:25:31.180000\n",
      "random time rand selected 2019-12-30 14:05:26.828000 - 2019-12-30 18:42:26.828000\n",
      "0 anomalies selected\n",
      "ending shape: (2149, 12052)\n",
      "current iteration: 9 - anomaly_size: (1311, 12052) - anomaly_percentage: 0.009771986970684038 - current_size: 2149 -  max_size: 3460\n",
      "starting shape: (2149, 12052)\n",
      "anomalies start_time: 2019-12-18 21:40:43.828000 - end_time: 2020-01-14 01:25:31.180000\n",
      "random time rand selected 2019-12-22 02:26:48.828000 - 2019-12-22 11:19:48.828000\n",
      "0 anomalies selected\n",
      "ending shape: (2149, 12052)\n",
      "current iteration: 10 - anomaly_size: (1311, 12052) - anomaly_percentage: 0.009771986970684038 - current_size: 2149 -  max_size: 3460\n",
      "starting shape: (2149, 12052)\n",
      "anomalies start_time: 2019-12-18 21:40:43.828000 - end_time: 2020-01-14 01:25:31.180000\n",
      "random time rand selected 2020-01-09 16:09:15.828000 - 2020-01-10 09:33:15.828000\n",
      "0 anomalies selected\n",
      "ending shape: (2149, 12052)\n",
      "current iteration: 11 - anomaly_size: (1311, 12052) - anomaly_percentage: 0.009771986970684038 - current_size: 2149 -  max_size: 3460\n",
      "starting shape: (2149, 12052)\n",
      "anomalies start_time: 2019-12-18 21:40:43.828000 - end_time: 2020-01-14 01:25:31.180000\n",
      "random time rand selected 2020-01-12 03:11:09.828000 - 2020-01-13 13:29:09.828000\n",
      "213 anomalies selected\n",
      "21 normals selected to be overwritten\n",
      "ending shape: (2341, 12052)\n",
      "total iterations: 11 - final anomaly_percentage: 0.09098675779581375\n",
      "merged shape: (2341, 12052)\n"
     ]
    },
    {
     "data": {
      "text/html": [
       "<pre style=\"white-space:pre;overflow-x:auto;line-height:normal;font-family:Menlo,'DejaVu Sans Mono',consolas,'Courier New',monospace\"><span style=\"font-weight: bold\">Model: \"sequential_2\"</span>\n",
       "</pre>\n"
      ],
      "text/plain": [
       "\u001b[1mModel: \"sequential_2\"\u001b[0m\n"
      ]
     },
     "metadata": {},
     "output_type": "display_data"
    },
    {
     "data": {
      "text/html": [
       "<pre style=\"white-space:pre;overflow-x:auto;line-height:normal;font-family:Menlo,'DejaVu Sans Mono',consolas,'Courier New',monospace\">┏━━━━━━━━━━━━━━━━━━━━━━━━━━━━━━━━━┳━━━━━━━━━━━━━━━━━━━━━━━━┳━━━━━━━━━━━━━━━┓\n",
       "┃<span style=\"font-weight: bold\"> Layer (type)                    </span>┃<span style=\"font-weight: bold\"> Output Shape           </span>┃<span style=\"font-weight: bold\">       Param # </span>┃\n",
       "┡━━━━━━━━━━━━━━━━━━━━━━━━━━━━━━━━━╇━━━━━━━━━━━━━━━━━━━━━━━━╇━━━━━━━━━━━━━━━┩\n",
       "│ lstm_2 (<span style=\"color: #0087ff; text-decoration-color: #0087ff\">LSTM</span>)                   │ (<span style=\"color: #00d7ff; text-decoration-color: #00d7ff\">None</span>, <span style=\"color: #00af00; text-decoration-color: #00af00\">50</span>)             │     <span style=\"color: #00af00; text-decoration-color: #00af00\">2,416,800</span> │\n",
       "├─────────────────────────────────┼────────────────────────┼───────────────┤\n",
       "│ dense_2 (<span style=\"color: #0087ff; text-decoration-color: #0087ff\">Dense</span>)                 │ (<span style=\"color: #00d7ff; text-decoration-color: #00d7ff\">None</span>, <span style=\"color: #00af00; text-decoration-color: #00af00\">1</span>)              │            <span style=\"color: #00af00; text-decoration-color: #00af00\">51</span> │\n",
       "└─────────────────────────────────┴────────────────────────┴───────────────┘\n",
       "</pre>\n"
      ],
      "text/plain": [
       "┏━━━━━━━━━━━━━━━━━━━━━━━━━━━━━━━━━┳━━━━━━━━━━━━━━━━━━━━━━━━┳━━━━━━━━━━━━━━━┓\n",
       "┃\u001b[1m \u001b[0m\u001b[1mLayer (type)                   \u001b[0m\u001b[1m \u001b[0m┃\u001b[1m \u001b[0m\u001b[1mOutput Shape          \u001b[0m\u001b[1m \u001b[0m┃\u001b[1m \u001b[0m\u001b[1m      Param #\u001b[0m\u001b[1m \u001b[0m┃\n",
       "┡━━━━━━━━━━━━━━━━━━━━━━━━━━━━━━━━━╇━━━━━━━━━━━━━━━━━━━━━━━━╇━━━━━━━━━━━━━━━┩\n",
       "│ lstm_2 (\u001b[38;5;33mLSTM\u001b[0m)                   │ (\u001b[38;5;45mNone\u001b[0m, \u001b[38;5;34m50\u001b[0m)             │     \u001b[38;5;34m2,416,800\u001b[0m │\n",
       "├─────────────────────────────────┼────────────────────────┼───────────────┤\n",
       "│ dense_2 (\u001b[38;5;33mDense\u001b[0m)                 │ (\u001b[38;5;45mNone\u001b[0m, \u001b[38;5;34m1\u001b[0m)              │            \u001b[38;5;34m51\u001b[0m │\n",
       "└─────────────────────────────────┴────────────────────────┴───────────────┘\n"
      ]
     },
     "metadata": {},
     "output_type": "display_data"
    },
    {
     "data": {
      "text/html": [
       "<pre style=\"white-space:pre;overflow-x:auto;line-height:normal;font-family:Menlo,'DejaVu Sans Mono',consolas,'Courier New',monospace\"><span style=\"font-weight: bold\"> Total params: </span><span style=\"color: #00af00; text-decoration-color: #00af00\">2,416,851</span> (9.22 MB)\n",
       "</pre>\n"
      ],
      "text/plain": [
       "\u001b[1m Total params: \u001b[0m\u001b[38;5;34m2,416,851\u001b[0m (9.22 MB)\n"
      ]
     },
     "metadata": {},
     "output_type": "display_data"
    },
    {
     "data": {
      "text/html": [
       "<pre style=\"white-space:pre;overflow-x:auto;line-height:normal;font-family:Menlo,'DejaVu Sans Mono',consolas,'Courier New',monospace\"><span style=\"font-weight: bold\"> Trainable params: </span><span style=\"color: #00af00; text-decoration-color: #00af00\">2,416,851</span> (9.22 MB)\n",
       "</pre>\n"
      ],
      "text/plain": [
       "\u001b[1m Trainable params: \u001b[0m\u001b[38;5;34m2,416,851\u001b[0m (9.22 MB)\n"
      ]
     },
     "metadata": {},
     "output_type": "display_data"
    },
    {
     "data": {
      "text/html": [
       "<pre style=\"white-space:pre;overflow-x:auto;line-height:normal;font-family:Menlo,'DejaVu Sans Mono',consolas,'Courier New',monospace\"><span style=\"font-weight: bold\"> Non-trainable params: </span><span style=\"color: #00af00; text-decoration-color: #00af00\">0</span> (0.00 B)\n",
       "</pre>\n"
      ],
      "text/plain": [
       "\u001b[1m Non-trainable params: \u001b[0m\u001b[38;5;34m0\u001b[0m (0.00 B)\n"
      ]
     },
     "metadata": {},
     "output_type": "display_data"
    },
    {
     "name": "stdout",
     "output_type": "stream",
     "text": [
      "Epoch 1/5\n",
      "\u001b[1m 13/164\u001b[0m \u001b[32m━\u001b[0m\u001b[37m━━━━━━━━━━━━━━━━━━━\u001b[0m \u001b[1m2s\u001b[0m 13ms/step - accuracy: 0.9321 - loss: 0.5196"
     ]
    },
    {
     "name": "stderr",
     "output_type": "stream",
     "text": [
      "/opt/homebrew/anaconda3/lib/python3.12/site-packages/keras/src/trainers/data_adapters/py_dataset_adapter.py:122: UserWarning: Your `PyDataset` class should call `super().__init__(**kwargs)` in its constructor. `**kwargs` can include `workers`, `use_multiprocessing`, `max_queue_size`. Do not pass these arguments to `fit()`, as they will be ignored.\n",
      "  self._warn_if_super_not_called()\n"
     ]
    },
    {
     "name": "stdout",
     "output_type": "stream",
     "text": [
      "\u001b[1m164/164\u001b[0m \u001b[32m━━━━━━━━━━━━━━━━━━━━\u001b[0m\u001b[37m\u001b[0m \u001b[1m3s\u001b[0m 14ms/step - accuracy: 0.9197 - loss: 1.4899 - val_accuracy: 0.3954 - val_loss: 148.4732\n",
      "Epoch 2/5\n",
      "\u001b[1m164/164\u001b[0m \u001b[32m━━━━━━━━━━━━━━━━━━━━\u001b[0m\u001b[37m\u001b[0m \u001b[1m2s\u001b[0m 13ms/step - accuracy: 0.9877 - loss: 0.2024 - val_accuracy: 0.3926 - val_loss: 214.6509\n",
      "Epoch 3/5\n",
      "\u001b[1m164/164\u001b[0m \u001b[32m━━━━━━━━━━━━━━━━━━━━\u001b[0m\u001b[37m\u001b[0m \u001b[1m2s\u001b[0m 14ms/step - accuracy: 0.9973 - loss: 0.1562 - val_accuracy: 0.3926 - val_loss: 265.7021\n",
      "Epoch 4/5\n",
      "\u001b[1m164/164\u001b[0m \u001b[32m━━━━━━━━━━━━━━━━━━━━\u001b[0m\u001b[37m\u001b[0m \u001b[1m2s\u001b[0m 13ms/step - accuracy: 0.9982 - loss: 0.0251 - val_accuracy: 0.3926 - val_loss: 272.0491\n",
      "Epoch 5/5\n",
      "\u001b[1m164/164\u001b[0m \u001b[32m━━━━━━━━━━━━━━━━━━━━\u001b[0m\u001b[37m\u001b[0m \u001b[1m2s\u001b[0m 14ms/step - accuracy: 0.9997 - loss: 0.0078 - val_accuracy: 0.3926 - val_loss: 277.9669\n",
      "\u001b[1m35/35\u001b[0m \u001b[32m━━━━━━━━━━━━━━━━━━━━\u001b[0m\u001b[37m\u001b[0m \u001b[1m0s\u001b[0m 4ms/step\n",
      "(348, 1) (348, 1)\n",
      "Results \n",
      "    Accuracy: 1.00\n",
      "    Mean Absolute Error: 0.00\n",
      "    Root Mean Squared Error: 0.05\n",
      "    False Positives: 0.00\n",
      "    Fales Negatives:  0.00\n",
      "    Precision: 1.00\n",
      "    Recall: 1.00\n",
      "    F1 Score: 1.00\n",
      "loaded normals: (10114, 12052),  loaded anomalies: (42281, 12052)\n",
      "current iteration: 1 - anomaly_size: (42281, 12052) - anomaly_percentage: 0 - current_size: 10114 -  max_size: 52395\n",
      "starting shape: (10114, 12052)\n",
      "anomalies start_time: 2019-12-04 22:08:33.285000 - end_time: 2020-01-14 09:43:55.984000\n",
      "random time rand selected 2019-12-19 02:37:33.285000 - 2019-12-19 02:56:33.285000\n",
      "12 anomalies selected\n",
      "no normal data within range, appending anomalies\n",
      "ending shape: (10126, 12052)\n",
      "current iteration: 2 - anomaly_size: (42269, 12052) - anomaly_percentage: 0.0011850681414181316 - current_size: 10126 -  max_size: 52395\n",
      "starting shape: (10126, 12052)\n",
      "anomalies start_time: 2019-12-04 22:08:33.285000 - end_time: 2020-01-14 09:43:55.984000\n",
      "random time rand selected 2019-12-11 09:08:09.285000 - 2019-12-11 09:24:09.285000\n",
      "11 anomalies selected\n",
      "no normal data within range, appending anomalies\n",
      "ending shape: (10137, 12052)\n",
      "current iteration: 3 - anomaly_size: (42258, 12052) - anomaly_percentage: 0.002268915852816415 - current_size: 10137 -  max_size: 52395\n",
      "starting shape: (10137, 12052)\n",
      "anomalies start_time: 2019-12-04 22:08:33.285000 - end_time: 2020-01-14 09:43:55.984000\n",
      "random time rand selected 2019-12-22 15:30:38.285000 - 2019-12-22 16:06:38.285000\n",
      "24 anomalies selected\n",
      "no normal data within range, appending anomalies\n",
      "ending shape: (10161, 12052)\n",
      "current iteration: 4 - anomaly_size: (42234, 12052) - anomaly_percentage: 0.004625528983367779 - current_size: 10161 -  max_size: 52395\n",
      "starting shape: (10161, 12052)\n",
      "anomalies start_time: 2019-12-04 22:08:33.285000 - end_time: 2020-01-14 09:43:55.984000\n",
      "random time rand selected 2019-12-20 22:10:02.285000 - 2019-12-20 22:53:02.285000\n",
      "28 anomalies selected\n",
      "no normal data within range, appending anomalies\n",
      "ending shape: (10189, 12052)\n",
      "current iteration: 5 - anomaly_size: (42206, 12052) - anomaly_percentage: 0.007360879379723231 - current_size: 10189 -  max_size: 52395\n",
      "starting shape: (10189, 12052)\n",
      "anomalies start_time: 2019-12-04 22:08:33.285000 - end_time: 2020-01-14 09:43:55.984000\n",
      "random time rand selected 2019-12-19 15:18:12.285000 - 2019-12-19 16:07:12.285000\n",
      "31 anomalies selected\n",
      "no normal data within range, appending anomalies\n",
      "ending shape: (10220, 12052)\n",
      "current iteration: 6 - anomaly_size: (42175, 12052) - anomaly_percentage: 0.010371819960861057 - current_size: 10220 -  max_size: 52395\n",
      "starting shape: (10220, 12052)\n",
      "anomalies start_time: 2019-12-04 22:08:33.285000 - end_time: 2020-01-14 09:43:55.984000\n",
      "random time rand selected 2020-01-02 21:48:53.285000 - 2020-01-02 23:09:53.285000\n",
      "50 anomalies selected\n",
      "no normal data within range, appending anomalies\n",
      "ending shape: (10270, 12052)\n",
      "current iteration: 7 - anomaly_size: (42125, 12052) - anomaly_percentage: 0.015189873417721518 - current_size: 10270 -  max_size: 52395\n",
      "starting shape: (10270, 12052)\n",
      "anomalies start_time: 2019-12-04 22:08:33.285000 - end_time: 2020-01-14 09:43:55.984000\n",
      "random time rand selected 2020-01-09 16:39:37.285000 - 2020-01-09 19:13:37.285000\n",
      "120 anomalies selected\n",
      "130 normals selected to be overwritten\n",
      "ending shape: (10260, 12052)\n",
      "current iteration: 8 - anomaly_size: (42005, 12052) - anomaly_percentage: 0.026900584795321637 - current_size: 10260 -  max_size: 52395\n",
      "starting shape: (10260, 12052)\n",
      "anomalies start_time: 2019-12-04 22:08:33.285000 - end_time: 2020-01-14 09:43:55.984000\n",
      "random time rand selected 2019-12-21 18:12:28.285000 - 2019-12-21 22:38:28.285000\n",
      "174 anomalies selected\n",
      "no normal data within range, appending anomalies\n",
      "ending shape: (10434, 12052)\n",
      "current iteration: 9 - anomaly_size: (41831, 12052) - anomaly_percentage: 0.04312823461759632 - current_size: 10434 -  max_size: 52395\n",
      "starting shape: (10434, 12052)\n",
      "anomalies start_time: 2019-12-04 22:08:33.285000 - end_time: 2020-01-14 09:43:55.984000\n",
      "random time rand selected 2019-12-14 22:37:31.285000 - 2019-12-15 07:35:31.285000\n",
      "505 anomalies selected\n",
      "43 normals selected to be overwritten\n",
      "ending shape: (10896, 12052)\n",
      "total iterations: 9 - final anomaly_percentage: 0.08764684287812041\n",
      "merged shape: (10896, 12052)\n"
     ]
    },
    {
     "data": {
      "text/html": [
       "<pre style=\"white-space:pre;overflow-x:auto;line-height:normal;font-family:Menlo,'DejaVu Sans Mono',consolas,'Courier New',monospace\"><span style=\"font-weight: bold\">Model: \"sequential_3\"</span>\n",
       "</pre>\n"
      ],
      "text/plain": [
       "\u001b[1mModel: \"sequential_3\"\u001b[0m\n"
      ]
     },
     "metadata": {},
     "output_type": "display_data"
    },
    {
     "data": {
      "text/html": [
       "<pre style=\"white-space:pre;overflow-x:auto;line-height:normal;font-family:Menlo,'DejaVu Sans Mono',consolas,'Courier New',monospace\">┏━━━━━━━━━━━━━━━━━━━━━━━━━━━━━━━━━┳━━━━━━━━━━━━━━━━━━━━━━━━┳━━━━━━━━━━━━━━━┓\n",
       "┃<span style=\"font-weight: bold\"> Layer (type)                    </span>┃<span style=\"font-weight: bold\"> Output Shape           </span>┃<span style=\"font-weight: bold\">       Param # </span>┃\n",
       "┡━━━━━━━━━━━━━━━━━━━━━━━━━━━━━━━━━╇━━━━━━━━━━━━━━━━━━━━━━━━╇━━━━━━━━━━━━━━━┩\n",
       "│ lstm_3 (<span style=\"color: #0087ff; text-decoration-color: #0087ff\">LSTM</span>)                   │ (<span style=\"color: #00d7ff; text-decoration-color: #00d7ff\">None</span>, <span style=\"color: #00af00; text-decoration-color: #00af00\">50</span>)             │     <span style=\"color: #00af00; text-decoration-color: #00af00\">2,416,800</span> │\n",
       "├─────────────────────────────────┼────────────────────────┼───────────────┤\n",
       "│ dense_3 (<span style=\"color: #0087ff; text-decoration-color: #0087ff\">Dense</span>)                 │ (<span style=\"color: #00d7ff; text-decoration-color: #00d7ff\">None</span>, <span style=\"color: #00af00; text-decoration-color: #00af00\">1</span>)              │            <span style=\"color: #00af00; text-decoration-color: #00af00\">51</span> │\n",
       "└─────────────────────────────────┴────────────────────────┴───────────────┘\n",
       "</pre>\n"
      ],
      "text/plain": [
       "┏━━━━━━━━━━━━━━━━━━━━━━━━━━━━━━━━━┳━━━━━━━━━━━━━━━━━━━━━━━━┳━━━━━━━━━━━━━━━┓\n",
       "┃\u001b[1m \u001b[0m\u001b[1mLayer (type)                   \u001b[0m\u001b[1m \u001b[0m┃\u001b[1m \u001b[0m\u001b[1mOutput Shape          \u001b[0m\u001b[1m \u001b[0m┃\u001b[1m \u001b[0m\u001b[1m      Param #\u001b[0m\u001b[1m \u001b[0m┃\n",
       "┡━━━━━━━━━━━━━━━━━━━━━━━━━━━━━━━━━╇━━━━━━━━━━━━━━━━━━━━━━━━╇━━━━━━━━━━━━━━━┩\n",
       "│ lstm_3 (\u001b[38;5;33mLSTM\u001b[0m)                   │ (\u001b[38;5;45mNone\u001b[0m, \u001b[38;5;34m50\u001b[0m)             │     \u001b[38;5;34m2,416,800\u001b[0m │\n",
       "├─────────────────────────────────┼────────────────────────┼───────────────┤\n",
       "│ dense_3 (\u001b[38;5;33mDense\u001b[0m)                 │ (\u001b[38;5;45mNone\u001b[0m, \u001b[38;5;34m1\u001b[0m)              │            \u001b[38;5;34m51\u001b[0m │\n",
       "└─────────────────────────────────┴────────────────────────┴───────────────┘\n"
      ]
     },
     "metadata": {},
     "output_type": "display_data"
    },
    {
     "data": {
      "text/html": [
       "<pre style=\"white-space:pre;overflow-x:auto;line-height:normal;font-family:Menlo,'DejaVu Sans Mono',consolas,'Courier New',monospace\"><span style=\"font-weight: bold\"> Total params: </span><span style=\"color: #00af00; text-decoration-color: #00af00\">2,416,851</span> (9.22 MB)\n",
       "</pre>\n"
      ],
      "text/plain": [
       "\u001b[1m Total params: \u001b[0m\u001b[38;5;34m2,416,851\u001b[0m (9.22 MB)\n"
      ]
     },
     "metadata": {},
     "output_type": "display_data"
    },
    {
     "data": {
      "text/html": [
       "<pre style=\"white-space:pre;overflow-x:auto;line-height:normal;font-family:Menlo,'DejaVu Sans Mono',consolas,'Courier New',monospace\"><span style=\"font-weight: bold\"> Trainable params: </span><span style=\"color: #00af00; text-decoration-color: #00af00\">2,416,851</span> (9.22 MB)\n",
       "</pre>\n"
      ],
      "text/plain": [
       "\u001b[1m Trainable params: \u001b[0m\u001b[38;5;34m2,416,851\u001b[0m (9.22 MB)\n"
      ]
     },
     "metadata": {},
     "output_type": "display_data"
    },
    {
     "data": {
      "text/html": [
       "<pre style=\"white-space:pre;overflow-x:auto;line-height:normal;font-family:Menlo,'DejaVu Sans Mono',consolas,'Courier New',monospace\"><span style=\"font-weight: bold\"> Non-trainable params: </span><span style=\"color: #00af00; text-decoration-color: #00af00\">0</span> (0.00 B)\n",
       "</pre>\n"
      ],
      "text/plain": [
       "\u001b[1m Non-trainable params: \u001b[0m\u001b[38;5;34m0\u001b[0m (0.00 B)\n"
      ]
     },
     "metadata": {},
     "output_type": "display_data"
    },
    {
     "name": "stdout",
     "output_type": "stream",
     "text": [
      "Epoch 1/5\n",
      "\u001b[1m 13/763\u001b[0m \u001b[37m━━━━━━━━━━━━━━━━━━━━\u001b[0m \u001b[1m10s\u001b[0m 13ms/step - accuracy: 0.4703 - loss: 1.6034"
     ]
    },
    {
     "name": "stderr",
     "output_type": "stream",
     "text": [
      "/opt/homebrew/anaconda3/lib/python3.12/site-packages/keras/src/trainers/data_adapters/py_dataset_adapter.py:122: UserWarning: Your `PyDataset` class should call `super().__init__(**kwargs)` in its constructor. `**kwargs` can include `workers`, `use_multiprocessing`, `max_queue_size`. Do not pass these arguments to `fit()`, as they will be ignored.\n",
      "  self._warn_if_super_not_called()\n"
     ]
    },
    {
     "name": "stdout",
     "output_type": "stream",
     "text": [
      "\u001b[1m763/763\u001b[0m \u001b[32m━━━━━━━━━━━━━━━━━━━━\u001b[0m\u001b[37m\u001b[0m \u001b[1m12s\u001b[0m 15ms/step - accuracy: 0.8790 - loss: 2.4931 - val_accuracy: 0.4044 - val_loss: 535.9540\n",
      "Epoch 2/5\n",
      "\u001b[1m763/763\u001b[0m \u001b[32m━━━━━━━━━━━━━━━━━━━━\u001b[0m\u001b[37m\u001b[0m \u001b[1m10s\u001b[0m 14ms/step - accuracy: 0.9965 - loss: 0.0249 - val_accuracy: 0.4056 - val_loss: 539.2964\n",
      "Epoch 3/5\n",
      "\u001b[1m763/763\u001b[0m \u001b[32m━━━━━━━━━━━━━━━━━━━━\u001b[0m\u001b[37m\u001b[0m \u001b[1m10s\u001b[0m 14ms/step - accuracy: 1.0000 - loss: 6.0255e-04 - val_accuracy: 0.4069 - val_loss: 539.0807\n",
      "Epoch 4/5\n",
      "\u001b[1m763/763\u001b[0m \u001b[32m━━━━━━━━━━━━━━━━━━━━\u001b[0m\u001b[37m\u001b[0m \u001b[1m11s\u001b[0m 14ms/step - accuracy: 1.0000 - loss: 8.0473e-05 - val_accuracy: 0.4069 - val_loss: 538.9457\n",
      "Epoch 5/5\n",
      "\u001b[1m763/763\u001b[0m \u001b[32m━━━━━━━━━━━━━━━━━━━━\u001b[0m\u001b[37m\u001b[0m \u001b[1m10s\u001b[0m 14ms/step - accuracy: 1.0000 - loss: 5.0675e-05 - val_accuracy: 0.4069 - val_loss: 538.9932\n",
      "\u001b[1m164/164\u001b[0m \u001b[32m━━━━━━━━━━━━━━━━━━━━\u001b[0m\u001b[37m\u001b[0m \u001b[1m1s\u001b[0m 3ms/step\n",
      "(1631, 1) (1631, 1)\n",
      "Results \n",
      "    Accuracy: 0.99\n",
      "    Mean Absolute Error: 0.01\n",
      "    Root Mean Squared Error: 0.12\n",
      "    False Positives: 0.00\n",
      "    Fales Negatives:  0.01\n",
      "    Precision: 1.00\n",
      "    Recall: 0.99\n",
      "    F1 Score: 0.99\n",
      "loaded normals: (7920, 12052),  loaded anomalies: (55778, 12052)\n",
      "current iteration: 1 - anomaly_size: (55778, 12052) - anomaly_percentage: 0 - current_size: 7920 -  max_size: 63698\n",
      "starting shape: (7920, 12052)\n",
      "anomalies start_time: 2019-12-04 08:53:39.133000 - end_time: 2020-01-14 09:48:21.802000\n",
      "random time rand selected 2019-12-08 23:34:42.133000 - 2019-12-08 23:59:42.133000\n",
      "24 anomalies selected\n",
      "no normal data within range, appending anomalies\n",
      "ending shape: (7944, 12052)\n",
      "current iteration: 2 - anomaly_size: (55754, 12052) - anomaly_percentage: 0.0030211480362537764 - current_size: 7944 -  max_size: 63698\n",
      "starting shape: (7944, 12052)\n",
      "anomalies start_time: 2019-12-04 08:53:39.133000 - end_time: 2020-01-14 09:48:21.802000\n",
      "random time rand selected 2020-01-13 09:57:02.133000 - 2020-01-13 10:28:02.133000\n",
      "30 anomalies selected\n",
      "no normal data within range, appending anomalies\n",
      "ending shape: (7974, 12052)\n",
      "current iteration: 3 - anomaly_size: (55724, 12052) - anomaly_percentage: 0.006772009029345372 - current_size: 7974 -  max_size: 63698\n",
      "starting shape: (7974, 12052)\n",
      "anomalies start_time: 2019-12-04 08:53:39.133000 - end_time: 2020-01-14 09:48:21.802000\n",
      "random time rand selected 2019-12-11 08:54:22.133000 - 2019-12-11 09:25:22.133000\n",
      "35 anomalies selected\n",
      "29 normals selected to be overwritten\n",
      "ending shape: (7980, 12052)\n",
      "current iteration: 4 - anomaly_size: (55689, 12052) - anomaly_percentage: 0.011152882205513784 - current_size: 7980 -  max_size: 63698\n",
      "starting shape: (7980, 12052)\n",
      "anomalies start_time: 2019-12-04 08:53:39.133000 - end_time: 2020-01-14 09:48:21.802000\n",
      "random time rand selected 2019-12-24 22:07:41.133000 - 2019-12-24 22:51:41.133000\n",
      "38 anomalies selected\n",
      "no normal data within range, appending anomalies\n",
      "ending shape: (8018, 12052)\n",
      "current iteration: 5 - anomaly_size: (55651, 12052) - anomaly_percentage: 0.015839361436767275 - current_size: 8018 -  max_size: 63698\n",
      "starting shape: (8018, 12052)\n",
      "anomalies start_time: 2019-12-04 08:53:39.133000 - end_time: 2020-01-14 09:48:21.802000\n",
      "random time rand selected 2019-12-26 19:55:19.133000 - 2019-12-26 20:49:19.133000\n",
      "47 anomalies selected\n",
      "no normal data within range, appending anomalies\n",
      "ending shape: (8065, 12052)\n",
      "current iteration: 6 - anomaly_size: (55604, 12052) - anomaly_percentage: 0.02157470551766894 - current_size: 8065 -  max_size: 63698\n",
      "starting shape: (8065, 12052)\n",
      "anomalies start_time: 2019-12-04 08:53:39.133000 - end_time: 2020-01-14 09:48:21.802000\n",
      "random time rand selected 2019-12-30 01:57:42.133000 - 2019-12-30 03:18:42.133000\n",
      "70 anomalies selected\n",
      "no normal data within range, appending anomalies\n",
      "ending shape: (8135, 12052)\n",
      "current iteration: 7 - anomaly_size: (55534, 12052) - anomaly_percentage: 0.02999385371850031 - current_size: 8135 -  max_size: 63698\n",
      "starting shape: (8135, 12052)\n",
      "anomalies start_time: 2019-12-04 08:53:39.133000 - end_time: 2020-01-14 09:48:21.802000\n",
      "random time rand selected 2019-12-11 18:02:31.133000 - 2019-12-11 20:22:31.133000\n",
      "268 anomalies selected\n",
      "no normal data within range, appending anomalies\n",
      "ending shape: (8403, 12052)\n",
      "total iterations: 7 - final anomaly_percentage: 0.06093062001666072\n",
      "merged shape: (8403, 12052)\n"
     ]
    },
    {
     "data": {
      "text/html": [
       "<pre style=\"white-space:pre;overflow-x:auto;line-height:normal;font-family:Menlo,'DejaVu Sans Mono',consolas,'Courier New',monospace\"><span style=\"font-weight: bold\">Model: \"sequential_4\"</span>\n",
       "</pre>\n"
      ],
      "text/plain": [
       "\u001b[1mModel: \"sequential_4\"\u001b[0m\n"
      ]
     },
     "metadata": {},
     "output_type": "display_data"
    },
    {
     "data": {
      "text/html": [
       "<pre style=\"white-space:pre;overflow-x:auto;line-height:normal;font-family:Menlo,'DejaVu Sans Mono',consolas,'Courier New',monospace\">┏━━━━━━━━━━━━━━━━━━━━━━━━━━━━━━━━━┳━━━━━━━━━━━━━━━━━━━━━━━━┳━━━━━━━━━━━━━━━┓\n",
       "┃<span style=\"font-weight: bold\"> Layer (type)                    </span>┃<span style=\"font-weight: bold\"> Output Shape           </span>┃<span style=\"font-weight: bold\">       Param # </span>┃\n",
       "┡━━━━━━━━━━━━━━━━━━━━━━━━━━━━━━━━━╇━━━━━━━━━━━━━━━━━━━━━━━━╇━━━━━━━━━━━━━━━┩\n",
       "│ lstm_4 (<span style=\"color: #0087ff; text-decoration-color: #0087ff\">LSTM</span>)                   │ (<span style=\"color: #00d7ff; text-decoration-color: #00d7ff\">None</span>, <span style=\"color: #00af00; text-decoration-color: #00af00\">50</span>)             │     <span style=\"color: #00af00; text-decoration-color: #00af00\">2,416,800</span> │\n",
       "├─────────────────────────────────┼────────────────────────┼───────────────┤\n",
       "│ dense_4 (<span style=\"color: #0087ff; text-decoration-color: #0087ff\">Dense</span>)                 │ (<span style=\"color: #00d7ff; text-decoration-color: #00d7ff\">None</span>, <span style=\"color: #00af00; text-decoration-color: #00af00\">1</span>)              │            <span style=\"color: #00af00; text-decoration-color: #00af00\">51</span> │\n",
       "└─────────────────────────────────┴────────────────────────┴───────────────┘\n",
       "</pre>\n"
      ],
      "text/plain": [
       "┏━━━━━━━━━━━━━━━━━━━━━━━━━━━━━━━━━┳━━━━━━━━━━━━━━━━━━━━━━━━┳━━━━━━━━━━━━━━━┓\n",
       "┃\u001b[1m \u001b[0m\u001b[1mLayer (type)                   \u001b[0m\u001b[1m \u001b[0m┃\u001b[1m \u001b[0m\u001b[1mOutput Shape          \u001b[0m\u001b[1m \u001b[0m┃\u001b[1m \u001b[0m\u001b[1m      Param #\u001b[0m\u001b[1m \u001b[0m┃\n",
       "┡━━━━━━━━━━━━━━━━━━━━━━━━━━━━━━━━━╇━━━━━━━━━━━━━━━━━━━━━━━━╇━━━━━━━━━━━━━━━┩\n",
       "│ lstm_4 (\u001b[38;5;33mLSTM\u001b[0m)                   │ (\u001b[38;5;45mNone\u001b[0m, \u001b[38;5;34m50\u001b[0m)             │     \u001b[38;5;34m2,416,800\u001b[0m │\n",
       "├─────────────────────────────────┼────────────────────────┼───────────────┤\n",
       "│ dense_4 (\u001b[38;5;33mDense\u001b[0m)                 │ (\u001b[38;5;45mNone\u001b[0m, \u001b[38;5;34m1\u001b[0m)              │            \u001b[38;5;34m51\u001b[0m │\n",
       "└─────────────────────────────────┴────────────────────────┴───────────────┘\n"
      ]
     },
     "metadata": {},
     "output_type": "display_data"
    },
    {
     "data": {
      "text/html": [
       "<pre style=\"white-space:pre;overflow-x:auto;line-height:normal;font-family:Menlo,'DejaVu Sans Mono',consolas,'Courier New',monospace\"><span style=\"font-weight: bold\"> Total params: </span><span style=\"color: #00af00; text-decoration-color: #00af00\">2,416,851</span> (9.22 MB)\n",
       "</pre>\n"
      ],
      "text/plain": [
       "\u001b[1m Total params: \u001b[0m\u001b[38;5;34m2,416,851\u001b[0m (9.22 MB)\n"
      ]
     },
     "metadata": {},
     "output_type": "display_data"
    },
    {
     "data": {
      "text/html": [
       "<pre style=\"white-space:pre;overflow-x:auto;line-height:normal;font-family:Menlo,'DejaVu Sans Mono',consolas,'Courier New',monospace\"><span style=\"font-weight: bold\"> Trainable params: </span><span style=\"color: #00af00; text-decoration-color: #00af00\">2,416,851</span> (9.22 MB)\n",
       "</pre>\n"
      ],
      "text/plain": [
       "\u001b[1m Trainable params: \u001b[0m\u001b[38;5;34m2,416,851\u001b[0m (9.22 MB)\n"
      ]
     },
     "metadata": {},
     "output_type": "display_data"
    },
    {
     "data": {
      "text/html": [
       "<pre style=\"white-space:pre;overflow-x:auto;line-height:normal;font-family:Menlo,'DejaVu Sans Mono',consolas,'Courier New',monospace\"><span style=\"font-weight: bold\"> Non-trainable params: </span><span style=\"color: #00af00; text-decoration-color: #00af00\">0</span> (0.00 B)\n",
       "</pre>\n"
      ],
      "text/plain": [
       "\u001b[1m Non-trainable params: \u001b[0m\u001b[38;5;34m0\u001b[0m (0.00 B)\n"
      ]
     },
     "metadata": {},
     "output_type": "display_data"
    },
    {
     "name": "stdout",
     "output_type": "stream",
     "text": [
      "Epoch 1/5\n",
      "\u001b[1m 13/588\u001b[0m \u001b[37m━━━━━━━━━━━━━━━━━━━━\u001b[0m \u001b[1m7s\u001b[0m 14ms/step - accuracy: 0.7832 - loss: 2.3519 "
     ]
    },
    {
     "name": "stderr",
     "output_type": "stream",
     "text": [
      "/opt/homebrew/anaconda3/lib/python3.12/site-packages/keras/src/trainers/data_adapters/py_dataset_adapter.py:122: UserWarning: Your `PyDataset` class should call `super().__init__(**kwargs)` in its constructor. `**kwargs` can include `workers`, `use_multiprocessing`, `max_queue_size`. Do not pass these arguments to `fit()`, as they will be ignored.\n",
      "  self._warn_if_super_not_called()\n"
     ]
    },
    {
     "name": "stdout",
     "output_type": "stream",
     "text": [
      "\u001b[1m588/588\u001b[0m \u001b[32m━━━━━━━━━━━━━━━━━━━━\u001b[0m\u001b[37m\u001b[0m \u001b[1m9s\u001b[0m 14ms/step - accuracy: 0.8619 - loss: 3.0896 - val_accuracy: 0.5715 - val_loss: 308.0615\n",
      "Epoch 2/5\n",
      "\u001b[1m588/588\u001b[0m \u001b[32m━━━━━━━━━━━━━━━━━━━━\u001b[0m\u001b[37m\u001b[0m \u001b[1m8s\u001b[0m 13ms/step - accuracy: 0.9930 - loss: 0.0618 - val_accuracy: 0.5755 - val_loss: 324.3051\n",
      "Epoch 3/5\n",
      "\u001b[1m588/588\u001b[0m \u001b[32m━━━━━━━━━━━━━━━━━━━━\u001b[0m\u001b[37m\u001b[0m \u001b[1m8s\u001b[0m 13ms/step - accuracy: 0.9996 - loss: 0.0014 - val_accuracy: 0.5747 - val_loss: 326.4585\n",
      "Epoch 4/5\n",
      "\u001b[1m588/588\u001b[0m \u001b[32m━━━━━━━━━━━━━━━━━━━━\u001b[0m\u001b[37m\u001b[0m \u001b[1m8s\u001b[0m 13ms/step - accuracy: 1.0000 - loss: 2.0394e-04 - val_accuracy: 0.5747 - val_loss: 327.0076\n",
      "Epoch 5/5\n",
      "\u001b[1m588/588\u001b[0m \u001b[32m━━━━━━━━━━━━━━━━━━━━\u001b[0m\u001b[37m\u001b[0m \u001b[1m8s\u001b[0m 13ms/step - accuracy: 1.0000 - loss: 1.2664e-04 - val_accuracy: 0.5747 - val_loss: 327.5013\n",
      "\u001b[1m126/126\u001b[0m \u001b[32m━━━━━━━━━━━━━━━━━━━━\u001b[0m\u001b[37m\u001b[0m \u001b[1m0s\u001b[0m 3ms/step\n",
      "(1257, 1) (1257, 1)\n",
      "Results \n",
      "    Accuracy: 0.96\n",
      "    Mean Absolute Error: 0.04\n",
      "    Root Mean Squared Error: 0.19\n",
      "    False Positives: 0.00\n",
      "    Fales Negatives:  0.04\n",
      "    Precision: 1.00\n",
      "    Recall: 0.96\n",
      "    F1 Score: 0.98\n",
      "loaded normals: (3221, 12052),  loaded anomalies: (15358, 12052)\n",
      "current iteration: 1 - anomaly_size: (15358, 12052) - anomaly_percentage: 0 - current_size: 3221 -  max_size: 18579\n",
      "starting shape: (3221, 12052)\n",
      "anomalies start_time: 2019-11-20 10:20:29.186000 - end_time: 2020-01-14 09:54:29.879000\n",
      "random time rand selected 2020-01-05 13:34:16.186000 - 2020-01-05 13:42:16.186000\n",
      "0 anomalies selected\n",
      "ending shape: (3221, 12052)\n",
      "current iteration: 2 - anomaly_size: (15358, 12052) - anomaly_percentage: 0.0 - current_size: 3221 -  max_size: 18579\n",
      "starting shape: (3221, 12052)\n",
      "anomalies start_time: 2019-11-20 10:20:29.186000 - end_time: 2020-01-14 09:54:29.879000\n",
      "random time rand selected 2019-12-21 00:54:42.186000 - 2019-12-21 01:16:42.186000\n",
      "0 anomalies selected\n",
      "ending shape: (3221, 12052)\n",
      "current iteration: 3 - anomaly_size: (15358, 12052) - anomaly_percentage: 0.0 - current_size: 3221 -  max_size: 18579\n",
      "starting shape: (3221, 12052)\n",
      "anomalies start_time: 2019-11-20 10:20:29.186000 - end_time: 2020-01-14 09:54:29.879000\n",
      "random time rand selected 2020-01-04 17:32:05.186000 - 2020-01-04 18:07:05.186000\n",
      "25 anomalies selected\n",
      "no normal data within range, appending anomalies\n",
      "ending shape: (3246, 12052)\n",
      "current iteration: 4 - anomaly_size: (15333, 12052) - anomaly_percentage: 0.007701786814540973 - current_size: 3246 -  max_size: 18579\n",
      "starting shape: (3246, 12052)\n",
      "anomalies start_time: 2019-11-20 10:20:29.186000 - end_time: 2020-01-14 09:54:29.879000\n",
      "random time rand selected 2019-12-26 14:26:38.186000 - 2019-12-26 14:57:38.186000\n",
      "14 anomalies selected\n",
      "no normal data within range, appending anomalies\n",
      "ending shape: (3260, 12052)\n",
      "current iteration: 5 - anomaly_size: (15319, 12052) - anomaly_percentage: 0.01196319018404908 - current_size: 3260 -  max_size: 18579\n",
      "starting shape: (3260, 12052)\n",
      "anomalies start_time: 2019-11-20 10:20:29.186000 - end_time: 2020-01-14 09:54:29.879000\n",
      "random time rand selected 2019-12-30 18:46:48.186000 - 2019-12-30 19:35:48.186000\n",
      "46 anomalies selected\n",
      "no normal data within range, appending anomalies\n",
      "ending shape: (3306, 12052)\n",
      "current iteration: 6 - anomaly_size: (15273, 12052) - anomaly_percentage: 0.02571082879612825 - current_size: 3306 -  max_size: 18579\n",
      "starting shape: (3306, 12052)\n",
      "anomalies start_time: 2019-11-20 10:20:29.186000 - end_time: 2020-01-14 09:54:29.879000\n",
      "random time rand selected 2019-12-31 21:31:50.186000 - 2019-12-31 22:56:50.186000\n",
      "46 anomalies selected\n",
      "no normal data within range, appending anomalies\n",
      "ending shape: (3352, 12052)\n",
      "current iteration: 7 - anomaly_size: (15227, 12052) - anomaly_percentage: 0.039081145584725537 - current_size: 3352 -  max_size: 18579\n",
      "starting shape: (3352, 12052)\n",
      "anomalies start_time: 2019-11-20 10:20:29.186000 - end_time: 2020-01-14 09:54:29.879000\n",
      "random time rand selected 2019-11-26 05:00:53.186000 - 2019-11-26 07:36:53.186000\n",
      "0 anomalies selected\n",
      "ending shape: (3352, 12052)\n",
      "current iteration: 8 - anomaly_size: (15227, 12052) - anomaly_percentage: 0.039081145584725537 - current_size: 3352 -  max_size: 18579\n",
      "starting shape: (3352, 12052)\n",
      "anomalies start_time: 2019-11-20 10:20:29.186000 - end_time: 2020-01-14 09:54:29.879000\n",
      "random time rand selected 2019-12-30 05:21:49.186000 - 2019-12-30 09:46:49.186000\n",
      "0 anomalies selected\n",
      "ending shape: (3352, 12052)\n",
      "current iteration: 9 - anomaly_size: (15227, 12052) - anomaly_percentage: 0.039081145584725537 - current_size: 3352 -  max_size: 18579\n",
      "starting shape: (3352, 12052)\n",
      "anomalies start_time: 2019-11-20 10:20:29.186000 - end_time: 2020-01-14 09:54:29.879000\n",
      "random time rand selected 2019-12-22 23:40:56.186000 - 2019-12-23 08:17:56.186000\n",
      "10 anomalies selected\n",
      "no normal data within range, appending anomalies\n",
      "ending shape: (3362, 12052)\n",
      "current iteration: 10 - anomaly_size: (15217, 12052) - anomaly_percentage: 0.041939321832242714 - current_size: 3362 -  max_size: 18579\n",
      "starting shape: (3362, 12052)\n",
      "anomalies start_time: 2019-11-20 10:20:29.186000 - end_time: 2020-01-14 09:54:29.879000\n",
      "random time rand selected 2019-11-26 17:30:28.186000 - 2019-11-27 10:48:28.186000\n",
      "210 anomalies selected\n",
      "no normal data within range, appending anomalies\n",
      "ending shape: (3572, 12052)\n",
      "total iterations: 10 - final anomaly_percentage: 0.0982642777155655\n",
      "merged shape: (3572, 12052)\n"
     ]
    },
    {
     "data": {
      "text/html": [
       "<pre style=\"white-space:pre;overflow-x:auto;line-height:normal;font-family:Menlo,'DejaVu Sans Mono',consolas,'Courier New',monospace\"><span style=\"font-weight: bold\">Model: \"sequential_5\"</span>\n",
       "</pre>\n"
      ],
      "text/plain": [
       "\u001b[1mModel: \"sequential_5\"\u001b[0m\n"
      ]
     },
     "metadata": {},
     "output_type": "display_data"
    },
    {
     "data": {
      "text/html": [
       "<pre style=\"white-space:pre;overflow-x:auto;line-height:normal;font-family:Menlo,'DejaVu Sans Mono',consolas,'Courier New',monospace\">┏━━━━━━━━━━━━━━━━━━━━━━━━━━━━━━━━━┳━━━━━━━━━━━━━━━━━━━━━━━━┳━━━━━━━━━━━━━━━┓\n",
       "┃<span style=\"font-weight: bold\"> Layer (type)                    </span>┃<span style=\"font-weight: bold\"> Output Shape           </span>┃<span style=\"font-weight: bold\">       Param # </span>┃\n",
       "┡━━━━━━━━━━━━━━━━━━━━━━━━━━━━━━━━━╇━━━━━━━━━━━━━━━━━━━━━━━━╇━━━━━━━━━━━━━━━┩\n",
       "│ lstm_5 (<span style=\"color: #0087ff; text-decoration-color: #0087ff\">LSTM</span>)                   │ (<span style=\"color: #00d7ff; text-decoration-color: #00d7ff\">None</span>, <span style=\"color: #00af00; text-decoration-color: #00af00\">50</span>)             │     <span style=\"color: #00af00; text-decoration-color: #00af00\">2,416,800</span> │\n",
       "├─────────────────────────────────┼────────────────────────┼───────────────┤\n",
       "│ dense_5 (<span style=\"color: #0087ff; text-decoration-color: #0087ff\">Dense</span>)                 │ (<span style=\"color: #00d7ff; text-decoration-color: #00d7ff\">None</span>, <span style=\"color: #00af00; text-decoration-color: #00af00\">1</span>)              │            <span style=\"color: #00af00; text-decoration-color: #00af00\">51</span> │\n",
       "└─────────────────────────────────┴────────────────────────┴───────────────┘\n",
       "</pre>\n"
      ],
      "text/plain": [
       "┏━━━━━━━━━━━━━━━━━━━━━━━━━━━━━━━━━┳━━━━━━━━━━━━━━━━━━━━━━━━┳━━━━━━━━━━━━━━━┓\n",
       "┃\u001b[1m \u001b[0m\u001b[1mLayer (type)                   \u001b[0m\u001b[1m \u001b[0m┃\u001b[1m \u001b[0m\u001b[1mOutput Shape          \u001b[0m\u001b[1m \u001b[0m┃\u001b[1m \u001b[0m\u001b[1m      Param #\u001b[0m\u001b[1m \u001b[0m┃\n",
       "┡━━━━━━━━━━━━━━━━━━━━━━━━━━━━━━━━━╇━━━━━━━━━━━━━━━━━━━━━━━━╇━━━━━━━━━━━━━━━┩\n",
       "│ lstm_5 (\u001b[38;5;33mLSTM\u001b[0m)                   │ (\u001b[38;5;45mNone\u001b[0m, \u001b[38;5;34m50\u001b[0m)             │     \u001b[38;5;34m2,416,800\u001b[0m │\n",
       "├─────────────────────────────────┼────────────────────────┼───────────────┤\n",
       "│ dense_5 (\u001b[38;5;33mDense\u001b[0m)                 │ (\u001b[38;5;45mNone\u001b[0m, \u001b[38;5;34m1\u001b[0m)              │            \u001b[38;5;34m51\u001b[0m │\n",
       "└─────────────────────────────────┴────────────────────────┴───────────────┘\n"
      ]
     },
     "metadata": {},
     "output_type": "display_data"
    },
    {
     "data": {
      "text/html": [
       "<pre style=\"white-space:pre;overflow-x:auto;line-height:normal;font-family:Menlo,'DejaVu Sans Mono',consolas,'Courier New',monospace\"><span style=\"font-weight: bold\"> Total params: </span><span style=\"color: #00af00; text-decoration-color: #00af00\">2,416,851</span> (9.22 MB)\n",
       "</pre>\n"
      ],
      "text/plain": [
       "\u001b[1m Total params: \u001b[0m\u001b[38;5;34m2,416,851\u001b[0m (9.22 MB)\n"
      ]
     },
     "metadata": {},
     "output_type": "display_data"
    },
    {
     "data": {
      "text/html": [
       "<pre style=\"white-space:pre;overflow-x:auto;line-height:normal;font-family:Menlo,'DejaVu Sans Mono',consolas,'Courier New',monospace\"><span style=\"font-weight: bold\"> Trainable params: </span><span style=\"color: #00af00; text-decoration-color: #00af00\">2,416,851</span> (9.22 MB)\n",
       "</pre>\n"
      ],
      "text/plain": [
       "\u001b[1m Trainable params: \u001b[0m\u001b[38;5;34m2,416,851\u001b[0m (9.22 MB)\n"
      ]
     },
     "metadata": {},
     "output_type": "display_data"
    },
    {
     "data": {
      "text/html": [
       "<pre style=\"white-space:pre;overflow-x:auto;line-height:normal;font-family:Menlo,'DejaVu Sans Mono',consolas,'Courier New',monospace\"><span style=\"font-weight: bold\"> Non-trainable params: </span><span style=\"color: #00af00; text-decoration-color: #00af00\">0</span> (0.00 B)\n",
       "</pre>\n"
      ],
      "text/plain": [
       "\u001b[1m Non-trainable params: \u001b[0m\u001b[38;5;34m0\u001b[0m (0.00 B)\n"
      ]
     },
     "metadata": {},
     "output_type": "display_data"
    },
    {
     "name": "stdout",
     "output_type": "stream",
     "text": [
      "Epoch 1/5\n",
      "\u001b[1m 12/250\u001b[0m \u001b[37m━━━━━━━━━━━━━━━━━━━━\u001b[0m \u001b[1m3s\u001b[0m 15ms/step - accuracy: 0.9071 - loss: 0.6780 "
     ]
    },
    {
     "name": "stderr",
     "output_type": "stream",
     "text": [
      "/opt/homebrew/anaconda3/lib/python3.12/site-packages/keras/src/trainers/data_adapters/py_dataset_adapter.py:122: UserWarning: Your `PyDataset` class should call `super().__init__(**kwargs)` in its constructor. `**kwargs` can include `workers`, `use_multiprocessing`, `max_queue_size`. Do not pass these arguments to `fit()`, as they will be ignored.\n",
      "  self._warn_if_super_not_called()\n"
     ]
    },
    {
     "name": "stdout",
     "output_type": "stream",
     "text": [
      "\u001b[1m250/250\u001b[0m \u001b[32m━━━━━━━━━━━━━━━━━━━━\u001b[0m\u001b[37m\u001b[0m \u001b[1m4s\u001b[0m 14ms/step - accuracy: 0.8918 - loss: 2.5202 - val_accuracy: 0.4278 - val_loss: 253.0496\n",
      "Epoch 2/5\n",
      "\u001b[1m250/250\u001b[0m \u001b[32m━━━━━━━━━━━━━━━━━━━━\u001b[0m\u001b[37m\u001b[0m \u001b[1m4s\u001b[0m 14ms/step - accuracy: 0.9844 - loss: 0.3102 - val_accuracy: 0.4259 - val_loss: 317.3947\n",
      "Epoch 3/5\n",
      "\u001b[1m250/250\u001b[0m \u001b[32m━━━━━━━━━━━━━━━━━━━━\u001b[0m\u001b[37m\u001b[0m \u001b[1m4s\u001b[0m 16ms/step - accuracy: 0.9948 - loss: 0.0611 - val_accuracy: 0.4259 - val_loss: 329.0220\n",
      "Epoch 4/5\n",
      "\u001b[1m250/250\u001b[0m \u001b[32m━━━━━━━━━━━━━━━━━━━━\u001b[0m\u001b[37m\u001b[0m \u001b[1m4s\u001b[0m 15ms/step - accuracy: 0.9979 - loss: 0.0171 - val_accuracy: 0.4240 - val_loss: 330.9217\n",
      "Epoch 5/5\n",
      "\u001b[1m250/250\u001b[0m \u001b[32m━━━━━━━━━━━━━━━━━━━━\u001b[0m\u001b[37m\u001b[0m \u001b[1m4s\u001b[0m 15ms/step - accuracy: 0.9983 - loss: 0.0024 - val_accuracy: 0.4240 - val_loss: 331.4297\n",
      "\u001b[1m54/54\u001b[0m \u001b[32m━━━━━━━━━━━━━━━━━━━━\u001b[0m\u001b[37m\u001b[0m \u001b[1m0s\u001b[0m 4ms/step\n",
      "(533, 1) (533, 1)\n",
      "Results \n",
      "    Accuracy: 1.00\n",
      "    Mean Absolute Error: 0.00\n",
      "    Root Mean Squared Error: 0.00\n",
      "    False Positives: 0.00\n",
      "    Fales Negatives:  0.00\n",
      "    Precision: 1.00\n",
      "    Recall: 1.00\n",
      "    F1 Score: 1.00\n"
     ]
    },
    {
     "data": {
      "image/png": "[encoded data removed]",
      "text/plain": [
       "<Figure size 1200x600 with 1 Axes>"
      ]
     },
     "metadata": {},
     "output_type": "display_data"
    },
    {
     "data": {
      "image/png": "[encoded data removed]",
      "text/plain": [
       "<Figure size 1200x600 with 1 Axes>"
      ]
     },
     "metadata": {},
     "output_type": "display_data"
    },
    {
     "data": {
      "image/png": "[encoded data removed]",
      "text/plain": [
       "<Figure size 1200x600 with 1 Axes>"
      ]
     },
     "metadata": {},
     "output_type": "display_data"
    },
    {
     "data": {
      "image/png": "[encoded data removed]",
      "text/plain": [
       "<Figure size 1200x600 with 1 Axes>"
      ]
     },
     "metadata": {},
     "output_type": "display_data"
    },
    {
     "data": {
      "image/png": "[encoded data removed]",
      "text/plain": [
       "<Figure size 1200x600 with 1 Axes>"
      ]
     },
     "metadata": {},
     "output_type": "display_data"
    },
    {
     "data": {
      "image/png": "[encoded data removed]",
      "text/plain": [
       "<Figure size 1200x600 with 1 Axes>"
      ]
     },
     "metadata": {},
     "output_type": "display_data"
    }
   ],
   "source": [
    "working_dir = '/Users/osono/Library/CloudStorage/OneDrive-NorthCarolinaA&TStateUniversity/COMP 850 - 1A Big Data Analytics/Project/continuous authentication/datasets/Behacom'\n",
    "os.chdir(working_dir)\n",
    "current_directory = os.getcwd()\n",
    "print(f'changed working dir to: {current_directory}')\n",
    "\n",
    "look_back = 3\n",
    "epochs = 5\n",
    "file_paths = loadFiles(current_directory)\n",
    "\n",
    "metrics = []\n",
    "while file_paths.size > 0:\n",
    "    choices =  np.random.choice(file_paths, size=2, replace=False)\n",
    "    file_paths = file_paths[np.isin(file_paths, choices, invert=True)]\n",
    "    normals, anomalies = loadData(choices[0], choices[1])\n",
    "    metric = {\n",
    "        'normals': {\n",
    "            'path': choices[0],\n",
    "            'shape': normals.shape\n",
    "        },\n",
    "        'anomalies': {\n",
    "            'path': choices[1],\n",
    "            'shape': anomalies.shape\n",
    "        }\n",
    "    }\n",
    "    merged, anomaly_percentage = mergeData(normals, anomalies)\n",
    "    merged = reduceDimensions(merged)\n",
    "    metric['merged'] = {\n",
    "        'shape': merged.shape,\n",
    "        'anomaly_percentage': anomaly_percentage\n",
    "    }\n",
    "    \n",
    "    train, test, validation = normalizeAndSplitData(merged, look_back=look_back, batch_size=10)\n",
    "    model, history = buildTrainAndTestModel(train, test, epochs=epochs, look_back=look_back)\n",
    "    metric['history'] = history.history\n",
    "    results = validateModel(model,validation,look_back=look_back)\n",
    "    metric['results'] = results\n",
    "    metrics.append(metric)\n",
    "\n",
    "plotMetrics(metrics)    "
   ]
  }
 ],
 "metadata": {
  "kernelspec": {
   "display_name": "Python 3 (ipykernel)",
   "language": "python",
   "name": "python3"
  },
  "language_info": {
   "codemirror_mode": {
    "name": "ipython",
    "version": 3
   },
   "file_extension": ".py",
   "mimetype": "text/x-python",
   "name": "python",
   "nbconvert_exporter": "python",
   "pygments_lexer": "ipython3",
   "version": "3.12.4"
  }
 },
 "nbformat": 4,
 "nbformat_minor": 2
}
