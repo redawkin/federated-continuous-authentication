{
 "cells": [
  {
   "cell_type": "code",
   "execution_count": 47,
   "metadata": {},
   "outputs": [
    {
     "name": "stdout",
     "output_type": "stream",
     "text": [
      "(25, 5) Index(['timestamp', 'mouse_movement', 'keystroke', 'mouse_click',\n",
      "       'is_anomaly'],\n",
      "      dtype='object') timestamp         1.704067e+12\n",
      "mouse_movement    0.000000e+00\n",
      "keystroke         1.000000e+02\n",
      "mouse_click       2.000000e+02\n",
      "is_anomaly        0.000000e+00\n",
      "Name: 0, dtype: float64\n",
      "(49, 5) Index(['timestamp', 'mouse_movement', 'keystroke', 'mouse_click',\n",
      "       'is_anomaly'],\n",
      "      dtype='object')\n"
     ]
    }
   ],
   "source": [
    "import numpy as np\n",
    "import pandas as pd\n",
    "\n",
    "# Create a range of timestamps\n",
    "timestamp_range = pd.date_range(start='2024-01-01', end='2024-01-02', freq='1h')\n",
    "\n",
    "# Create a DataFrame with the timestamp feature and some example data\n",
    "data = {\n",
    "    'timestamp': [(t.timestamp() * 1000) for t in timestamp_range],\n",
    "    'mouse_movement': range(len(timestamp_range)),  # Example data\n",
    "    'keystroke': range(100, 100 + len(timestamp_range)),  # Example data\n",
    "    'mouse_click': range(200, 200 + len(timestamp_range)),  # Example data\n",
    "    'is_anomaly': 0\n",
    "}\n",
    "\n",
    "# Create the DataFrame\n",
    "normal = pd.DataFrame(data)\n",
    "\n",
    "# Set the timestamp column as the index (optional)\n",
    "# normal.set_index('timestamp', inplace=True)\n",
    "timestamp_range = pd.date_range(start='2024-01-03', end='2024-01-04', freq='30min')\n",
    "\n",
    "# Create a DataFrame with the timestamp feature and some example data\n",
    "data = {\n",
    "    'timestamp': [(t.timestamp() * 1000) for t in timestamp_range],\n",
    "    'mouse_movement': range(len(timestamp_range)),  # Example data\n",
    "    'keystroke': range(100, 100 + len(timestamp_range)),  # Example data\n",
    "    'mouse_click': range(200, 200 + len(timestamp_range)),  # Example data\n",
    "    'is_anomaly': 1\n",
    "}\n",
    "\n",
    "# Create the DataFrame\n",
    "anomalies = pd.DataFrame(data)\n",
    "\n",
    "# Set the timestamp column as the index (optional)\n",
    "# anomalies.set_index('timestamp', inplace=True)\n",
    "\n",
    "print(normal.shape, normal.columns, normal.iloc[0])\n",
    "print(anomalies.shape, anomalies.columns)"
   ]
  },
  {
   "cell_type": "code",
   "execution_count": 48,
   "metadata": {},
   "outputs": [
    {
     "name": "stdout",
     "output_type": "stream",
     "text": [
      "1704240000000.0 1704326400000.0\n",
      "5257835\n",
      "[1.70424000e+12 1.70424576e+12 1.70425152e+12 1.70425728e+12\n",
      " 1.70426304e+12 1.70426880e+12 1.70427456e+12 1.70428032e+12\n",
      " 1.70428608e+12 1.70429184e+12 1.70429760e+12 1.70430336e+12\n",
      " 1.70430912e+12 1.70431488e+12 1.70432064e+12 1.70432640e+12]\n",
      "1704303360000.0 1704320640000.0\n",
      "(9, 5)\n",
      "(0, 5)\n",
      "OH NO\n",
      "(25, 5)\n",
      "(0, 5)\n",
      "(34, 5)\n",
      "(9, 5)\n"
     ]
    }
   ],
   "source": [
    "\n",
    "timestamp = 'timestamp'\n",
    "second = 1000\n",
    "minute = 60 * second \n",
    "hour = 60 * minute\n",
    "day = 24 * hour\n",
    "year = 365 * day\n",
    "\n",
    "start_time, end_time = anomalies[timestamp].min(), anomalies[timestamp].max()\n",
    "print(start_time, end_time)\n",
    "def random_time_range():\n",
    "    block_range = np.random.randint(1 * hour, 8 * hour)\n",
    "    print(block_range)\n",
    "    range = np.linspace(start_time, end_time, int((end_time - start_time) / block_range))\n",
    "    print(range)\n",
    "    random_time = np.random.choice(range, size=2)\n",
    "    random_start, random_end = random_time.min(), random_time.max()\n",
    "    return random_start, random_end\n",
    "\n",
    "def inject_anomalies(start_time, end_time):\n",
    "    print(start_time, end_time)\n",
    "    anomalies_condition = (start_time <= anomalies[timestamp]) & (anomalies[timestamp] <= end_time)\n",
    "    normal_conditoin = (start_time <= normal[timestamp]) & (normal[timestamp] <= end_time)\n",
    "    subset_anomalies = anomalies[anomalies_condition]\n",
    "    print(subset_anomalies.shape)\n",
    "    subset_normal = normal[normal_conditoin]\n",
    "    print(subset_normal.shape)\n",
    "    if subset_normal.empty:\n",
    "        print('OH NO')\n",
    "        return pd.concat([normal,subset_anomalies], ignore_index=True)\n",
    "    temp = normal.copy()\n",
    "    temp[normal_conditoin] = subset_anomalies\n",
    "    return temp\n",
    "    \n",
    "merged = inject_anomalies(*random_time_range())\n",
    "\n",
    "print(normal.shape)\n",
    "print(normal[normal['is_anomaly'] == 1].shape)\n",
    "\n",
    "print(merged.shape)\n",
    "print(merged[merged['is_anomaly'] == 1].shape)"
   ]
  }
 ],
 "metadata": {
  "kernelspec": {
   "display_name": "Python 3 (ipykernel)",
   "language": "python",
   "name": "python3"
  }
 },
 "nbformat": 4,
 "nbformat_minor": 2
}
