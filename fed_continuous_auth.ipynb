{
 "cells": [
  {
   "cell_type": "code",
   "execution_count": null,
   "metadata": {},
   "outputs": [],
   "source": [
    "run_config = {\n",
    "    \"look-back\" :2,\n",
    "    \"learning-rate\" : 0.01,\n",
    "    \"label-key\" : \"is_anomolous\",\n",
    "    \"test-percentage\" : 0.20,\n",
    "    \"validation-percentage\" : 0.20,\n",
    "    \"local-epochs\" : 3,\n",
    "    \"num-server-rounds\": 13,\n",
    "    \"batch-size\" : 128,\n",
    "    \"verbose\" : False,\n",
    "    \"data-dir\" : \"datasets/Behacom\",\n",
    "    \"anomaly-percentage-target\":.1,\n",
    "    \"normalization_winsorization-outlier-threshold\": 2,\n",
    "    \"normalization_winsorization-enable\": False,\n",
    "    \"normalization_winsorization-bounds\": 0.1,\n",
    "    \"accuracy-threshold\": 0.7,\n",
    "    \"num-clients\": 12,\n",
    "    \"client-sample\":0.25,\n",
    "    \"dp_enable\": False,\n",
    "    \"dp_noise-multiplier\":1.1,\n",
    "    \"dp_clipping-norm\":1.2    \n",
    "}"
   ]
  },
  {
   "cell_type": "code",
   "execution_count": 2,
   "metadata": {},
   "outputs": [],
   "source": [
    "import numpy as np \n",
    "import os\n",
    "from typing import List\n",
    "\n",
    "def load_files(directory: str) -> List[str]:\n",
    "    file_paths = np.array([])\n",
    "    for root, dirs, files in os.walk(directory):\n",
    "        for file in files:\n",
    "            if file.endswith('.csv'):\n",
    "                file_paths = np.append(file_paths, os.path.join(root, file))\n",
    "    return file_paths\n"
   ]
  },
  {
   "cell_type": "code",
   "execution_count": 3,
   "metadata": {},
   "outputs": [],
   "source": [
    "import pandas as pd \n",
    "from typing import Tuple\n",
    "\n",
    "# Constants for the column names\n",
    "timestamp_key = 'timestamp'\n",
    "unix_timestamp_key = 'unix_timestamp'\n",
    "\n",
    "def load_data(file0: str, file1: str, label_key: str) -> Tuple[pd.DataFrame, pd.DataFrame]:\n",
    "    \"\"\"Load benign and anomalous datasets, label them, and parse timestamps.\"\"\"\n",
    "    \n",
    "    # Load the CSV files\n",
    "    benign = pd.read_csv(file0, encoding='latin-1')\n",
    "    anomalous = pd.read_csv(file1, encoding='latin-1')\n",
    "    \n",
    "    # Assign labels to the datasets\n",
    "    benign[label_key] = 0\n",
    "    anomalous[label_key] = 1\n",
    "    \n",
    "    # Convert 'timestamp' to datetime and create 'unix_timestamp' as a copy\n",
    "    benign[unix_timestamp_key] = benign[timestamp_key]\n",
    "    anomalous[unix_timestamp_key] = anomalous[timestamp_key]\n",
    "    \n",
    "    benign[timestamp_key] = pd.to_datetime(benign[timestamp_key], unit='ms')\n",
    "    anomalous[timestamp_key] = pd.to_datetime(anomalous[timestamp_key], unit='ms')\n",
    "    \n",
    "    print(f'Loaded benign: {benign.shape}, Loaded anomalies: {anomalous.shape}')\n",
    "    \n",
    "    return benign, anomalous"
   ]
  },
  {
   "cell_type": "code",
   "execution_count": 4,
   "metadata": {},
   "outputs": [],
   "source": [
    "from datetime import timedelta, datetime\n",
    "import numpy as np\n",
    "import pandas as pd\n",
    "from typing import Tuple\n",
    "\n",
    "np.random.seed(42)\n",
    "\n",
    "def random_time_range(anomalous: pd.DataFrame, iteration: int, verbose: bool = False) -> Tuple[datetime, datetime]:\n",
    "    \"\"\"\n",
    "    Generate a random time range within the given anomalies DataFrame, with the range \n",
    "    weighted by the number of iterations.\n",
    "\n",
    "    Parameters:\n",
    "    - anomalous: A DataFrame containing the 'timestamp' column.\n",
    "    - iteration: The current iteration number used to adjust the time delta.\n",
    "    - verbose: If true, prints details of the selected time range.\n",
    "\n",
    "    Returns:\n",
    "    - A tuple containing the random start and end datetime.\n",
    "    \"\"\"\n",
    "    # Calculate the start and end times, ensuring the start time includes the real start point\n",
    "    start_time, end_time = anomalous[timestamp_key].min() - timedelta(seconds=1), anomalous[timestamp_key].max()\n",
    "\n",
    "    if verbose:\n",
    "        print(f'Anomalous time range: {start_time} - {end_time}')\n",
    "\n",
    "    # Calculate a time delta based on the iteration number (the delta grows with more iterations)\n",
    "    delta = timedelta(minutes=np.random.randint(5, 30) + 1.25 ** iteration)\n",
    "\n",
    "    # Ensure the random start time does not exceed the latest valid start time\n",
    "    latest_start = max(end_time - delta, start_time)\n",
    "\n",
    "    # Select a random start time within the range [start_time, latest_start]\n",
    "    random_start = start_time + timedelta(seconds=np.random.randint(0, int((latest_start - start_time).total_seconds() + 1)))\n",
    "\n",
    "    # Calculate the random end time based on the random start time and delta\n",
    "    random_end = random_start + delta\n",
    "\n",
    "    if verbose:\n",
    "        print(f'Random time range selected: {random_start} - {random_end}')\n",
    "\n",
    "    return random_start, random_end\n"
   ]
  },
  {
   "cell_type": "code",
   "execution_count": 5,
   "metadata": {},
   "outputs": [],
   "source": [
    "import pandas as pd\n",
    "from datetime import datetime\n",
    "from typing import Tuple\n",
    "\n",
    "def inject_anomalies(\n",
    "    benign: pd.DataFrame, \n",
    "    anomalous: pd.DataFrame, \n",
    "    start_time: datetime, \n",
    "    end_time: datetime, \n",
    "    verbose: bool = False\n",
    ") -> Tuple[pd.DataFrame, pd.Index]:\n",
    "    \"\"\"\n",
    "    Inject anomalous data into a benign dataset within a specific time range.\n",
    "    \n",
    "    Parameters:\n",
    "    - benign: The DataFrame containing benign data (normal data).\n",
    "    - anomalous: The DataFrame containing anomalous data (anomalies).\n",
    "    - start_time: The start time of the range in which to inject anomalies.\n",
    "    - end_time: The end time of the range in which to inject anomalies.\n",
    "    - verbose: If true, prints additional information about the process.\n",
    "    \n",
    "    Returns:\n",
    "    - A tuple containing:\n",
    "      - A DataFrame with anomalies injected into the benign data.\n",
    "      - The indices of the injected anomalies.\n",
    "    \"\"\"\n",
    "    # Filter anomalies and benign data within the time range\n",
    "    anomalous_condition = (start_time <= anomalous[timestamp_key]) & (anomalous[timestamp_key] <= end_time)\n",
    "    benign_condition = (start_time <= benign[timestamp_key]) & (benign[timestamp_key] <= end_time)\n",
    "    \n",
    "    subset_anomalous = anomalous[anomalous_condition]\n",
    "    subset_benign = benign[benign_condition]\n",
    "    index = subset_anomalous.index\n",
    "\n",
    "    if verbose:\n",
    "        print(f'{subset_anomalous.shape[0]} anomalies selected')\n",
    "\n",
    "    # If no anomalies are found, return the original benign data\n",
    "    if subset_anomalous.empty:\n",
    "        return benign, index\n",
    "\n",
    "    # If no benign data within the range, append anomalies\n",
    "    if subset_benign.empty:\n",
    "        if verbose:\n",
    "            print('No normal data within range, appending anomalies')\n",
    "        return pd.concat([benign, subset_anomalous], ignore_index=True), index\n",
    "\n",
    "    # If benign data is found, remove it and append anomalies to prevent unrealistic data\n",
    "    if verbose:\n",
    "        print(f'{subset_benign.shape[0]} benign entries selected to be overwritten')\n",
    "\n",
    "    # Remove benign data within the time range and append anomalies\n",
    "    benign_to_remove = benign[\n",
    "        (subset_anomalous[timestamp_key].min() <= benign[timestamp_key]) & \n",
    "        (subset_anomalous[timestamp_key].max() >= benign[timestamp_key])\n",
    "    ].index\n",
    "\n",
    "    benign_updated = benign.drop(benign_to_remove)\n",
    "    updated_benign = pd.concat([benign_updated, subset_anomalous], ignore_index=True)\n",
    "    \n",
    "    return updated_benign, index\n"
   ]
  },
  {
   "cell_type": "code",
   "execution_count": 6,
   "metadata": {},
   "outputs": [],
   "source": [
    "import pandas as pd\n",
    "from typing import Tuple\n",
    "\n",
    "def merge_data(\n",
    "    benign: pd.DataFrame, \n",
    "    anomalies: pd.DataFrame, \n",
    "    label_key: str, \n",
    "    anomaly_percentage_target: float = 0.05, \n",
    "    verbose: bool = False\n",
    ") -> Tuple[pd.DataFrame, float]:\n",
    "    \"\"\"\n",
    "    Merge benign and anomalous datasets while targeting a specific anomaly percentage in the merged data.\n",
    "    \n",
    "    Parameters:\n",
    "    - benign: DataFrame containing the benign data (normal data).\n",
    "    - anomalies: DataFrame containing anomalous data (outliers).\n",
    "    - label_key: The column name in 'benign' used for labeling anomalies.\n",
    "    - anomaly_percentage_target: The target percentage of anomalies in the merged dataset.\n",
    "    - verbose: If true, prints additional information during the merging process.\n",
    "    \n",
    "    Returns:\n",
    "    - A tuple containing:\n",
    "      - The merged DataFrame with anomalies injected.\n",
    "      - The final anomaly percentage in the merged dataset.\n",
    "    \"\"\"\n",
    "    print(\"Merging datasets...\")\n",
    "\n",
    "    max_size = benign.shape[0] + anomalies.shape[0]\n",
    "    anomaly_percentage = 0\n",
    "    iteration = 0\n",
    "\n",
    "    # Merge datasets until the target anomaly percentage is reached or the size limit is hit\n",
    "    while anomaly_percentage < anomaly_percentage_target and benign.shape[0] < max_size and not anomalies.empty:\n",
    "        iteration += 1\n",
    "        \n",
    "        # Verbose logging\n",
    "        if verbose:\n",
    "            print(f'Iteration {iteration}: Anomalies left: {anomalies.shape[0]}, '\n",
    "                  f'Anomaly percentage: {anomaly_percentage:.2%}, '\n",
    "                  f'Benign size: {benign.shape[0]}, Max size: {max_size}')\n",
    "            print(f'Starting shape: {benign.shape}')\n",
    "        \n",
    "        # Inject anomalies into the benign data within the selected time range\n",
    "        benign, index = inject_anomalies(benign, anomalies, *random_time_range(anomalies, iteration))\n",
    "        anomalies.drop(index, inplace=True)  # Remove injected anomalies\n",
    "        \n",
    "        # Verbose logging after modification\n",
    "        if verbose:\n",
    "            print(f'Ending shape: {benign.shape}')\n",
    "        \n",
    "        # Recalculate the anomaly percentage\n",
    "        anomaly_percentage = benign[benign[label_key] == 1].shape[0] / benign.shape[0]\n",
    "\n",
    "    # Final verbose output and return the merged data\n",
    "    print(f'Total iterations: {iteration}, Final anomaly percentage: {anomaly_percentage:.2%}')\n",
    "    print(f'Merged shape: {benign.shape}')\n",
    "\n",
    "    return benign.sort_values(timestamp_key), anomaly_percentage\n"
   ]
  },
  {
   "cell_type": "code",
   "execution_count": 7,
   "metadata": {},
   "outputs": [],
   "source": [
    "import pandas as pd\n",
    "import numpy as np\n",
    "from sklearn.preprocessing import LabelEncoder\n",
    "from typing import List\n",
    "from scipy.stats import mstats, zscore\n",
    "\n",
    "\n",
    "def reduce_dimensions(data: pd.DataFrame) -> pd.DataFrame:\n",
    "    \"\"\"Remove unnecessary columns from the dataset.\"\"\"\n",
    "    columns_to_drop = [timestamp_key, 'USER']\n",
    "    return data.drop(columns=columns_to_drop, errors='ignore')\n",
    "\n",
    "\n",
    "def encode_features(data: pd.DataFrame, verbose: bool = False) -> pd.DataFrame:\n",
    "    \"\"\"Encode categorical features in the dataset using Label Encoding.\"\"\"\n",
    "    string_columns = data.select_dtypes(include=['object']).columns\n",
    "    label_encoder = LabelEncoder()\n",
    "    \n",
    "    for column in string_columns:\n",
    "        if verbose:\n",
    "            print(f\"Encoding feature: {column}\")\n",
    "        data[column] = label_encoder.fit_transform(data[column])\n",
    "    \n",
    "    return data\n",
    "\n",
    "\n",
    "def detect_outliers(data: pd.DataFrame, name: str, threshold: float = 3, verbose: bool = False) -> bool:\n",
    "    \"\"\"Detect outliers in a specified feature using z-scores.\"\"\"\n",
    "    column = data[name].astype(float)\n",
    "    z_scores = np.abs(zscore(column))\n",
    "    outliers = z_scores > threshold\n",
    "    if verbose and outliers.any():\n",
    "        print(f\"Outliers detected in feature {name}\")\n",
    "    \n",
    "    return outliers.any()\n",
    "\n",
    "\n",
    "def winsorize_features(data: pd.DataFrame, label_key: str, outlier_threshold: int, winsorization_bounds: Tuple[float,float], verbose: bool = False) -> pd.DataFrame:\n",
    "    \"\"\"Winsorize features to limit outliers to the 5th and 95th percentiles.\"\"\"\n",
    "    print(\"Winsorizing features if outliers are detected\")\n",
    "    \n",
    "    for column in data.columns:\n",
    "        if column == label_key or column == unix_timestamp_key:\n",
    "            continue\n",
    "        \n",
    "        if detect_outliers(data, column, threshold=outlier_threshold ,verbose=verbose):\n",
    "            if verbose:\n",
    "                print(f\"Outliers found in feature {column}. Winsorizing.\")\n",
    "            data[column] = mstats.winsorize(data[column], limits=winsorization_bounds)\n",
    "    \n",
    "    return data\n"
   ]
  },
  {
   "cell_type": "code",
   "execution_count": 8,
   "metadata": {},
   "outputs": [],
   "source": [
    "from sklearn.preprocessing import MinMaxScaler\n",
    "import pandas as pd\n",
    "import numpy as np\n",
    "from typing import Tuple\n",
    "\n",
    "def normalize_data(data: pd.DataFrame, label_key: str) -> Tuple[np.ndarray, np.ndarray]:\n",
    "    # Split the data into features and labels\n",
    "    user_mask = data.columns.isin([label_key])\n",
    "    features = data.iloc[:, ~user_mask].to_numpy()\n",
    "    labels = data.iloc[:, user_mask].to_numpy()\n",
    "    \n",
    "    # Normalize features\n",
    "    scaler = MinMaxScaler()\n",
    "    features_scaled = scaler.fit_transform(features)\n",
    "    \n",
    "    return features_scaled, labels\n",
    "\n",
    "  "
   ]
  },
  {
   "cell_type": "code",
   "execution_count": 9,
   "metadata": {},
   "outputs": [],
   "source": [
    "import numpy as np\n",
    "from flwr_datasets import FederatedDataset\n",
    "\n",
    "# Custom Federated Dataset\n",
    "class BehacomFederatedDataset(FederatedDataset):\n",
    "    \"\"\"\n",
    "    Custom Federated Dataset for Behacom, inheriting from FederatedDataset.\n",
    "    This class loads and processes datasets for federated learning.\n",
    "    \"\"\"\n",
    "    def __init__(self, directory: str, label_key: str, winsorize_features: bool, outlier_threshold: int,  winsorization_bounds: Tuple[float,float], **kwargs):\n",
    "        \"\"\"\n",
    "        Initializes the BehacomFederatedDataset by loading the files from a directory.\n",
    "\n",
    "        Parameters:\n",
    "        - directory (str): Path to the directory containing the data files.\n",
    "        - label_key (str): The key in the dataset that represents the labels.\n",
    "        \"\"\"\n",
    "        self.label_key = label_key\n",
    "        self.file_paths = load_files(directory)\n",
    "        self.total_files = len(self.file_paths)\n",
    "        self.winsorize = winsorize_features\n",
    "        self.winsorization_bounds = winsorization_bounds\n",
    "        self.outlier_threshold = outlier_threshold\n",
    "\n",
    "        if self.total_files == 0:\n",
    "            raise ValueError(f\"No files loaded from directory: {directory}\")\n",
    "\n",
    "    def __getitem__(self, idx: int):\n",
    "        \"\"\"\n",
    "        Retrieves the data for a specific client based on the provided index.\n",
    "\n",
    "        Parameters:\n",
    "        - idx (int): The index of the client (or file) to fetch the data for.\n",
    "\n",
    "        Returns:\n",
    "        - tuple: (anomaly_percentage, processed_data)\n",
    "            - anomaly_percentage (float): Percentage of anomalies in the merged dataset.\n",
    "            - processed_data (pd.DataFrame): Processed data after encoding, feature reduction, and winsorizing.\n",
    "        \"\"\"\n",
    "        # Randomly select another client that isn't the current one\n",
    "        j = np.random.choice([i for i in range(self.total_files) if i != idx])\n",
    "        \n",
    "        # Load and merge benign and anomalous data\n",
    "        benign_path, anomalous_path = self.file_paths[idx], self.file_paths[j]\n",
    "        benign, anomalous = load_data(benign_path, anomalous_path, self.label_key)\n",
    "        merged, anomaly_percentage = merge_data(benign, anomalous, self.label_key)\n",
    "\n",
    "        # Process the merged data (encoding, dimensionality reduction, and winsorization)\n",
    "        processed_data = encode_features(reduce_dimensions(merged))\n",
    "        \n",
    "        if self.winsorize:\n",
    "            processed_data = winsorize_features(processed_data, self.label_key, self.outlier_threshold, self.winsorization_bounds)\n",
    "\n",
    "        return anomaly_percentage, processed_data\n",
    "\n",
    "    def __len__(self):\n",
    "        \"\"\"\n",
    "        Returns the number of clients (i.e., total number of files).\n",
    "\n",
    "        Returns:\n",
    "        - int: The total number of files (clients).\n",
    "        \"\"\"\n",
    "        return self.total_files\n"
   ]
  },
  {
   "cell_type": "code",
   "execution_count": 10,
   "metadata": {},
   "outputs": [],
   "source": [
    "from tensorflow.keras.models import Sequential\n",
    "from tensorflow.keras.layers import Input, Conv1D, MaxPooling1D, Bidirectional, LSTM, Dropout, Dense\n",
    "from tensorflow.keras.regularizers import l2\n",
    "from tensorflow.keras.optimizers import Adam\n",
    "from tensorflow.keras.metrics import BinaryAccuracy, Recall, Precision, TruePositives, TrueNegatives, FalseNegatives, FalsePositives, AUC, F1Score\n",
    "\n",
    "\n",
    "def load_model(features_count: int, look_back: int, learning_rate: float, accuracy_threshold: float = 0.5, verbose: bool = False):\n",
    "    \"\"\"\n",
    "    Load and compile an LSTM model with a Bidirectional architecture.\n",
    "\n",
    "    Parameters:\n",
    "    - features_count (int): The number of input features (e.g., number of columns in the dataset).\n",
    "    - look_back (int): The number of time steps to look back for each sequence.\n",
    "    - learning_rate (float): The learning rate for the Adam optimizer.\n",
    "    - verbose (bool, optional): Whether to print the model summary. Defaults to 0.\n",
    "\n",
    "    Returns:\n",
    "    - model: A compiled Keras Sequential model ready for training.\n",
    "    \"\"\"\n",
    "    model = Sequential([\n",
    "        Input(shape=(look_back, features_count)),\n",
    "        \n",
    "        Conv1D(filters=64, kernel_size=3, activation='relu', padding='same'),\n",
    "        MaxPooling1D(pool_size=2),\n",
    "        \n",
    "        Bidirectional(\n",
    "            LSTM(100, \n",
    "                kernel_regularizer=l2(0.01), \n",
    "                recurrent_regularizer=l2(0.01), \n",
    "                bias_regularizer=l2(0.01),\n",
    "                activation='tanh', \n",
    "                recurrent_activation='sigmoid', \n",
    "                return_sequences=True)\n",
    "        ),\n",
    "        Dropout(0.5),\n",
    "        \n",
    "        Bidirectional(\n",
    "            LSTM(100, \n",
    "                kernel_regularizer=l2(0.01), \n",
    "                recurrent_regularizer=l2(0.01), \n",
    "                bias_regularizer=l2(0.01),\n",
    "                activation='tanh', \n",
    "                recurrent_activation='sigmoid', \n",
    "                return_sequences=True)\n",
    "        ),\n",
    "        Dropout(0.5),\n",
    "        Bidirectional(\n",
    "            LSTM(50, \n",
    "                kernel_regularizer=l2(0.01), \n",
    "                recurrent_regularizer=l2(0.01), \n",
    "                bias_regularizer=l2(0.01),\n",
    "                activation='tanh', \n",
    "                recurrent_activation='sigmoid', \n",
    "                return_sequences=False)\n",
    "        ),\n",
    "        Dropout(0.5),\n",
    "        \n",
    "        Dense(1, activation='sigmoid')\n",
    "    ])\n",
    "    \n",
    "    optimizer = Adam(learning_rate=learning_rate, clipvalue=1.0)\n",
    "\n",
    "    # Define metrics\n",
    "    metrics = [\n",
    "        BinaryAccuracy(name=\"binary_accuracy\", dtype=int, threshold=accuracy_threshold),\n",
    "        Recall(),\n",
    "        Precision(),\n",
    "        F1Score()\n",
    "    ]\n",
    "    \n",
    "    # Compile the model\n",
    "    model.compile(optimizer=optimizer, loss='binary_crossentropy', metrics=metrics)\n",
    "    \n",
    "    if verbose:\n",
    "        model.summary()\n",
    "    \n",
    "    return model\n"
   ]
  },
  {
   "cell_type": "code",
   "execution_count": 11,
   "metadata": {},
   "outputs": [],
   "source": [
    "from sklearn.model_selection import train_test_split\n",
    "from tensorflow.keras.preprocessing.sequence import TimeseriesGenerator\n",
    "from typing import Tuple\n",
    "\n",
    "fds = None  # Cache FederatedDataset\n",
    "\n",
    "def load_client_data(\n",
    "    dataset_dir: str,\n",
    "    client_idx: int,\n",
    "    label_key: str,\n",
    "    winsorize_features: bool,\n",
    "    outlier_threshold: int,\n",
    "    winsorize_bounds: Tuple[float, float],\n",
    "    validation_size: float = 0.2,\n",
    "    test_size: float = 0.15,\n",
    "    look_back: int = 0,\n",
    "    batch_size: int = 128\n",
    ") -> Tuple[float, Tuple[TimeseriesGenerator, TimeseriesGenerator, TimeseriesGenerator]]:\n",
    "    \"\"\"\n",
    "    Loads and prepares the data for a specific client from the federated dataset. The data is split into \n",
    "    training, validation, and test sets, and wrapped into TimeseriesGenerators.\n",
    "\n",
    "    Parameters:\n",
    "    - dataset_dir (str): Path to the directory containing the dataset files.\n",
    "    - client_idx (int): Index of the client for which to load the data.\n",
    "    - label_key (str): The name of the column representing the labels.\n",
    "    - validation_size (float, optional): Proportion of the training data to use for validation. Default is 0.2.\n",
    "    - test_size (float, optional): Proportion of the data to use for testing. Default is 0.15.\n",
    "    - look_back (int, optional): The number of time steps to look back for each input sequence. Default is 0 (no look-back).\n",
    "    - batch_size (int, optional): The batch size for the generators. Default is 128.\n",
    "\n",
    "    Returns:\n",
    "    - Tuple of TimeseriesGenerator: A tuple containing the training, validation, and test generators.\n",
    "    \"\"\"\n",
    "    global fds\n",
    "    # Cache FederatedDataset if not already cached\n",
    "    if fds is None:\n",
    "        fds = BehacomFederatedDataset(dataset_dir, label_key, winsorize_features, outlier_threshold, winsorize_bounds)\n",
    "\n",
    "    # Load the data for the specified client\n",
    "    anomaly_percentage, data = fds[client_idx]\n",
    "    features, labels = normalize_data(data, label_key)\n",
    "    \n",
    "    # Split data into training, validation, and test sets\n",
    "    features_train, features_temp, labels_train, labels_temp = train_test_split(\n",
    "        features, labels, test_size=(validation_size + test_size), shuffle=False, random_state=42\n",
    "    )\n",
    "    features_validation, features_test, labels_validation, labels_test = train_test_split(\n",
    "        features_temp, labels_temp, test_size=test_size / (validation_size + test_size), shuffle=False, random_state=42\n",
    "    )\n",
    "    \n",
    "    # Create TimeseriesGenerators for training, validation, and test sets\n",
    "    train_generator = TimeseriesGenerator(features_train, labels_train, length=look_back, batch_size=batch_size)\n",
    "    validation_generator = TimeseriesGenerator(features_validation, labels_validation, length=look_back, batch_size=batch_size)\n",
    "    test_generator = TimeseriesGenerator(features_test, labels_test, length=look_back, batch_size=batch_size)\n",
    "\n",
    "    return anomaly_percentage, (train_generator, validation_generator, test_generator)\n"
   ]
  },
  {
   "cell_type": "code",
   "execution_count": 12,
   "metadata": {},
   "outputs": [],
   "source": [
    "from flwr.client import NumPyClient, ClientApp\n",
    "from flwr.common import Context\n",
    "from tensorflow.keras.callbacks import EarlyStopping, ReduceLROnPlateau\n",
    "from flwr.client.mod import fixedclipping_mod\n",
    "\n",
    "import numpy as np\n",
    "\n",
    "client_id_key = 'client-id'\n",
    "current_round_key = 'current-round'\n",
    "\n",
    "class FlowerClient(NumPyClient):\n",
    "    \"\"\"\n",
    "    A custom Flower client for federated learning.\n",
    "    This client is responsible for training and evaluating a model on its local dataset.\n",
    "    \"\"\"\n",
    "\n",
    "    def __init__(self, client_id: int, model, data):\n",
    "        \"\"\"\n",
    "        Initializes the FlowerClient with model and data.\n",
    "\n",
    "        Args:\n",
    "            client_id (int): The unique identifier of the client.\n",
    "            model: The model to be trained.\n",
    "            data: A tuple containing the anomaly percentage, train, validation, and test datasets.\n",
    "        \"\"\"\n",
    "        self.client_id = client_id\n",
    "        self.model = model\n",
    "        self.anomaly_percentage, (self.train, self.validate, self.test) = data\n",
    "\n",
    "    def fit(self, parameters, config):\n",
    "        \"\"\"\n",
    "        Train the model on the local data using the provided parameters.\n",
    "\n",
    "        Args:\n",
    "            parameters: The model parameters to be set.\n",
    "            config: The configuration dictionary containing training settings.\n",
    "\n",
    "        Returns:\n",
    "            Tuple: The model's weights, the number of training samples, and the training metrics.\n",
    "        \"\"\"\n",
    "        self.model.set_weights(parameters)\n",
    "        verbose = config['verbose']\n",
    "         #Early stopping callback to stop training when the validation loss is not improving\n",
    "        early_stopping = EarlyStopping(\n",
    "            monitor='val_loss',  # Could also use 'val_accuracy'\n",
    "            patience=2, # Number of epochs to wait for improvement\n",
    "            restore_best_weights=True,  # Restore the best weights once training stops\n",
    "            verbose=verbose\n",
    "        )\n",
    "\n",
    "        # Learning rate decay using ReduceLROnPlateau\n",
    "        lr_decay = ReduceLROnPlateau(\n",
    "            monitor='val_loss',  # Could also use 'val_accuracy'\n",
    "            factor=0.5,  # Factor by which the learning rate will be reduced\n",
    "            patience=2,  # Number of epochs to wait before reducing the learning rate\n",
    "            verbose=verbose,\n",
    "            min_lr=1e-6  # Minimum learning rate\n",
    "        )\n",
    "    \n",
    "        # Training the model\n",
    "        history = self.model.fit(\n",
    "            self.train,\n",
    "            steps_per_epoch=len(self.train) // config['batch-size'],\n",
    "            epochs=config['local-epochs'],\n",
    "            batch_size=config['batch-size'],\n",
    "            verbose=verbose,\n",
    "            validation_data=self.validate,\n",
    "            callbacks=[early_stopping, lr_decay],\n",
    "            \n",
    "        )\n",
    "        \n",
    "        res = {key.replace('_', '-'): values[-1] for key, values in history.history.items()}\n",
    "        res[client_id_key] = self.client_id\n",
    "    \n",
    "        return self.model.get_weights(), len(self.train), res\n",
    "\n",
    "    def evaluate(self, parameters, config):\n",
    "        \"\"\"\n",
    "        Evaluate the model on the test data using the provided parameters.\n",
    "\n",
    "        Args:\n",
    "            parameters: The model parameters to be evaluated.\n",
    "            config: The configuration dictionary (not used here but included for consistency).\n",
    "\n",
    "        Returns:\n",
    "            Tuple: The loss, the number of test samples, and the evaluation metrics.\n",
    "        \"\"\"\n",
    "        self.model.set_weights(parameters)\n",
    "        \n",
    "        loss, accuracy, recall, precision, f1 = self.model.evaluate(self.test, verbose=config['verbose'])\n",
    "        \n",
    "        res = {\n",
    "            client_id_key:  self.client_id,\n",
    "            \"anomaly-percentage\": self.anomaly_percentage, \n",
    "            \"binary-accuracy\": accuracy, \n",
    "            \"loss\": loss, \n",
    "            \"recall\": recall, \n",
    "            \"precision\": precision, \n",
    "            \"f1-score\": f1,\n",
    "            current_round_key: config[current_round_key]\n",
    "        }\n",
    "        return loss, len(self.test), res\n",
    "\n",
    "\n",
    "def client_fn(context: Context):\n",
    "    \"\"\"\n",
    "    Function to initialize and return a FlowerClient instance for federated learning.\n",
    "\n",
    "    Args:\n",
    "        context (Context): The federated learning context provided by Flower.\n",
    "\n",
    "    Returns:\n",
    "        FlowerClient: A FlowerClient instance ready for federated learning.\n",
    "    \"\"\"\n",
    "    # Extract run configuration values\n",
    "    look_back = run_config[\"look-back\"]\n",
    "    learning_rate = run_config[\"learning-rate\"]\n",
    "    partition_id = context.node_config[\"partition-id\"]\n",
    "    label_key = run_config[\"label-key\"]\n",
    "    test_size = run_config[\"test-percentage\"]\n",
    "    validation_size = run_config[\"validation-percentage\"]\n",
    "    batch_size = run_config[\"batch-size\"]\n",
    "    data_dir = run_config[\"data-dir\"]\n",
    "    outlier_threshold = run_config[\"normalization_winsorization-outlier-threshold\"]\n",
    "    winsorize_features = run_config[\"normalization_winsorization-enable\"]\n",
    "    winsorize_bounds = run_config[\"normalization_winsorization-bounds\"]\n",
    "    verbose = run_config[\"verbose\"]\n",
    "    accuracy_threshold = run_config[\"accuracy-threshold\"]\n",
    "    # Load model and data\n",
    "    model = load_model(12050, look_back, learning_rate, accuracy_threshold,verbose)\n",
    "    data = load_client_data(data_dir, partition_id-1, label_key, winsorize_features,outlier_threshold, winsorize_bounds, validation_size, test_size, look_back=look_back, batch_size=batch_size)\n",
    "    \n",
    "    # Return FlowerClient instance\n",
    "    return FlowerClient(partition_id, model, data).to_client()\n",
    "\n",
    "mods = []\n",
    "if run_config[\"dp_enable\"]:\n",
    "    mods.append(fixedclipping_mod)\n",
    "# Flower ClientApp\n",
    "client = ClientApp(client_fn=client_fn, mods=mods)\n"
   ]
  },
  {
   "cell_type": "code",
   "execution_count": 13,
   "metadata": {},
   "outputs": [],
   "source": [
    "\"\"\"Federated Continuous Authentication: A Flower / TensorFlow app.\"\"\"\n",
    "\n",
    "from flwr.common import Context, ndarrays_to_parameters\n",
    "from flwr.server import ServerApp, ServerAppComponents, ServerConfig\n",
    "from flwr.server.strategy import FedAdam, DifferentialPrivacyClientSideFixedClipping\n",
    "from typing import List, Dict, Tuple\n",
    "\n",
    "class FederatedServer:\n",
    "    \"\"\"\n",
    "    A class that encapsulates the federated learning server logic for training and aggregation.\n",
    "    \"\"\"\n",
    "\n",
    "\n",
    "    def __init__(self, run_config: Dict[str, int]):\n",
    "        \"\"\"\n",
    "        Initializes the federated server with the given configuration.\n",
    "\n",
    "        Args:\n",
    "            run_config: A dictionary containing the configuration values for the server.\n",
    "        \"\"\"\n",
    "        self.run_config = run_config\n",
    "        \n",
    "        # Dictionary to hold aggregated metrics for each client\n",
    "        self.evaluate_results = []\n",
    "\n",
    "    def aggregate_metrics(self, update_global: bool = False):\n",
    "        def aggregate_metrics_callback(metrics: List[Tuple[int, Dict[str, float]]]) -> Dict[str, float]:\n",
    "            # Dictionary to store aggregated metric values\n",
    "            aggregated_metrics = {}\n",
    "            \n",
    "            # Dictionary to accumulate sums for each metric\n",
    "            metric_sums = {}\n",
    "\n",
    "            # Total number of clients (assuming len(metrics) gives the number of clients)\n",
    "            total_clients = len(metrics)\n",
    "\n",
    "            # Iterate through each client's metrics\n",
    "            for _, metric_dict in metrics:\n",
    "                \n",
    "                if update_global:\n",
    "                    self.evaluate_results.append(metric_dict)\n",
    "                \n",
    "                \n",
    "                for metric_name, metric_value in metric_dict.items():\n",
    "                    if metric_name in {client_id_key, current_round_key}:  # Skip the client ID itself\n",
    "                        continue\n",
    "\n",
    "                    # Accumulate the sum for each metric\n",
    "                    if metric_name not in metric_sums:\n",
    "                        metric_sums[metric_name] = 0\n",
    "                    metric_sums[metric_name] += metric_value\n",
    "\n",
    "            # Calculate the average of each metric\n",
    "            aggregated_metrics = {\n",
    "                metric_name: metric_sum / total_clients\n",
    "                for metric_name, metric_sum in metric_sums.items()\n",
    "            }\n",
    "\n",
    "            return aggregated_metrics\n",
    "\n",
    "        return aggregate_metrics_callback\n",
    "\n",
    "        \n",
    "\n",
    "\n",
    "\n",
    "    def config_fn(self, server_round: int) -> Dict[str, int]:\n",
    "        \"\"\"\n",
    "        Configuration function to update the current server round.\n",
    "\n",
    "        Args:\n",
    "            server_round: The current round number.\n",
    "\n",
    "        Returns:\n",
    "            A dictionary containing the current round number.\n",
    "        \"\"\"\n",
    "        self.run_config[current_round_key] = server_round\n",
    "        return self.run_config\n",
    "\n",
    "    def server_fn(self, context: Context) -> ServerAppComponents:\n",
    "        \"\"\"\n",
    "        Server function to initialize the federated learning setup.\n",
    "\n",
    "        Args:\n",
    "            context: The context for the federated learning server.\n",
    "\n",
    "        Returns:\n",
    "            A ServerAppComponents object containing the strategy and configuration.\n",
    "        \"\"\"\n",
    "        # Read from config\n",
    "        num_rounds = self.run_config[\"num-server-rounds\"]\n",
    "        look_back = self.run_config[\"look-back\"]\n",
    "        learning_rate = self.run_config[\"learning-rate\"]\n",
    "        accuracy_threshold = self.run_config[\"accuracy-threshold\"]\n",
    "        \n",
    "        # Load the initial model parameters (e.g., shape can be pulled dynamically)\n",
    "        parameters = ndarrays_to_parameters(load_model(12050, look_back, learning_rate, accuracy_threshold).get_weights())\n",
    "        \n",
    "        num_clients = self.run_config[\"num-clients\"]\n",
    "        client_sample = self.run_config[\"client-sample\"]\n",
    "\n",
    "        # Define federated strategy (FedAdam in this case)\n",
    "        strategy = FedAdam(\n",
    "            fraction_fit=client_sample,\n",
    "            fraction_evaluate=client_sample,\n",
    "            min_available_clients=3,\n",
    "            min_fit_clients=3,\n",
    "            min_evaluate_clients=3,\n",
    "            initial_parameters=parameters,\n",
    "            on_fit_config_fn=self.config_fn,\n",
    "            on_evaluate_config_fn=self.config_fn,\n",
    "            fit_metrics_aggregation_fn=self.aggregate_metrics(),\n",
    "            evaluate_metrics_aggregation_fn=self.aggregate_metrics(True),\n",
    "        )\n",
    "        \n",
    "        if self.run_config[\"dp_enable\"]:\n",
    "\n",
    "            noise_multiplier = self.run_config[\"dp_noise-multiplier\"]\n",
    "            clipping_norm = self.run_config[\"dp_clipping-norm\"]\n",
    "            clients_sampled = num_clients * client_sample\n",
    "\n",
    "            strategy = DifferentialPrivacyClientSideFixedClipping(\n",
    "                strategy,\n",
    "                noise_multiplier,\n",
    "                clipping_norm,\n",
    "                clients_sampled\n",
    "            )\n",
    "        \n",
    "        # Server configuration (number of rounds)\n",
    "        config = ServerConfig(num_rounds=num_rounds)\n",
    "\n",
    "        # Return the server components with the strategy and configuration\n",
    "        return ServerAppComponents(strategy=strategy, config=config)\n",
    "\n",
    "    def create_server_app(self) -> ServerApp:\n",
    "        \"\"\"\n",
    "        Create and initialize the Flower server app.\n",
    "\n",
    "        Returns:\n",
    "            A ServerApp instance.\n",
    "        \"\"\"\n",
    "        return ServerApp(server_fn=self.server_fn)\n",
    "\n",
    "\n",
    "# Initialize the FederatedServer with the configuration\n",
    "federated_server = FederatedServer(run_config=run_config)\n",
    "\n",
    "# Create and run the server app\n",
    "server= federated_server.create_server_app()\n"
   ]
  },
  {
   "cell_type": "code",
   "execution_count": 14,
   "metadata": {},
   "outputs": [
    {
     "name": "stderr",
     "output_type": "stream",
     "text": [
      "\u001b[92mINFO \u001b[0m:      Starting Flower ServerApp, config: num_rounds=12, no round_timeout\n",
      "\u001b[92mINFO \u001b[0m:      \n",
      "\u001b[92mINFO \u001b[0m:      [INIT]\n",
      "\u001b[92mINFO \u001b[0m:      Using initial global parameters provided by strategy\n",
      "\u001b[92mINFO \u001b[0m:      Starting evaluation of initial global parameters\n",
      "\u001b[92mINFO \u001b[0m:      Evaluation returned no results (`None`)\n",
      "\u001b[92mINFO \u001b[0m:      \n",
      "\u001b[92mINFO \u001b[0m:      [ROUND 1]\n",
      "\u001b[92mINFO \u001b[0m:      configure_fit: strategy sampled 3 clients (out of 12)\n"
     ]
    },
    {
     "name": "stdout",
     "output_type": "stream",
     "text": [
      "\u001b[36m(ClientAppActor pid=2338)\u001b[0m Loaded benign: (7920, 12053), Loaded anomalies: (1332, 12053)\n",
      "\u001b[36m(ClientAppActor pid=2338)\u001b[0m Merging datasets...\n",
      "\u001b[36m(ClientAppActor pid=2338)\u001b[0m Total iterations: 39, Final anomaly percentage: 5.33%\n",
      "\u001b[36m(ClientAppActor pid=2338)\u001b[0m Merged shape: (8366, 12053)\n"
     ]
    },
    {
     "name": "stderr",
     "output_type": "stream",
     "text": [
      "\u001b[36m(ClientAppActor pid=2338)\u001b[0m /opt/homebrew/anaconda3/lib/python3.12/site-packages/keras/src/trainers/data_adapters/py_dataset_adapter.py:121: UserWarning: Your `PyDataset` class should call `super().__init__(**kwargs)` in its constructor. `**kwargs` can include `workers`, `use_multiprocessing`, `max_queue_size`. Do not pass these arguments to `fit()`, as they will be ignored.\n",
      "\u001b[36m(ClientAppActor pid=2338)\u001b[0m   self._warn_if_super_not_called()\n",
      "\u001b[36m(ClientAppActor pid=2338)\u001b[0m /opt/homebrew/anaconda3/lib/python3.12/site-packages/tensorflow/python/framework/ops.py:315: DeprecationWarning: Conversion of an array with ndim > 0 to a scalar is deprecated, and will error in future. Ensure you extract a single element from your array before performing this operation. (Deprecated NumPy 1.25.)\n",
      "\u001b[36m(ClientAppActor pid=2338)\u001b[0m   return float(self._numpy())\n"
     ]
    },
    {
     "name": "stdout",
     "output_type": "stream",
     "text": [
      "\u001b[36m(ClientAppActor pid=2339)\u001b[0m Loaded benign: (15358, 12053), Loaded anomalies: (2128, 12053)\n",
      "\u001b[36m(ClientAppActor pid=2339)\u001b[0m Merging datasets...\n",
      "\u001b[36m(ClientAppActor pid=2340)\u001b[0m Loaded benign: (17284, 12053), Loaded anomalies: (3221, 12053)\n",
      "\u001b[36m(ClientAppActor pid=2340)\u001b[0m Merging datasets...\n",
      "\u001b[36m(ClientAppActor pid=2339)\u001b[0m Total iterations: 30, Final anomaly percentage: 5.69%\n",
      "\u001b[36m(ClientAppActor pid=2339)\u001b[0m Merged shape: (15839, 12053)\n"
     ]
    },
    {
     "name": "stderr",
     "output_type": "stream",
     "text": [
      "\u001b[36m(ClientAppActor pid=2339)\u001b[0m /opt/homebrew/anaconda3/lib/python3.12/site-packages/keras/src/trainers/data_adapters/py_dataset_adapter.py:121: UserWarning: Your `PyDataset` class should call `super().__init__(**kwargs)` in its constructor. `**kwargs` can include `workers`, `use_multiprocessing`, `max_queue_size`. Do not pass these arguments to `fit()`, as they will be ignored.\n",
      "\u001b[36m(ClientAppActor pid=2339)\u001b[0m   self._warn_if_super_not_called()\n",
      "\u001b[36m(ClientAppActor pid=2340)\u001b[0m /opt/homebrew/anaconda3/lib/python3.12/site-packages/keras/src/trainers/data_adapters/py_dataset_adapter.py:121: UserWarning: Your `PyDataset` class should call `super().__init__(**kwargs)` in its constructor. `**kwargs` can include `workers`, `use_multiprocessing`, `max_queue_size`. Do not pass these arguments to `fit()`, as they will be ignored.\n",
      "\u001b[36m(ClientAppActor pid=2340)\u001b[0m   self._warn_if_super_not_called()\n",
      "\u001b[36m(ClientAppActor pid=2339)\u001b[0m /opt/homebrew/anaconda3/lib/python3.12/site-packages/tensorflow/python/framework/ops.py:315: DeprecationWarning: Conversion of an array with ndim > 0 to a scalar is deprecated, and will error in future. Ensure you extract a single element from your array before performing this operation. (Deprecated NumPy 1.25.)\n",
      "\u001b[36m(ClientAppActor pid=2339)\u001b[0m   return float(self._numpy())\n",
      "\u001b[92mINFO \u001b[0m:      aggregate_fit: received 3 results and 0 failures\n",
      "\u001b[92mINFO \u001b[0m:      configure_evaluate: strategy sampled 3 clients (out of 12)\n"
     ]
    },
    {
     "name": "stdout",
     "output_type": "stream",
     "text": [
      "\u001b[36m(ClientAppActor pid=2340)\u001b[0m Loaded benign: (2128, 12053), Loaded anomalies: (6059, 12053)\n",
      "\u001b[36m(ClientAppActor pid=2340)\u001b[0m Merging datasets...\n",
      "\u001b[36m(ClientAppActor pid=2340)\u001b[0m Total iterations: 38, Final anomaly percentage: 7.60%\n",
      "\u001b[36m(ClientAppActor pid=2340)\u001b[0m Merged shape: (16922, 12053)\n",
      "\u001b[36m(ClientAppActor pid=2340)\u001b[0m Total iterations: 28, Final anomaly percentage: 5.08%\n",
      "\u001b[36m(ClientAppActor pid=2340)\u001b[0m Merged shape: (2242, 12053)\n"
     ]
    },
    {
     "name": "stderr",
     "output_type": "stream",
     "text": [
      "\u001b[36m(ClientAppActor pid=2340)\u001b[0m /opt/homebrew/anaconda3/lib/python3.12/site-packages/keras/src/trainers/data_adapters/py_dataset_adapter.py:121: UserWarning: Your `PyDataset` class should call `super().__init__(**kwargs)` in its constructor. `**kwargs` can include `workers`, `use_multiprocessing`, `max_queue_size`. Do not pass these arguments to `fit()`, as they will be ignored.\n",
      "\u001b[36m(ClientAppActor pid=2340)\u001b[0m   self._warn_if_super_not_called()\n",
      "\u001b[36m(ClientAppActor pid=2340)\u001b[0m /opt/homebrew/anaconda3/lib/python3.12/site-packages/tensorflow/python/framework/ops.py:315: DeprecationWarning: Conversion of an array with ndim > 0 to a scalar is deprecated, and will error in future. Ensure you extract a single element from your array before performing this operation. (Deprecated NumPy 1.25.)\n",
      "\u001b[36m(ClientAppActor pid=2340)\u001b[0m   return float(self._numpy())\n"
     ]
    },
    {
     "name": "stdout",
     "output_type": "stream",
     "text": [
      "\u001b[36m(ClientAppActor pid=2339)\u001b[0m Loaded benign: (3221, 12053), Loaded anomalies: (6059, 12053)\n",
      "\u001b[36m(ClientAppActor pid=2339)\u001b[0m Merging datasets...\n"
     ]
    },
    {
     "name": "stderr",
     "output_type": "stream",
     "text": [
      "\u001b[36m(ClientAppActor pid=2340)\u001b[0m /opt/homebrew/anaconda3/lib/python3.12/site-packages/tensorflow/python/framework/ops.py:315: DeprecationWarning: Conversion of an array with ndim > 0 to a scalar is deprecated, and will error in future. Ensure you extract a single element from your array before performing this operation. (Deprecated NumPy 1.25.)\n",
      "\u001b[36m(ClientAppActor pid=2340)\u001b[0m   return float(self._numpy())\n",
      "\u001b[36m(ClientAppActor pid=2339)\u001b[0m /opt/homebrew/anaconda3/lib/python3.12/site-packages/keras/src/trainers/data_adapters/py_dataset_adapter.py:121: UserWarning: Your `PyDataset` class should call `super().__init__(**kwargs)` in its constructor. `**kwargs` can include `workers`, `use_multiprocessing`, `max_queue_size`. Do not pass these arguments to `fit()`, as they will be ignored.\n",
      "\u001b[36m(ClientAppActor pid=2339)\u001b[0m   self._warn_if_super_not_called()\n"
     ]
    },
    {
     "name": "stdout",
     "output_type": "stream",
     "text": [
      "\u001b[36m(ClientAppActor pid=2338)\u001b[0m Loaded benign: (42281, 12053), Loaded anomalies: (3221, 12053)\n",
      "\u001b[36m(ClientAppActor pid=2338)\u001b[0m Merging datasets...\n",
      "\u001b[36m(ClientAppActor pid=2339)\u001b[0m Total iterations: 26, Final anomaly percentage: 5.51%\n",
      "\u001b[36m(ClientAppActor pid=2339)\u001b[0m Merged shape: (3409, 12053)\n",
      "\u001b[36m(ClientAppActor pid=2338)\u001b[0m Total iterations: 44, Final anomaly percentage: 5.61%\n",
      "\u001b[36m(ClientAppActor pid=2338)\u001b[0m Merged shape: (35236, 12053)\n"
     ]
    },
    {
     "name": "stderr",
     "output_type": "stream",
     "text": [
      "\u001b[36m(ClientAppActor pid=2339)\u001b[0m /opt/homebrew/anaconda3/lib/python3.12/site-packages/tensorflow/python/framework/ops.py:315: DeprecationWarning: Conversion of an array with ndim > 0 to a scalar is deprecated, and will error in future. Ensure you extract a single element from your array before performing this operation. (Deprecated NumPy 1.25.)\n",
      "\u001b[36m(ClientAppActor pid=2339)\u001b[0m   return float(self._numpy())\n",
      "\u001b[36m(ClientAppActor pid=2338)\u001b[0m /opt/homebrew/anaconda3/lib/python3.12/site-packages/keras/src/trainers/data_adapters/py_dataset_adapter.py:121: UserWarning: Your `PyDataset` class should call `super().__init__(**kwargs)` in its constructor. `**kwargs` can include `workers`, `use_multiprocessing`, `max_queue_size`. Do not pass these arguments to `fit()`, as they will be ignored.\n",
      "\u001b[36m(ClientAppActor pid=2338)\u001b[0m   self._warn_if_super_not_called()\n",
      "\u001b[36m(ClientAppActor pid=2338)\u001b[0m /opt/homebrew/anaconda3/lib/python3.12/site-packages/tensorflow/python/framework/ops.py:315: DeprecationWarning: Conversion of an array with ndim > 0 to a scalar is deprecated, and will error in future. Ensure you extract a single element from your array before performing this operation. (Deprecated NumPy 1.25.)\n",
      "\u001b[36m(ClientAppActor pid=2338)\u001b[0m   return float(self._numpy())\n",
      "\u001b[92mINFO \u001b[0m:      aggregate_evaluate: received 3 results and 0 failures\n",
      "\u001b[92mINFO \u001b[0m:      \n",
      "\u001b[92mINFO \u001b[0m:      [ROUND 2]\n",
      "\u001b[92mINFO \u001b[0m:      configure_fit: strategy sampled 3 clients (out of 12)\n"
     ]
    },
    {
     "name": "stdout",
     "output_type": "stream",
     "text": [
      "\u001b[36m(ClientAppActor pid=2339)\u001b[0m Loaded benign: (3221, 12053), Loaded anomalies: (15358, 12053)\n",
      "\u001b[36m(ClientAppActor pid=2339)\u001b[0m Merging datasets...\n",
      "\u001b[36m(ClientAppActor pid=2339)\u001b[0m Total iterations: 20, Final anomaly percentage: 5.98%\n",
      "\u001b[36m(ClientAppActor pid=2339)\u001b[0m Merged shape: (3426, 12053)\n"
     ]
    },
    {
     "name": "stderr",
     "output_type": "stream",
     "text": [
      "\u001b[36m(ClientAppActor pid=2339)\u001b[0m /opt/homebrew/anaconda3/lib/python3.12/site-packages/keras/src/trainers/data_adapters/py_dataset_adapter.py:121: UserWarning: Your `PyDataset` class should call `super().__init__(**kwargs)` in its constructor. `**kwargs` can include `workers`, `use_multiprocessing`, `max_queue_size`. Do not pass these arguments to `fit()`, as they will be ignored.\n",
      "\u001b[36m(ClientAppActor pid=2339)\u001b[0m   self._warn_if_super_not_called()\n",
      "\u001b[36m(ClientAppActor pid=2339)\u001b[0m /opt/homebrew/anaconda3/lib/python3.12/site-packages/tensorflow/python/framework/ops.py:315: DeprecationWarning: Conversion of an array with ndim > 0 to a scalar is deprecated, and will error in future. Ensure you extract a single element from your array before performing this operation. (Deprecated NumPy 1.25.)\n",
      "\u001b[36m(ClientAppActor pid=2339)\u001b[0m   return float(self._numpy())\n"
     ]
    },
    {
     "name": "stdout",
     "output_type": "stream",
     "text": [
      "\u001b[36m(ClientAppActor pid=2338)\u001b[0m Loaded benign: (2128, 12053), Loaded anomalies: (55778, 12053)\n",
      "\u001b[36m(ClientAppActor pid=2338)\u001b[0m Merging datasets...\n",
      "\u001b[36m(ClientAppActor pid=2338)\u001b[0m Total iterations: 6, Final anomaly percentage: 6.87%\n",
      "\u001b[36m(ClientAppActor pid=2338)\u001b[0m Merged shape: (2285, 12053)\n"
     ]
    },
    {
     "name": "stderr",
     "output_type": "stream",
     "text": [
      "\u001b[36m(ClientAppActor pid=2338)\u001b[0m /opt/homebrew/anaconda3/lib/python3.12/site-packages/keras/src/trainers/data_adapters/py_dataset_adapter.py:121: UserWarning: Your `PyDataset` class should call `super().__init__(**kwargs)` in its constructor. `**kwargs` can include `workers`, `use_multiprocessing`, `max_queue_size`. Do not pass these arguments to `fit()`, as they will be ignored.\n",
      "\u001b[36m(ClientAppActor pid=2338)\u001b[0m   self._warn_if_super_not_called()\n",
      "\u001b[36m(ClientAppActor pid=2338)\u001b[0m /opt/homebrew/anaconda3/lib/python3.12/site-packages/tensorflow/python/framework/ops.py:315: DeprecationWarning: Conversion of an array with ndim > 0 to a scalar is deprecated, and will error in future. Ensure you extract a single element from your array before performing this operation. (Deprecated NumPy 1.25.)\n",
      "\u001b[36m(ClientAppActor pid=2338)\u001b[0m   return float(self._numpy())\n"
     ]
    },
    {
     "name": "stdout",
     "output_type": "stream",
     "text": [
      "\u001b[36m(ClientAppActor pid=2340)\u001b[0m Loaded benign: (55778, 12053), Loaded anomalies: (17284, 12053)\n",
      "\u001b[36m(ClientAppActor pid=2340)\u001b[0m Merging datasets...\n",
      "\u001b[36m(ClientAppActor pid=2340)\u001b[0m Total iterations: 37, Final anomaly percentage: 5.39%\n",
      "\u001b[36m(ClientAppActor pid=2340)\u001b[0m Merged shape: (51590, 12053)\n"
     ]
    },
    {
     "name": "stderr",
     "output_type": "stream",
     "text": [
      "\u001b[36m(ClientAppActor pid=2340)\u001b[0m /opt/homebrew/anaconda3/lib/python3.12/site-packages/keras/src/trainers/data_adapters/py_dataset_adapter.py:121: UserWarning: Your `PyDataset` class should call `super().__init__(**kwargs)` in its constructor. `**kwargs` can include `workers`, `use_multiprocessing`, `max_queue_size`. Do not pass these arguments to `fit()`, as they will be ignored.\n",
      "\u001b[36m(ClientAppActor pid=2340)\u001b[0m   self._warn_if_super_not_called()\n",
      "\u001b[36m(ClientAppActor pid=2340)\u001b[0m /opt/homebrew/anaconda3/lib/python3.12/site-packages/tensorflow/python/framework/ops.py:315: DeprecationWarning: Conversion of an array with ndim > 0 to a scalar is deprecated, and will error in future. Ensure you extract a single element from your array before performing this operation. (Deprecated NumPy 1.25.)\n",
      "\u001b[36m(ClientAppActor pid=2340)\u001b[0m   return float(self._numpy())\n",
      "\u001b[92mINFO \u001b[0m:      aggregate_fit: received 3 results and 0 failures\n",
      "\u001b[92mINFO \u001b[0m:      configure_evaluate: strategy sampled 3 clients (out of 12)\n"
     ]
    },
    {
     "name": "stdout",
     "output_type": "stream",
     "text": [
      "\u001b[36m(ClientAppActor pid=2339)\u001b[0m Loaded benign: (6059, 12053), Loaded anomalies: (7920, 12053)\n",
      "\u001b[36m(ClientAppActor pid=2339)\u001b[0m Merging datasets...\n",
      "\u001b[36m(ClientAppActor pid=2340)\u001b[0m Loaded benign: (1332, 12053), Loaded anomalies: (15358, 12053)\n",
      "\u001b[36m(ClientAppActor pid=2340)\u001b[0m Merging datasets...\n",
      "\u001b[36m(ClientAppActor pid=2339)\u001b[0m Total iterations: 26, Final anomaly percentage: 6.62%\n",
      "\u001b[36m(ClientAppActor pid=2339)\u001b[0m Merged shape: (6482, 12053)\n"
     ]
    },
    {
     "name": "stderr",
     "output_type": "stream",
     "text": [
      "\u001b[36m(ClientAppActor pid=2339)\u001b[0m /opt/homebrew/anaconda3/lib/python3.12/site-packages/keras/src/trainers/data_adapters/py_dataset_adapter.py:121: UserWarning: Your `PyDataset` class should call `super().__init__(**kwargs)` in its constructor. `**kwargs` can include `workers`, `use_multiprocessing`, `max_queue_size`. Do not pass these arguments to `fit()`, as they will be ignored.\n",
      "\u001b[36m(ClientAppActor pid=2339)\u001b[0m   self._warn_if_super_not_called()\n",
      "\u001b[36m(ClientAppActor pid=2339)\u001b[0m /opt/homebrew/anaconda3/lib/python3.12/site-packages/tensorflow/python/framework/ops.py:315: DeprecationWarning: Conversion of an array with ndim > 0 to a scalar is deprecated, and will error in future. Ensure you extract a single element from your array before performing this operation. (Deprecated NumPy 1.25.)\n",
      "\u001b[36m(ClientAppActor pid=2339)\u001b[0m   return float(self._numpy())\n",
      "\u001b[36m(ClientAppActor pid=2340)\u001b[0m /opt/homebrew/anaconda3/lib/python3.12/site-packages/keras/src/trainers/data_adapters/py_dataset_adapter.py:121: UserWarning: Your `PyDataset` class should call `super().__init__(**kwargs)` in its constructor. `**kwargs` can include `workers`, `use_multiprocessing`, `max_queue_size`. Do not pass these arguments to `fit()`, as they will be ignored.\n",
      "\u001b[36m(ClientAppActor pid=2340)\u001b[0m   self._warn_if_super_not_called()\n"
     ]
    },
    {
     "name": "stdout",
     "output_type": "stream",
     "text": [
      "\u001b[36m(ClientAppActor pid=2338)\u001b[0m Loaded benign: (42281, 12053), Loaded anomalies: (7920, 12053)\n",
      "\u001b[36m(ClientAppActor pid=2338)\u001b[0m Merging datasets...\n",
      "\u001b[36m(ClientAppActor pid=2340)\u001b[0m Total iterations: 19, Final anomaly percentage: 9.76%\n",
      "\u001b[36m(ClientAppActor pid=2340)\u001b[0m Merged shape: (1476, 12053)\n",
      "\u001b[36m(ClientAppActor pid=2338)\u001b[0m Total iterations: 35, Final anomaly percentage: 5.97%\n",
      "\u001b[36m(ClientAppActor pid=2338)\u001b[0m Merged shape: (44873, 12053)\n"
     ]
    },
    {
     "name": "stderr",
     "output_type": "stream",
     "text": [
      "\u001b[36m(ClientAppActor pid=2340)\u001b[0m /opt/homebrew/anaconda3/lib/python3.12/site-packages/tensorflow/python/framework/ops.py:315: DeprecationWarning: Conversion of an array with ndim > 0 to a scalar is deprecated, and will error in future. Ensure you extract a single element from your array before performing this operation. (Deprecated NumPy 1.25.)\n",
      "\u001b[36m(ClientAppActor pid=2340)\u001b[0m   return float(self._numpy())\n",
      "\u001b[36m(ClientAppActor pid=2338)\u001b[0m /opt/homebrew/anaconda3/lib/python3.12/site-packages/keras/src/trainers/data_adapters/py_dataset_adapter.py:121: UserWarning: Your `PyDataset` class should call `super().__init__(**kwargs)` in its constructor. `**kwargs` can include `workers`, `use_multiprocessing`, `max_queue_size`. Do not pass these arguments to `fit()`, as they will be ignored.\n",
      "\u001b[36m(ClientAppActor pid=2338)\u001b[0m   self._warn_if_super_not_called()\n",
      "\u001b[36m(ClientAppActor pid=2338)\u001b[0m /opt/homebrew/anaconda3/lib/python3.12/site-packages/tensorflow/python/framework/ops.py:315: DeprecationWarning: Conversion of an array with ndim > 0 to a scalar is deprecated, and will error in future. Ensure you extract a single element from your array before performing this operation. (Deprecated NumPy 1.25.)\n",
      "\u001b[36m(ClientAppActor pid=2338)\u001b[0m   return float(self._numpy())\n",
      "\u001b[92mINFO \u001b[0m:      aggregate_evaluate: received 3 results and 0 failures\n",
      "\u001b[92mINFO \u001b[0m:      \n",
      "\u001b[92mINFO \u001b[0m:      [ROUND 3]\n",
      "\u001b[92mINFO \u001b[0m:      configure_fit: strategy sampled 3 clients (out of 12)\n"
     ]
    },
    {
     "name": "stdout",
     "output_type": "stream",
     "text": [
      "\u001b[36m(ClientAppActor pid=2340)\u001b[0m Loaded benign: (1332, 12053), Loaded anomalies: (3221, 12053)\n",
      "\u001b[36m(ClientAppActor pid=2340)\u001b[0m Merging datasets...\n",
      "\u001b[36m(ClientAppActor pid=2340)\u001b[0m Total iterations: 30, Final anomaly percentage: 10.06%\n",
      "\u001b[36m(ClientAppActor pid=2340)\u001b[0m Merged shape: (1481, 12053)\n"
     ]
    },
    {
     "name": "stderr",
     "output_type": "stream",
     "text": [
      "\u001b[36m(ClientAppActor pid=2340)\u001b[0m /opt/homebrew/anaconda3/lib/python3.12/site-packages/keras/src/trainers/data_adapters/py_dataset_adapter.py:121: UserWarning: Your `PyDataset` class should call `super().__init__(**kwargs)` in its constructor. `**kwargs` can include `workers`, `use_multiprocessing`, `max_queue_size`. Do not pass these arguments to `fit()`, as they will be ignored.\n",
      "\u001b[36m(ClientAppActor pid=2340)\u001b[0m   self._warn_if_super_not_called()\n",
      "\u001b[36m(ClientAppActor pid=2340)\u001b[0m /opt/homebrew/anaconda3/lib/python3.12/site-packages/tensorflow/python/framework/ops.py:315: DeprecationWarning: Conversion of an array with ndim > 0 to a scalar is deprecated, and will error in future. Ensure you extract a single element from your array before performing this operation. (Deprecated NumPy 1.25.)\n",
      "\u001b[36m(ClientAppActor pid=2340)\u001b[0m   return float(self._numpy())\n"
     ]
    },
    {
     "name": "stdout",
     "output_type": "stream",
     "text": [
      "\u001b[36m(ClientAppActor pid=2338)\u001b[0m Loaded benign: (5404, 12053), Loaded anomalies: (7920, 12053)\n",
      "\u001b[36m(ClientAppActor pid=2338)\u001b[0m Merging datasets...\n",
      "\u001b[36m(ClientAppActor pid=2338)\u001b[0m Total iterations: 25, Final anomaly percentage: 5.44%\n",
      "\u001b[36m(ClientAppActor pid=2338)\u001b[0m Merged shape: (5715, 12053)\n"
     ]
    },
    {
     "name": "stderr",
     "output_type": "stream",
     "text": [
      "\u001b[36m(ClientAppActor pid=2338)\u001b[0m /opt/homebrew/anaconda3/lib/python3.12/site-packages/keras/src/trainers/data_adapters/py_dataset_adapter.py:121: UserWarning: Your `PyDataset` class should call `super().__init__(**kwargs)` in its constructor. `**kwargs` can include `workers`, `use_multiprocessing`, `max_queue_size`. Do not pass these arguments to `fit()`, as they will be ignored.\n",
      "\u001b[36m(ClientAppActor pid=2338)\u001b[0m   self._warn_if_super_not_called()\n",
      "\u001b[36m(ClientAppActor pid=2338)\u001b[0m /opt/homebrew/anaconda3/lib/python3.12/site-packages/tensorflow/python/framework/ops.py:315: DeprecationWarning: Conversion of an array with ndim > 0 to a scalar is deprecated, and will error in future. Ensure you extract a single element from your array before performing this operation. (Deprecated NumPy 1.25.)\n",
      "\u001b[36m(ClientAppActor pid=2338)\u001b[0m   return float(self._numpy())\n"
     ]
    },
    {
     "name": "stdout",
     "output_type": "stream",
     "text": [
      "\u001b[36m(ClientAppActor pid=2339)\u001b[0m Loaded benign: (6059, 12053), Loaded anomalies: (55778, 12053)\n",
      "\u001b[36m(ClientAppActor pid=2339)\u001b[0m Merging datasets...\n",
      "\u001b[36m(ClientAppActor pid=2339)\u001b[0m Total iterations: 15, Final anomaly percentage: 5.25%\n",
      "\u001b[36m(ClientAppActor pid=2339)\u001b[0m Merged shape: (6345, 12053)\n"
     ]
    },
    {
     "name": "stderr",
     "output_type": "stream",
     "text": [
      "\u001b[36m(ClientAppActor pid=2339)\u001b[0m /opt/homebrew/anaconda3/lib/python3.12/site-packages/keras/src/trainers/data_adapters/py_dataset_adapter.py:121: UserWarning: Your `PyDataset` class should call `super().__init__(**kwargs)` in its constructor. `**kwargs` can include `workers`, `use_multiprocessing`, `max_queue_size`. Do not pass these arguments to `fit()`, as they will be ignored.\n",
      "\u001b[36m(ClientAppActor pid=2339)\u001b[0m   self._warn_if_super_not_called()\n",
      "\u001b[36m(ClientAppActor pid=2339)\u001b[0m /opt/homebrew/anaconda3/lib/python3.12/site-packages/tensorflow/python/framework/ops.py:315: DeprecationWarning: Conversion of an array with ndim > 0 to a scalar is deprecated, and will error in future. Ensure you extract a single element from your array before performing this operation. (Deprecated NumPy 1.25.)\n",
      "\u001b[36m(ClientAppActor pid=2339)\u001b[0m   return float(self._numpy())\n",
      "\u001b[92mINFO \u001b[0m:      aggregate_fit: received 3 results and 0 failures\n",
      "\u001b[92mINFO \u001b[0m:      configure_evaluate: strategy sampled 3 clients (out of 12)\n"
     ]
    },
    {
     "name": "stdout",
     "output_type": "stream",
     "text": [
      "\u001b[36m(ClientAppActor pid=2338)\u001b[0m Loaded benign: (1332, 12053), Loaded anomalies: (17284, 12053)\n",
      "\u001b[36m(ClientAppActor pid=2338)\u001b[0m Merging datasets...\n",
      "\u001b[36m(ClientAppActor pid=2338)\u001b[0m Total iterations: 9, Final anomaly percentage: 6.33%\n",
      "\u001b[36m(ClientAppActor pid=2338)\u001b[0m Merged shape: (1422, 12053)\n"
     ]
    },
    {
     "name": "stderr",
     "output_type": "stream",
     "text": [
      "\u001b[36m(ClientAppActor pid=2338)\u001b[0m /opt/homebrew/anaconda3/lib/python3.12/site-packages/keras/src/trainers/data_adapters/py_dataset_adapter.py:121: UserWarning: Your `PyDataset` class should call `super().__init__(**kwargs)` in its constructor. `**kwargs` can include `workers`, `use_multiprocessing`, `max_queue_size`. Do not pass these arguments to `fit()`, as they will be ignored.\n",
      "\u001b[36m(ClientAppActor pid=2338)\u001b[0m   self._warn_if_super_not_called()\n",
      "\u001b[36m(ClientAppActor pid=2338)\u001b[0m /opt/homebrew/anaconda3/lib/python3.12/site-packages/tensorflow/python/framework/ops.py:315: DeprecationWarning: Conversion of an array with ndim > 0 to a scalar is deprecated, and will error in future. Ensure you extract a single element from your array before performing this operation. (Deprecated NumPy 1.25.)\n",
      "\u001b[36m(ClientAppActor pid=2338)\u001b[0m   return float(self._numpy())\n"
     ]
    },
    {
     "name": "stdout",
     "output_type": "stream",
     "text": [
      "\u001b[36m(ClientAppActor pid=2340)\u001b[0m Loaded benign: (15358, 12053), Loaded anomalies: (42281, 12053)\n",
      "\u001b[36m(ClientAppActor pid=2340)\u001b[0m Merging datasets...\n",
      "\u001b[36m(ClientAppActor pid=2339)\u001b[0m Loaded benign: (179, 12053), Loaded anomalies: (55778, 12053)\n",
      "\u001b[36m(ClientAppActor pid=2339)\u001b[0m Merging datasets...\n",
      "\u001b[36m(ClientAppActor pid=2339)\u001b[0m Total iterations: 1, Final anomaly percentage: 8.67%\n",
      "\u001b[36m(ClientAppActor pid=2339)\u001b[0m Merged shape: (196, 12053)\n"
     ]
    },
    {
     "name": "stderr",
     "output_type": "stream",
     "text": [
      "\u001b[36m(ClientAppActor pid=2339)\u001b[0m /opt/homebrew/anaconda3/lib/python3.12/site-packages/keras/src/trainers/data_adapters/py_dataset_adapter.py:121: UserWarning: Your `PyDataset` class should call `super().__init__(**kwargs)` in its constructor. `**kwargs` can include `workers`, `use_multiprocessing`, `max_queue_size`. Do not pass these arguments to `fit()`, as they will be ignored.\n",
      "\u001b[36m(ClientAppActor pid=2339)\u001b[0m   self._warn_if_super_not_called()\n",
      "\u001b[36m(ClientAppActor pid=2339)\u001b[0m /opt/homebrew/anaconda3/lib/python3.12/site-packages/tensorflow/python/framework/ops.py:315: DeprecationWarning: Conversion of an array with ndim > 0 to a scalar is deprecated, and will error in future. Ensure you extract a single element from your array before performing this operation. (Deprecated NumPy 1.25.)\n",
      "\u001b[36m(ClientAppActor pid=2339)\u001b[0m   return float(self._numpy())\n"
     ]
    },
    {
     "name": "stdout",
     "output_type": "stream",
     "text": [
      "\u001b[36m(ClientAppActor pid=2340)\u001b[0m Total iterations: 22, Final anomaly percentage: 5.24%\n",
      "\u001b[36m(ClientAppActor pid=2340)\u001b[0m Merged shape: (16079, 12053)\n"
     ]
    },
    {
     "name": "stderr",
     "output_type": "stream",
     "text": [
      "\u001b[36m(ClientAppActor pid=2340)\u001b[0m /opt/homebrew/anaconda3/lib/python3.12/site-packages/keras/src/trainers/data_adapters/py_dataset_adapter.py:121: UserWarning: Your `PyDataset` class should call `super().__init__(**kwargs)` in its constructor. `**kwargs` can include `workers`, `use_multiprocessing`, `max_queue_size`. Do not pass these arguments to `fit()`, as they will be ignored.\n",
      "\u001b[36m(ClientAppActor pid=2340)\u001b[0m   self._warn_if_super_not_called()\n",
      "\u001b[36m(ClientAppActor pid=2340)\u001b[0m /opt/homebrew/anaconda3/lib/python3.12/site-packages/tensorflow/python/framework/ops.py:315: DeprecationWarning: Conversion of an array with ndim > 0 to a scalar is deprecated, and will error in future. Ensure you extract a single element from your array before performing this operation. (Deprecated NumPy 1.25.)\n",
      "\u001b[36m(ClientAppActor pid=2340)\u001b[0m   return float(self._numpy())\n",
      "\u001b[92mINFO \u001b[0m:      aggregate_evaluate: received 3 results and 0 failures\n",
      "\u001b[92mINFO \u001b[0m:      \n",
      "\u001b[92mINFO \u001b[0m:      [ROUND 4]\n",
      "\u001b[92mINFO \u001b[0m:      configure_fit: strategy sampled 3 clients (out of 12)\n"
     ]
    },
    {
     "name": "stdout",
     "output_type": "stream",
     "text": [
      "\u001b[36m(ClientAppActor pid=2339)\u001b[0m Loaded benign: (1332, 12053), Loaded anomalies: (3221, 12053)\n",
      "\u001b[36m(ClientAppActor pid=2339)\u001b[0m Merging datasets...\n",
      "\u001b[36m(ClientAppActor pid=2339)\u001b[0m Total iterations: 24, Final anomaly percentage: 5.93%\n",
      "\u001b[36m(ClientAppActor pid=2339)\u001b[0m Merged shape: (1416, 12053)\n"
     ]
    },
    {
     "name": "stderr",
     "output_type": "stream",
     "text": [
      "\u001b[36m(ClientAppActor pid=2339)\u001b[0m /opt/homebrew/anaconda3/lib/python3.12/site-packages/keras/src/trainers/data_adapters/py_dataset_adapter.py:121: UserWarning: Your `PyDataset` class should call `super().__init__(**kwargs)` in its constructor. `**kwargs` can include `workers`, `use_multiprocessing`, `max_queue_size`. Do not pass these arguments to `fit()`, as they will be ignored.\n",
      "\u001b[36m(ClientAppActor pid=2339)\u001b[0m   self._warn_if_super_not_called()\n",
      "\u001b[36m(ClientAppActor pid=2339)\u001b[0m /opt/homebrew/anaconda3/lib/python3.12/site-packages/tensorflow/python/framework/ops.py:315: DeprecationWarning: Conversion of an array with ndim > 0 to a scalar is deprecated, and will error in future. Ensure you extract a single element from your array before performing this operation. (Deprecated NumPy 1.25.)\n",
      "\u001b[36m(ClientAppActor pid=2339)\u001b[0m   return float(self._numpy())\n"
     ]
    },
    {
     "name": "stdout",
     "output_type": "stream",
     "text": [
      "\u001b[36m(ClientAppActor pid=2340)\u001b[0m Loaded benign: (17284, 12053), Loaded anomalies: (15358, 12053)\n",
      "\u001b[36m(ClientAppActor pid=2340)\u001b[0m Merging datasets...\n",
      "\u001b[36m(ClientAppActor pid=2340)\u001b[0m Total iterations: 32, Final anomaly percentage: 5.57%\n",
      "\u001b[36m(ClientAppActor pid=2340)\u001b[0m Merged shape: (17837, 12053)\n"
     ]
    },
    {
     "name": "stderr",
     "output_type": "stream",
     "text": [
      "\u001b[36m(ClientAppActor pid=2340)\u001b[0m /opt/homebrew/anaconda3/lib/python3.12/site-packages/keras/src/trainers/data_adapters/py_dataset_adapter.py:121: UserWarning: Your `PyDataset` class should call `super().__init__(**kwargs)` in its constructor. `**kwargs` can include `workers`, `use_multiprocessing`, `max_queue_size`. Do not pass these arguments to `fit()`, as they will be ignored.\n",
      "\u001b[36m(ClientAppActor pid=2340)\u001b[0m   self._warn_if_super_not_called()\n",
      "\u001b[36m(ClientAppActor pid=2340)\u001b[0m /opt/homebrew/anaconda3/lib/python3.12/site-packages/tensorflow/python/framework/ops.py:315: DeprecationWarning: Conversion of an array with ndim > 0 to a scalar is deprecated, and will error in future. Ensure you extract a single element from your array before performing this operation. (Deprecated NumPy 1.25.)\n",
      "\u001b[36m(ClientAppActor pid=2340)\u001b[0m   return float(self._numpy())\n"
     ]
    },
    {
     "name": "stdout",
     "output_type": "stream",
     "text": [
      "\u001b[36m(ClientAppActor pid=2338)\u001b[0m Loaded benign: (15358, 12053), Loaded anomalies: (42281, 12053)\n",
      "\u001b[36m(ClientAppActor pid=2338)\u001b[0m Merging datasets...\n",
      "\u001b[36m(ClientAppActor pid=2338)\u001b[0m Total iterations: 23, Final anomaly percentage: 5.62%\n",
      "\u001b[36m(ClientAppActor pid=2338)\u001b[0m Merged shape: (15981, 12053)\n"
     ]
    },
    {
     "name": "stderr",
     "output_type": "stream",
     "text": [
      "\u001b[36m(ClientAppActor pid=2338)\u001b[0m /opt/homebrew/anaconda3/lib/python3.12/site-packages/keras/src/trainers/data_adapters/py_dataset_adapter.py:121: UserWarning: Your `PyDataset` class should call `super().__init__(**kwargs)` in its constructor. `**kwargs` can include `workers`, `use_multiprocessing`, `max_queue_size`. Do not pass these arguments to `fit()`, as they will be ignored.\n",
      "\u001b[36m(ClientAppActor pid=2338)\u001b[0m   self._warn_if_super_not_called()\n",
      "\u001b[36m(ClientAppActor pid=2338)\u001b[0m /opt/homebrew/anaconda3/lib/python3.12/site-packages/tensorflow/python/framework/ops.py:315: DeprecationWarning: Conversion of an array with ndim > 0 to a scalar is deprecated, and will error in future. Ensure you extract a single element from your array before performing this operation. (Deprecated NumPy 1.25.)\n",
      "\u001b[36m(ClientAppActor pid=2338)\u001b[0m   return float(self._numpy())\n",
      "\u001b[92mINFO \u001b[0m:      aggregate_fit: received 3 results and 0 failures\n",
      "\u001b[92mINFO \u001b[0m:      configure_evaluate: strategy sampled 3 clients (out of 12)\n"
     ]
    },
    {
     "name": "stdout",
     "output_type": "stream",
     "text": [
      "\u001b[36m(ClientAppActor pid=2340)\u001b[0m Loaded benign: (3221, 12053), Loaded anomalies: (7920, 12053)\n",
      "\u001b[36m(ClientAppActor pid=2340)\u001b[0m Merging datasets...\n",
      "\u001b[36m(ClientAppActor pid=2340)\u001b[0m Total iterations: 23, Final anomaly percentage: 5.76%\n",
      "\u001b[36m(ClientAppActor pid=2340)\u001b[0m Merged shape: (3418, 12053)\n"
     ]
    },
    {
     "name": "stderr",
     "output_type": "stream",
     "text": [
      "\u001b[36m(ClientAppActor pid=2340)\u001b[0m /opt/homebrew/anaconda3/lib/python3.12/site-packages/keras/src/trainers/data_adapters/py_dataset_adapter.py:121: UserWarning: Your `PyDataset` class should call `super().__init__(**kwargs)` in its constructor. `**kwargs` can include `workers`, `use_multiprocessing`, `max_queue_size`. Do not pass these arguments to `fit()`, as they will be ignored.\n",
      "\u001b[36m(ClientAppActor pid=2340)\u001b[0m   self._warn_if_super_not_called()\n",
      "\u001b[36m(ClientAppActor pid=2340)\u001b[0m /opt/homebrew/anaconda3/lib/python3.12/site-packages/tensorflow/python/framework/ops.py:315: DeprecationWarning: Conversion of an array with ndim > 0 to a scalar is deprecated, and will error in future. Ensure you extract a single element from your array before performing this operation. (Deprecated NumPy 1.25.)\n",
      "\u001b[36m(ClientAppActor pid=2340)\u001b[0m   return float(self._numpy())\n"
     ]
    },
    {
     "name": "stdout",
     "output_type": "stream",
     "text": [
      "\u001b[36m(ClientAppActor pid=2339)\u001b[0m Loaded benign: (7920, 12053), Loaded anomalies: (10114, 12053)\n",
      "\u001b[36m(ClientAppActor pid=2339)\u001b[0m Merging datasets...\n",
      "\u001b[36m(ClientAppActor pid=2339)\u001b[0m Total iterations: 25, Final anomaly percentage: 5.59%\n",
      "\u001b[36m(ClientAppActor pid=2339)\u001b[0m Merged shape: (8270, 12053)\n",
      "\u001b[36m(ClientAppActor pid=2338)\u001b[0m Loaded benign: (17284, 12053), Loaded anomalies: (6059, 12053)\n",
      "\u001b[36m(ClientAppActor pid=2338)\u001b[0m Merging datasets...\n"
     ]
    },
    {
     "name": "stderr",
     "output_type": "stream",
     "text": [
      "\u001b[36m(ClientAppActor pid=2339)\u001b[0m /opt/homebrew/anaconda3/lib/python3.12/site-packages/keras/src/trainers/data_adapters/py_dataset_adapter.py:121: UserWarning: Your `PyDataset` class should call `super().__init__(**kwargs)` in its constructor. `**kwargs` can include `workers`, `use_multiprocessing`, `max_queue_size`. Do not pass these arguments to `fit()`, as they will be ignored.\n",
      "\u001b[36m(ClientAppActor pid=2339)\u001b[0m   self._warn_if_super_not_called()\n",
      "\u001b[36m(ClientAppActor pid=2339)\u001b[0m /opt/homebrew/anaconda3/lib/python3.12/site-packages/tensorflow/python/framework/ops.py:315: DeprecationWarning: Conversion of an array with ndim > 0 to a scalar is deprecated, and will error in future. Ensure you extract a single element from your array before performing this operation. (Deprecated NumPy 1.25.)\n",
      "\u001b[36m(ClientAppActor pid=2339)\u001b[0m   return float(self._numpy())\n"
     ]
    },
    {
     "name": "stdout",
     "output_type": "stream",
     "text": [
      "\u001b[36m(ClientAppActor pid=2338)\u001b[0m Total iterations: 32, Final anomaly percentage: 5.01%\n",
      "\u001b[36m(ClientAppActor pid=2338)\u001b[0m Merged shape: (17872, 12053)\n"
     ]
    },
    {
     "name": "stderr",
     "output_type": "stream",
     "text": [
      "\u001b[36m(ClientAppActor pid=2338)\u001b[0m /opt/homebrew/anaconda3/lib/python3.12/site-packages/keras/src/trainers/data_adapters/py_dataset_adapter.py:121: UserWarning: Your `PyDataset` class should call `super().__init__(**kwargs)` in its constructor. `**kwargs` can include `workers`, `use_multiprocessing`, `max_queue_size`. Do not pass these arguments to `fit()`, as they will be ignored.\n",
      "\u001b[36m(ClientAppActor pid=2338)\u001b[0m   self._warn_if_super_not_called()\n",
      "\u001b[36m(ClientAppActor pid=2338)\u001b[0m /opt/homebrew/anaconda3/lib/python3.12/site-packages/tensorflow/python/framework/ops.py:315: DeprecationWarning: Conversion of an array with ndim > 0 to a scalar is deprecated, and will error in future. Ensure you extract a single element from your array before performing this operation. (Deprecated NumPy 1.25.)\n",
      "\u001b[36m(ClientAppActor pid=2338)\u001b[0m   return float(self._numpy())\n",
      "\u001b[92mINFO \u001b[0m:      aggregate_evaluate: received 3 results and 0 failures\n",
      "\u001b[92mINFO \u001b[0m:      \n",
      "\u001b[92mINFO \u001b[0m:      [ROUND 5]\n",
      "\u001b[92mINFO \u001b[0m:      configure_fit: strategy sampled 3 clients (out of 12)\n"
     ]
    },
    {
     "name": "stdout",
     "output_type": "stream",
     "text": [
      "\u001b[36m(ClientAppActor pid=2339)\u001b[0m Loaded benign: (6059, 12053), Loaded anomalies: (2128, 12053)\n",
      "\u001b[36m(ClientAppActor pid=2339)\u001b[0m Merging datasets...\n",
      "\u001b[36m(ClientAppActor pid=2339)\u001b[0m Total iterations: 23, Final anomaly percentage: 7.42%\n",
      "\u001b[36m(ClientAppActor pid=2339)\u001b[0m Merged shape: (6512, 12053)\n"
     ]
    },
    {
     "name": "stderr",
     "output_type": "stream",
     "text": [
      "\u001b[36m(ClientAppActor pid=2339)\u001b[0m /opt/homebrew/anaconda3/lib/python3.12/site-packages/keras/src/trainers/data_adapters/py_dataset_adapter.py:121: UserWarning: Your `PyDataset` class should call `super().__init__(**kwargs)` in its constructor. `**kwargs` can include `workers`, `use_multiprocessing`, `max_queue_size`. Do not pass these arguments to `fit()`, as they will be ignored.\n",
      "\u001b[36m(ClientAppActor pid=2339)\u001b[0m   self._warn_if_super_not_called()\n",
      "\u001b[36m(ClientAppActor pid=2339)\u001b[0m /opt/homebrew/anaconda3/lib/python3.12/site-packages/tensorflow/python/framework/ops.py:315: DeprecationWarning: Conversion of an array with ndim > 0 to a scalar is deprecated, and will error in future. Ensure you extract a single element from your array before performing this operation. (Deprecated NumPy 1.25.)\n",
      "\u001b[36m(ClientAppActor pid=2339)\u001b[0m   return float(self._numpy())\n"
     ]
    },
    {
     "name": "stdout",
     "output_type": "stream",
     "text": [
      "\u001b[36m(ClientAppActor pid=2338)\u001b[0m Loaded benign: (1332, 12053), Loaded anomalies: (15358, 12053)\n",
      "\u001b[36m(ClientAppActor pid=2338)\u001b[0m Merging datasets...\n",
      "\u001b[36m(ClientAppActor pid=2338)\u001b[0m Total iterations: 5, Final anomaly percentage: 5.48%\n",
      "\u001b[36m(ClientAppActor pid=2338)\u001b[0m Merged shape: (1388, 12053)\n"
     ]
    },
    {
     "name": "stderr",
     "output_type": "stream",
     "text": [
      "\u001b[36m(ClientAppActor pid=2338)\u001b[0m /opt/homebrew/anaconda3/lib/python3.12/site-packages/keras/src/trainers/data_adapters/py_dataset_adapter.py:121: UserWarning: Your `PyDataset` class should call `super().__init__(**kwargs)` in its constructor. `**kwargs` can include `workers`, `use_multiprocessing`, `max_queue_size`. Do not pass these arguments to `fit()`, as they will be ignored.\n",
      "\u001b[36m(ClientAppActor pid=2338)\u001b[0m   self._warn_if_super_not_called()\n",
      "\u001b[36m(ClientAppActor pid=2338)\u001b[0m /opt/homebrew/anaconda3/lib/python3.12/site-packages/tensorflow/python/framework/ops.py:315: DeprecationWarning: Conversion of an array with ndim > 0 to a scalar is deprecated, and will error in future. Ensure you extract a single element from your array before performing this operation. (Deprecated NumPy 1.25.)\n",
      "\u001b[36m(ClientAppActor pid=2338)\u001b[0m   return float(self._numpy())\n"
     ]
    },
    {
     "name": "stdout",
     "output_type": "stream",
     "text": [
      "\u001b[36m(ClientAppActor pid=2340)\u001b[0m Loaded benign: (55778, 12053), Loaded anomalies: (5404, 12053)\n",
      "\u001b[36m(ClientAppActor pid=2340)\u001b[0m Merging datasets...\n",
      "\u001b[36m(ClientAppActor pid=2340)\u001b[0m Total iterations: 42, Final anomaly percentage: 9.25%\n",
      "\u001b[36m(ClientAppActor pid=2340)\u001b[0m Merged shape: (40546, 12053)\n"
     ]
    },
    {
     "name": "stderr",
     "output_type": "stream",
     "text": [
      "\u001b[36m(ClientAppActor pid=2340)\u001b[0m /opt/homebrew/anaconda3/lib/python3.12/site-packages/keras/src/trainers/data_adapters/py_dataset_adapter.py:121: UserWarning: Your `PyDataset` class should call `super().__init__(**kwargs)` in its constructor. `**kwargs` can include `workers`, `use_multiprocessing`, `max_queue_size`. Do not pass these arguments to `fit()`, as they will be ignored.\n",
      "\u001b[36m(ClientAppActor pid=2340)\u001b[0m   self._warn_if_super_not_called()\n",
      "\u001b[36m(ClientAppActor pid=2340)\u001b[0m /opt/homebrew/anaconda3/lib/python3.12/site-packages/tensorflow/python/framework/ops.py:315: DeprecationWarning: Conversion of an array with ndim > 0 to a scalar is deprecated, and will error in future. Ensure you extract a single element from your array before performing this operation. (Deprecated NumPy 1.25.)\n",
      "\u001b[36m(ClientAppActor pid=2340)\u001b[0m   return float(self._numpy())\n",
      "\u001b[92mINFO \u001b[0m:      aggregate_fit: received 3 results and 0 failures\n",
      "\u001b[92mINFO \u001b[0m:      configure_evaluate: strategy sampled 3 clients (out of 12)\n"
     ]
    },
    {
     "name": "stdout",
     "output_type": "stream",
     "text": [
      "\u001b[36m(ClientAppActor pid=2340)\u001b[0m Loaded benign: (179, 12053), Loaded anomalies: (6059, 12053)\n",
      "\u001b[36m(ClientAppActor pid=2340)\u001b[0m Merging datasets...\n"
     ]
    },
    {
     "name": "stderr",
     "output_type": "stream",
     "text": [
      "\u001b[36m(ClientAppActor pid=2340)\u001b[0m /opt/homebrew/anaconda3/lib/python3.12/site-packages/keras/src/trainers/data_adapters/py_dataset_adapter.py:121: UserWarning: Your `PyDataset` class should call `super().__init__(**kwargs)` in its constructor. `**kwargs` can include `workers`, `use_multiprocessing`, `max_queue_size`. Do not pass these arguments to `fit()`, as they will be ignored.\n",
      "\u001b[36m(ClientAppActor pid=2340)\u001b[0m   self._warn_if_super_not_called()\n"
     ]
    },
    {
     "name": "stdout",
     "output_type": "stream",
     "text": [
      "\u001b[36m(ClientAppActor pid=2340)\u001b[0m Total iterations: 2, Final anomaly percentage: 5.79%\n",
      "\u001b[36m(ClientAppActor pid=2340)\u001b[0m Merged shape: (190, 12053)\n"
     ]
    },
    {
     "name": "stderr",
     "output_type": "stream",
     "text": [
      "\u001b[36m(ClientAppActor pid=2340)\u001b[0m /opt/homebrew/anaconda3/lib/python3.12/site-packages/tensorflow/python/framework/ops.py:315: DeprecationWarning: Conversion of an array with ndim > 0 to a scalar is deprecated, and will error in future. Ensure you extract a single element from your array before performing this operation. (Deprecated NumPy 1.25.)\n",
      "\u001b[36m(ClientAppActor pid=2340)\u001b[0m   return float(self._numpy())\n"
     ]
    },
    {
     "name": "stdout",
     "output_type": "stream",
     "text": [
      "\u001b[36m(ClientAppActor pid=2339)\u001b[0m Loaded benign: (7920, 12053), Loaded anomalies: (17284, 12053)\n",
      "\u001b[36m(ClientAppActor pid=2339)\u001b[0m Merging datasets...\n",
      "\u001b[36m(ClientAppActor pid=2339)\u001b[0m Total iterations: 29, Final anomaly percentage: 7.24%\n",
      "\u001b[36m(ClientAppActor pid=2339)\u001b[0m Merged shape: (8039, 12053)\n"
     ]
    },
    {
     "name": "stderr",
     "output_type": "stream",
     "text": [
      "\u001b[36m(ClientAppActor pid=2339)\u001b[0m /opt/homebrew/anaconda3/lib/python3.12/site-packages/keras/src/trainers/data_adapters/py_dataset_adapter.py:121: UserWarning: Your `PyDataset` class should call `super().__init__(**kwargs)` in its constructor. `**kwargs` can include `workers`, `use_multiprocessing`, `max_queue_size`. Do not pass these arguments to `fit()`, as they will be ignored.\n",
      "\u001b[36m(ClientAppActor pid=2339)\u001b[0m   self._warn_if_super_not_called()\n",
      "\u001b[36m(ClientAppActor pid=2339)\u001b[0m /opt/homebrew/anaconda3/lib/python3.12/site-packages/tensorflow/python/framework/ops.py:315: DeprecationWarning: Conversion of an array with ndim > 0 to a scalar is deprecated, and will error in future. Ensure you extract a single element from your array before performing this operation. (Deprecated NumPy 1.25.)\n",
      "\u001b[36m(ClientAppActor pid=2339)\u001b[0m   return float(self._numpy())\n"
     ]
    },
    {
     "name": "stdout",
     "output_type": "stream",
     "text": [
      "\u001b[36m(ClientAppActor pid=2338)\u001b[0m Loaded benign: (42281, 12053), Loaded anomalies: (1332, 12053)\n",
      "\u001b[36m(ClientAppActor pid=2338)\u001b[0m Merging datasets...\n",
      "\u001b[36m(ClientAppActor pid=2338)\u001b[0m Total iterations: 48, Final anomaly percentage: 2.05%\n",
      "\u001b[36m(ClientAppActor pid=2338)\u001b[0m Merged shape: (17544, 12053)\n"
     ]
    },
    {
     "name": "stderr",
     "output_type": "stream",
     "text": [
      "\u001b[36m(ClientAppActor pid=2338)\u001b[0m /opt/homebrew/anaconda3/lib/python3.12/site-packages/keras/src/trainers/data_adapters/py_dataset_adapter.py:121: UserWarning: Your `PyDataset` class should call `super().__init__(**kwargs)` in its constructor. `**kwargs` can include `workers`, `use_multiprocessing`, `max_queue_size`. Do not pass these arguments to `fit()`, as they will be ignored.\n",
      "\u001b[36m(ClientAppActor pid=2338)\u001b[0m   self._warn_if_super_not_called()\n",
      "\u001b[36m(ClientAppActor pid=2338)\u001b[0m /opt/homebrew/anaconda3/lib/python3.12/site-packages/tensorflow/python/framework/ops.py:315: DeprecationWarning: Conversion of an array with ndim > 0 to a scalar is deprecated, and will error in future. Ensure you extract a single element from your array before performing this operation. (Deprecated NumPy 1.25.)\n",
      "\u001b[36m(ClientAppActor pid=2338)\u001b[0m   return float(self._numpy())\n",
      "\u001b[92mINFO \u001b[0m:      aggregate_evaluate: received 3 results and 0 failures\n",
      "\u001b[92mINFO \u001b[0m:      \n",
      "\u001b[92mINFO \u001b[0m:      [ROUND 6]\n",
      "\u001b[92mINFO \u001b[0m:      configure_fit: strategy sampled 3 clients (out of 12)\n"
     ]
    },
    {
     "name": "stdout",
     "output_type": "stream",
     "text": [
      "\u001b[36m(ClientAppActor pid=2338)\u001b[0m Loaded benign: (179, 12053), Loaded anomalies: (1332, 12053)\n",
      "\u001b[36m(ClientAppActor pid=2338)\u001b[0m Merging datasets...\n",
      "\u001b[36m(ClientAppActor pid=2338)\u001b[0m Total iterations: 29, Final anomaly percentage: 56.66%\n",
      "\u001b[36m(ClientAppActor pid=2338)\u001b[0m Merged shape: (413, 12053)\n"
     ]
    },
    {
     "name": "stderr",
     "output_type": "stream",
     "text": [
      "\u001b[36m(ClientAppActor pid=2338)\u001b[0m /opt/homebrew/anaconda3/lib/python3.12/site-packages/keras/src/trainers/data_adapters/py_dataset_adapter.py:121: UserWarning: Your `PyDataset` class should call `super().__init__(**kwargs)` in its constructor. `**kwargs` can include `workers`, `use_multiprocessing`, `max_queue_size`. Do not pass these arguments to `fit()`, as they will be ignored.\n",
      "\u001b[36m(ClientAppActor pid=2338)\u001b[0m   self._warn_if_super_not_called()\n",
      "\u001b[36m(ClientAppActor pid=2338)\u001b[0m /opt/homebrew/anaconda3/lib/python3.12/site-packages/tensorflow/python/framework/ops.py:315: DeprecationWarning: Conversion of an array with ndim > 0 to a scalar is deprecated, and will error in future. Ensure you extract a single element from your array before performing this operation. (Deprecated NumPy 1.25.)\n",
      "\u001b[36m(ClientAppActor pid=2338)\u001b[0m   return float(self._numpy())\n"
     ]
    },
    {
     "name": "stdout",
     "output_type": "stream",
     "text": [
      "\u001b[36m(ClientAppActor pid=2339)\u001b[0m Loaded benign: (10114, 12053), Loaded anomalies: (5404, 12053)\n",
      "\u001b[36m(ClientAppActor pid=2339)\u001b[0m Merging datasets...\n",
      "\u001b[36m(ClientAppActor pid=2339)\u001b[0m Total iterations: 34, Final anomaly percentage: 6.94%\n",
      "\u001b[36m(ClientAppActor pid=2339)\u001b[0m Merged shape: (10455, 12053)\n"
     ]
    },
    {
     "name": "stderr",
     "output_type": "stream",
     "text": [
      "\u001b[36m(ClientAppActor pid=2339)\u001b[0m /opt/homebrew/anaconda3/lib/python3.12/site-packages/keras/src/trainers/data_adapters/py_dataset_adapter.py:121: UserWarning: Your `PyDataset` class should call `super().__init__(**kwargs)` in its constructor. `**kwargs` can include `workers`, `use_multiprocessing`, `max_queue_size`. Do not pass these arguments to `fit()`, as they will be ignored.\n",
      "\u001b[36m(ClientAppActor pid=2339)\u001b[0m   self._warn_if_super_not_called()\n",
      "\u001b[36m(ClientAppActor pid=2339)\u001b[0m /opt/homebrew/anaconda3/lib/python3.12/site-packages/tensorflow/python/framework/ops.py:315: DeprecationWarning: Conversion of an array with ndim > 0 to a scalar is deprecated, and will error in future. Ensure you extract a single element from your array before performing this operation. (Deprecated NumPy 1.25.)\n",
      "\u001b[36m(ClientAppActor pid=2339)\u001b[0m   return float(self._numpy())\n"
     ]
    },
    {
     "name": "stdout",
     "output_type": "stream",
     "text": [
      "\u001b[36m(ClientAppActor pid=2340)\u001b[0m Loaded benign: (55778, 12053), Loaded anomalies: (6059, 12053)\n",
      "\u001b[36m(ClientAppActor pid=2340)\u001b[0m Merging datasets...\n",
      "\u001b[36m(ClientAppActor pid=2340)\u001b[0m Total iterations: 41, Final anomaly percentage: 5.03%\n",
      "\u001b[36m(ClientAppActor pid=2340)\u001b[0m Merged shape: (44285, 12053)\n"
     ]
    },
    {
     "name": "stderr",
     "output_type": "stream",
     "text": [
      "\u001b[36m(ClientAppActor pid=2340)\u001b[0m /opt/homebrew/anaconda3/lib/python3.12/site-packages/keras/src/trainers/data_adapters/py_dataset_adapter.py:121: UserWarning: Your `PyDataset` class should call `super().__init__(**kwargs)` in its constructor. `**kwargs` can include `workers`, `use_multiprocessing`, `max_queue_size`. Do not pass these arguments to `fit()`, as they will be ignored.\n",
      "\u001b[36m(ClientAppActor pid=2340)\u001b[0m   self._warn_if_super_not_called()\n",
      "\u001b[36m(ClientAppActor pid=2340)\u001b[0m /opt/homebrew/anaconda3/lib/python3.12/site-packages/tensorflow/python/framework/ops.py:315: DeprecationWarning: Conversion of an array with ndim > 0 to a scalar is deprecated, and will error in future. Ensure you extract a single element from your array before performing this operation. (Deprecated NumPy 1.25.)\n",
      "\u001b[36m(ClientAppActor pid=2340)\u001b[0m   return float(self._numpy())\n",
      "\u001b[92mINFO \u001b[0m:      aggregate_fit: received 3 results and 0 failures\n",
      "\u001b[92mINFO \u001b[0m:      configure_evaluate: strategy sampled 3 clients (out of 12)\n"
     ]
    },
    {
     "name": "stdout",
     "output_type": "stream",
     "text": [
      "\u001b[36m(ClientAppActor pid=2339)\u001b[0m Loaded benign: (5404, 12053), Loaded anomalies: (2128, 12053)\n",
      "\u001b[36m(ClientAppActor pid=2339)\u001b[0m Merging datasets...\n",
      "\u001b[36m(ClientAppActor pid=2339)\u001b[0m Total iterations: 17, Final anomaly percentage: 5.38%\n",
      "\u001b[36m(ClientAppActor pid=2339)\u001b[0m Merged shape: (5596, 12053)\n"
     ]
    },
    {
     "name": "stderr",
     "output_type": "stream",
     "text": [
      "\u001b[36m(ClientAppActor pid=2339)\u001b[0m /opt/homebrew/anaconda3/lib/python3.12/site-packages/keras/src/trainers/data_adapters/py_dataset_adapter.py:121: UserWarning: Your `PyDataset` class should call `super().__init__(**kwargs)` in its constructor. `**kwargs` can include `workers`, `use_multiprocessing`, `max_queue_size`. Do not pass these arguments to `fit()`, as they will be ignored.\n",
      "\u001b[36m(ClientAppActor pid=2339)\u001b[0m   self._warn_if_super_not_called()\n",
      "\u001b[36m(ClientAppActor pid=2338)\u001b[0m /opt/homebrew/anaconda3/lib/python3.12/site-packages/keras/src/trainers/data_adapters/py_dataset_adapter.py:121: UserWarning: Your `PyDataset` class should call `super().__init__(**kwargs)` in its constructor. `**kwargs` can include `workers`, `use_multiprocessing`, `max_queue_size`. Do not pass these arguments to `fit()`, as they will be ignored.\n",
      "\u001b[36m(ClientAppActor pid=2338)\u001b[0m   self._warn_if_super_not_called()\n",
      "\u001b[36m(ClientAppActor pid=2339)\u001b[0m /opt/homebrew/anaconda3/lib/python3.12/site-packages/tensorflow/python/framework/ops.py:315: DeprecationWarning: Conversion of an array with ndim > 0 to a scalar is deprecated, and will error in future. Ensure you extract a single element from your array before performing this operation. (Deprecated NumPy 1.25.)\n",
      "\u001b[36m(ClientAppActor pid=2339)\u001b[0m   return float(self._numpy())\n"
     ]
    },
    {
     "name": "stdout",
     "output_type": "stream",
     "text": [
      "\u001b[36m(ClientAppActor pid=2340)\u001b[0m Loaded benign: (2128, 12053), Loaded anomalies: (42281, 12053)\u001b[32m [repeated 2x across cluster] (Ray deduplicates logs by default. Set RAY_DEDUP_LOGS=0 to disable log deduplication, or see https://docs.ray.io/en/master/ray-observability/user-guides/configure-logging.html#log-deduplication for more options.)\u001b[0m\n",
      "\u001b[36m(ClientAppActor pid=2340)\u001b[0m Merging datasets...\u001b[32m [repeated 2x across cluster]\u001b[0m\n",
      "\u001b[36m(ClientAppActor pid=2338)\u001b[0m Total iterations: 11, Final anomaly percentage: 10.95%\n",
      "\u001b[36m(ClientAppActor pid=2338)\u001b[0m Merged shape: (201, 12053)\n",
      "\u001b[36m(ClientAppActor pid=2340)\u001b[0m Total iterations: 9, Final anomaly percentage: 5.13%\n",
      "\u001b[36m(ClientAppActor pid=2340)\u001b[0m Merged shape: (2243, 12053)\n"
     ]
    },
    {
     "name": "stderr",
     "output_type": "stream",
     "text": [
      "\u001b[36m(ClientAppActor pid=2340)\u001b[0m /opt/homebrew/anaconda3/lib/python3.12/site-packages/keras/src/trainers/data_adapters/py_dataset_adapter.py:121: UserWarning: Your `PyDataset` class should call `super().__init__(**kwargs)` in its constructor. `**kwargs` can include `workers`, `use_multiprocessing`, `max_queue_size`. Do not pass these arguments to `fit()`, as they will be ignored.\n",
      "\u001b[36m(ClientAppActor pid=2340)\u001b[0m   self._warn_if_super_not_called()\n",
      "\u001b[36m(ClientAppActor pid=2338)\u001b[0m /opt/homebrew/anaconda3/lib/python3.12/site-packages/tensorflow/python/framework/ops.py:315: DeprecationWarning: Conversion of an array with ndim > 0 to a scalar is deprecated, and will error in future. Ensure you extract a single element from your array before performing this operation. (Deprecated NumPy 1.25.)\n",
      "\u001b[36m(ClientAppActor pid=2338)\u001b[0m   return float(self._numpy())\n",
      "\u001b[36m(ClientAppActor pid=2340)\u001b[0m /opt/homebrew/anaconda3/lib/python3.12/site-packages/tensorflow/python/framework/ops.py:315: DeprecationWarning: Conversion of an array with ndim > 0 to a scalar is deprecated, and will error in future. Ensure you extract a single element from your array before performing this operation. (Deprecated NumPy 1.25.)\n",
      "\u001b[36m(ClientAppActor pid=2340)\u001b[0m   return float(self._numpy())\n",
      "\u001b[92mINFO \u001b[0m:      aggregate_evaluate: received 3 results and 0 failures\n",
      "\u001b[92mINFO \u001b[0m:      \n",
      "\u001b[92mINFO \u001b[0m:      [ROUND 7]\n",
      "\u001b[92mINFO \u001b[0m:      configure_fit: strategy sampled 3 clients (out of 12)\n"
     ]
    },
    {
     "name": "stdout",
     "output_type": "stream",
     "text": [
      "\u001b[36m(ClientAppActor pid=2338)\u001b[0m Loaded benign: (1332, 12053), Loaded anomalies: (5404, 12053)\n",
      "\u001b[36m(ClientAppActor pid=2338)\u001b[0m Merging datasets...\n",
      "\u001b[36m(ClientAppActor pid=2338)\u001b[0m Total iterations: 23, Final anomaly percentage: 12.83%\n",
      "\u001b[36m(ClientAppActor pid=2338)\u001b[0m Merged shape: (1528, 12053)\n"
     ]
    },
    {
     "name": "stderr",
     "output_type": "stream",
     "text": [
      "\u001b[36m(ClientAppActor pid=2338)\u001b[0m /opt/homebrew/anaconda3/lib/python3.12/site-packages/keras/src/trainers/data_adapters/py_dataset_adapter.py:121: UserWarning: Your `PyDataset` class should call `super().__init__(**kwargs)` in its constructor. `**kwargs` can include `workers`, `use_multiprocessing`, `max_queue_size`. Do not pass these arguments to `fit()`, as they will be ignored.\n",
      "\u001b[36m(ClientAppActor pid=2338)\u001b[0m   self._warn_if_super_not_called()\n",
      "\u001b[36m(ClientAppActor pid=2338)\u001b[0m /opt/homebrew/anaconda3/lib/python3.12/site-packages/tensorflow/python/framework/ops.py:315: DeprecationWarning: Conversion of an array with ndim > 0 to a scalar is deprecated, and will error in future. Ensure you extract a single element from your array before performing this operation. (Deprecated NumPy 1.25.)\n",
      "\u001b[36m(ClientAppActor pid=2338)\u001b[0m   return float(self._numpy())\n"
     ]
    },
    {
     "name": "stdout",
     "output_type": "stream",
     "text": [
      "\u001b[36m(ClientAppActor pid=2340)\u001b[0m Loaded benign: (17284, 12053), Loaded anomalies: (5404, 12053)\n",
      "\u001b[36m(ClientAppActor pid=2340)\u001b[0m Merging datasets...\n",
      "\u001b[36m(ClientAppActor pid=2340)\u001b[0m Total iterations: 38, Final anomaly percentage: 5.01%\n",
      "\u001b[36m(ClientAppActor pid=2340)\u001b[0m Merged shape: (17217, 12053)\n"
     ]
    },
    {
     "name": "stderr",
     "output_type": "stream",
     "text": [
      "\u001b[36m(ClientAppActor pid=2340)\u001b[0m /opt/homebrew/anaconda3/lib/python3.12/site-packages/keras/src/trainers/data_adapters/py_dataset_adapter.py:121: UserWarning: Your `PyDataset` class should call `super().__init__(**kwargs)` in its constructor. `**kwargs` can include `workers`, `use_multiprocessing`, `max_queue_size`. Do not pass these arguments to `fit()`, as they will be ignored.\n",
      "\u001b[36m(ClientAppActor pid=2340)\u001b[0m   self._warn_if_super_not_called()\n",
      "\u001b[36m(ClientAppActor pid=2340)\u001b[0m /opt/homebrew/anaconda3/lib/python3.12/site-packages/tensorflow/python/framework/ops.py:315: DeprecationWarning: Conversion of an array with ndim > 0 to a scalar is deprecated, and will error in future. Ensure you extract a single element from your array before performing this operation. (Deprecated NumPy 1.25.)\n",
      "\u001b[36m(ClientAppActor pid=2340)\u001b[0m   return float(self._numpy())\n"
     ]
    },
    {
     "name": "stdout",
     "output_type": "stream",
     "text": [
      "\u001b[36m(ClientAppActor pid=2339)\u001b[0m Loaded benign: (55778, 12053), Loaded anomalies: (42281, 12053)\n",
      "\u001b[36m(ClientAppActor pid=2339)\u001b[0m Merging datasets...\n",
      "\u001b[36m(ClientAppActor pid=2339)\u001b[0m Total iterations: 30, Final anomaly percentage: 5.79%\n",
      "\u001b[36m(ClientAppActor pid=2339)\u001b[0m Merged shape: (55517, 12053)\n"
     ]
    },
    {
     "name": "stderr",
     "output_type": "stream",
     "text": [
      "\u001b[36m(ClientAppActor pid=2339)\u001b[0m /opt/homebrew/anaconda3/lib/python3.12/site-packages/keras/src/trainers/data_adapters/py_dataset_adapter.py:121: UserWarning: Your `PyDataset` class should call `super().__init__(**kwargs)` in its constructor. `**kwargs` can include `workers`, `use_multiprocessing`, `max_queue_size`. Do not pass these arguments to `fit()`, as they will be ignored.\n",
      "\u001b[36m(ClientAppActor pid=2339)\u001b[0m   self._warn_if_super_not_called()\n",
      "\u001b[36m(ClientAppActor pid=2339)\u001b[0m /opt/homebrew/anaconda3/lib/python3.12/site-packages/tensorflow/python/framework/ops.py:315: DeprecationWarning: Conversion of an array with ndim > 0 to a scalar is deprecated, and will error in future. Ensure you extract a single element from your array before performing this operation. (Deprecated NumPy 1.25.)\n",
      "\u001b[36m(ClientAppActor pid=2339)\u001b[0m   return float(self._numpy())\n",
      "\u001b[92mINFO \u001b[0m:      aggregate_fit: received 3 results and 0 failures\n",
      "\u001b[92mINFO \u001b[0m:      configure_evaluate: strategy sampled 3 clients (out of 12)\n"
     ]
    },
    {
     "name": "stdout",
     "output_type": "stream",
     "text": [
      "\u001b[36m(ClientAppActor pid=2340)\u001b[0m Loaded benign: (1332, 12053), Loaded anomalies: (42281, 12053)\n",
      "\u001b[36m(ClientAppActor pid=2340)\u001b[0m Merging datasets...\n",
      "\u001b[36m(ClientAppActor pid=2340)\u001b[0m Total iterations: 6, Final anomaly percentage: 5.13%\n",
      "\u001b[36m(ClientAppActor pid=2340)\u001b[0m Merged shape: (1404, 12053)\n"
     ]
    },
    {
     "name": "stderr",
     "output_type": "stream",
     "text": [
      "\u001b[36m(ClientAppActor pid=2340)\u001b[0m /opt/homebrew/anaconda3/lib/python3.12/site-packages/keras/src/trainers/data_adapters/py_dataset_adapter.py:121: UserWarning: Your `PyDataset` class should call `super().__init__(**kwargs)` in its constructor. `**kwargs` can include `workers`, `use_multiprocessing`, `max_queue_size`. Do not pass these arguments to `fit()`, as they will be ignored.\n",
      "\u001b[36m(ClientAppActor pid=2340)\u001b[0m   self._warn_if_super_not_called()\n",
      "\u001b[36m(ClientAppActor pid=2340)\u001b[0m /opt/homebrew/anaconda3/lib/python3.12/site-packages/tensorflow/python/framework/ops.py:315: DeprecationWarning: Conversion of an array with ndim > 0 to a scalar is deprecated, and will error in future. Ensure you extract a single element from your array before performing this operation. (Deprecated NumPy 1.25.)\n",
      "\u001b[36m(ClientAppActor pid=2340)\u001b[0m   return float(self._numpy())\n"
     ]
    },
    {
     "name": "stdout",
     "output_type": "stream",
     "text": [
      "\u001b[36m(ClientAppActor pid=2339)\u001b[0m Loaded benign: (10114, 12053), Loaded anomalies: (42281, 12053)\n",
      "\u001b[36m(ClientAppActor pid=2339)\u001b[0m Merging datasets...\n",
      "\u001b[36m(ClientAppActor pid=2339)\u001b[0m Total iterations: 20, Final anomaly percentage: 5.78%\n",
      "\u001b[36m(ClientAppActor pid=2339)\u001b[0m Merged shape: (10537, 12053)\n"
     ]
    },
    {
     "name": "stderr",
     "output_type": "stream",
     "text": [
      "\u001b[36m(ClientAppActor pid=2339)\u001b[0m /opt/homebrew/anaconda3/lib/python3.12/site-packages/keras/src/trainers/data_adapters/py_dataset_adapter.py:121: UserWarning: Your `PyDataset` class should call `super().__init__(**kwargs)` in its constructor. `**kwargs` can include `workers`, `use_multiprocessing`, `max_queue_size`. Do not pass these arguments to `fit()`, as they will be ignored.\n",
      "\u001b[36m(ClientAppActor pid=2339)\u001b[0m   self._warn_if_super_not_called()\n",
      "\u001b[36m(ClientAppActor pid=2339)\u001b[0m /opt/homebrew/anaconda3/lib/python3.12/site-packages/tensorflow/python/framework/ops.py:315: DeprecationWarning: Conversion of an array with ndim > 0 to a scalar is deprecated, and will error in future. Ensure you extract a single element from your array before performing this operation. (Deprecated NumPy 1.25.)\n",
      "\u001b[36m(ClientAppActor pid=2339)\u001b[0m   return float(self._numpy())\n"
     ]
    },
    {
     "name": "stdout",
     "output_type": "stream",
     "text": [
      "\u001b[36m(ClientAppActor pid=2338)\u001b[0m Loaded benign: (42281, 12053), Loaded anomalies: (55778, 12053)\n",
      "\u001b[36m(ClientAppActor pid=2338)\u001b[0m Merging datasets...\n",
      "\u001b[36m(ClientAppActor pid=2338)\u001b[0m Total iterations: 28, Final anomaly percentage: 5.42%\n",
      "\u001b[36m(ClientAppActor pid=2338)\u001b[0m Merged shape: (42779, 12053)\n"
     ]
    },
    {
     "name": "stderr",
     "output_type": "stream",
     "text": [
      "\u001b[36m(ClientAppActor pid=2338)\u001b[0m /opt/homebrew/anaconda3/lib/python3.12/site-packages/keras/src/trainers/data_adapters/py_dataset_adapter.py:121: UserWarning: Your `PyDataset` class should call `super().__init__(**kwargs)` in its constructor. `**kwargs` can include `workers`, `use_multiprocessing`, `max_queue_size`. Do not pass these arguments to `fit()`, as they will be ignored.\n",
      "\u001b[36m(ClientAppActor pid=2338)\u001b[0m   self._warn_if_super_not_called()\n",
      "\u001b[36m(ClientAppActor pid=2338)\u001b[0m WARNING:tensorflow:5 out of the last 34 calls to <function TensorFlowTrainer.make_test_function.<locals>.one_step_on_iterator at 0x4702efce0> triggered tf.function retracing. Tracing is expensive and the excessive number of tracings could be due to (1) creating @tf.function repeatedly in a loop, (2) passing tensors with different shapes, (3) passing Python objects instead of tensors. For (1), please define your @tf.function outside of the loop. For (2), @tf.function has reduce_retracing=True option that can avoid unnecessary retracing. For (3), please refer to https://www.tensorflow.org/guide/function#controlling_retracing and https://www.tensorflow.org/api_docs/python/tf/function for  more details.\n",
      "\u001b[36m(ClientAppActor pid=2338)\u001b[0m /opt/homebrew/anaconda3/lib/python3.12/site-packages/tensorflow/python/framework/ops.py:315: DeprecationWarning: Conversion of an array with ndim > 0 to a scalar is deprecated, and will error in future. Ensure you extract a single element from your array before performing this operation. (Deprecated NumPy 1.25.)\n",
      "\u001b[36m(ClientAppActor pid=2338)\u001b[0m   return float(self._numpy())\n",
      "\u001b[92mINFO \u001b[0m:      aggregate_evaluate: received 3 results and 0 failures\n",
      "\u001b[92mINFO \u001b[0m:      \n",
      "\u001b[92mINFO \u001b[0m:      [ROUND 8]\n",
      "\u001b[92mINFO \u001b[0m:      configure_fit: strategy sampled 3 clients (out of 12)\n"
     ]
    },
    {
     "name": "stdout",
     "output_type": "stream",
     "text": [
      "\u001b[36m(ClientAppActor pid=2338)\u001b[0m Loaded benign: (179, 12053), Loaded anomalies: (1332, 12053)\n",
      "\u001b[36m(ClientAppActor pid=2338)\u001b[0m Merging datasets...\n"
     ]
    },
    {
     "name": "stderr",
     "output_type": "stream",
     "text": [
      "\u001b[36m(ClientAppActor pid=2338)\u001b[0m /opt/homebrew/anaconda3/lib/python3.12/site-packages/keras/src/trainers/data_adapters/py_dataset_adapter.py:121: UserWarning: Your `PyDataset` class should call `super().__init__(**kwargs)` in its constructor. `**kwargs` can include `workers`, `use_multiprocessing`, `max_queue_size`. Do not pass these arguments to `fit()`, as they will be ignored.\n",
      "\u001b[36m(ClientAppActor pid=2338)\u001b[0m   self._warn_if_super_not_called()\n"
     ]
    },
    {
     "name": "stdout",
     "output_type": "stream",
     "text": [
      "\u001b[36m(ClientAppActor pid=2338)\u001b[0m Total iterations: 27, Final anomaly percentage: 19.00%\n",
      "\u001b[36m(ClientAppActor pid=2338)\u001b[0m Merged shape: (221, 12053)\n"
     ]
    },
    {
     "name": "stderr",
     "output_type": "stream",
     "text": [
      "\u001b[36m(ClientAppActor pid=2338)\u001b[0m /opt/homebrew/anaconda3/lib/python3.12/site-packages/tensorflow/python/framework/ops.py:315: DeprecationWarning: Conversion of an array with ndim > 0 to a scalar is deprecated, and will error in future. Ensure you extract a single element from your array before performing this operation. (Deprecated NumPy 1.25.)\n",
      "\u001b[36m(ClientAppActor pid=2338)\u001b[0m   return float(self._numpy())\n"
     ]
    },
    {
     "name": "stdout",
     "output_type": "stream",
     "text": [
      "\u001b[36m(ClientAppActor pid=2339)\u001b[0m Loaded benign: (7920, 12053), Loaded anomalies: (17284, 12053)\n",
      "\u001b[36m(ClientAppActor pid=2339)\u001b[0m Merging datasets...\n",
      "\u001b[36m(ClientAppActor pid=2339)\u001b[0m Total iterations: 30, Final anomaly percentage: 7.00%\n",
      "\u001b[36m(ClientAppActor pid=2339)\u001b[0m Merged shape: (8471, 12053)\n"
     ]
    },
    {
     "name": "stderr",
     "output_type": "stream",
     "text": [
      "\u001b[36m(ClientAppActor pid=2339)\u001b[0m /opt/homebrew/anaconda3/lib/python3.12/site-packages/keras/src/trainers/data_adapters/py_dataset_adapter.py:121: UserWarning: Your `PyDataset` class should call `super().__init__(**kwargs)` in its constructor. `**kwargs` can include `workers`, `use_multiprocessing`, `max_queue_size`. Do not pass these arguments to `fit()`, as they will be ignored.\n",
      "\u001b[36m(ClientAppActor pid=2339)\u001b[0m   self._warn_if_super_not_called()\n",
      "\u001b[36m(ClientAppActor pid=2339)\u001b[0m /opt/homebrew/anaconda3/lib/python3.12/site-packages/tensorflow/python/framework/ops.py:315: DeprecationWarning: Conversion of an array with ndim > 0 to a scalar is deprecated, and will error in future. Ensure you extract a single element from your array before performing this operation. (Deprecated NumPy 1.25.)\n",
      "\u001b[36m(ClientAppActor pid=2339)\u001b[0m   return float(self._numpy())\n"
     ]
    },
    {
     "name": "stdout",
     "output_type": "stream",
     "text": [
      "\u001b[36m(ClientAppActor pid=2340)\u001b[0m Loaded benign: (15358, 12053), Loaded anomalies: (55778, 12053)\n",
      "\u001b[36m(ClientAppActor pid=2340)\u001b[0m Merging datasets...\n",
      "\u001b[36m(ClientAppActor pid=2340)\u001b[0m Total iterations: 22, Final anomaly percentage: 5.39%\n",
      "\u001b[36m(ClientAppActor pid=2340)\u001b[0m Merged shape: (15979, 12053)\n"
     ]
    },
    {
     "name": "stderr",
     "output_type": "stream",
     "text": [
      "\u001b[36m(ClientAppActor pid=2340)\u001b[0m /opt/homebrew/anaconda3/lib/python3.12/site-packages/keras/src/trainers/data_adapters/py_dataset_adapter.py:121: UserWarning: Your `PyDataset` class should call `super().__init__(**kwargs)` in its constructor. `**kwargs` can include `workers`, `use_multiprocessing`, `max_queue_size`. Do not pass these arguments to `fit()`, as they will be ignored.\n",
      "\u001b[36m(ClientAppActor pid=2340)\u001b[0m   self._warn_if_super_not_called()\n",
      "\u001b[36m(ClientAppActor pid=2340)\u001b[0m /opt/homebrew/anaconda3/lib/python3.12/site-packages/tensorflow/python/framework/ops.py:315: DeprecationWarning: Conversion of an array with ndim > 0 to a scalar is deprecated, and will error in future. Ensure you extract a single element from your array before performing this operation. (Deprecated NumPy 1.25.)\n",
      "\u001b[36m(ClientAppActor pid=2340)\u001b[0m   return float(self._numpy())\n",
      "\u001b[92mINFO \u001b[0m:      aggregate_fit: received 3 results and 0 failures\n",
      "\u001b[92mINFO \u001b[0m:      configure_evaluate: strategy sampled 3 clients (out of 12)\n"
     ]
    },
    {
     "name": "stdout",
     "output_type": "stream",
     "text": [
      "\u001b[36m(ClientAppActor pid=2339)\u001b[0m Loaded benign: (3221, 12053), Loaded anomalies: (2128, 12053)\n",
      "\u001b[36m(ClientAppActor pid=2339)\u001b[0m Merging datasets...\n",
      "\u001b[36m(ClientAppActor pid=2339)\u001b[0m Total iterations: 18, Final anomaly percentage: 5.18%\n",
      "\u001b[36m(ClientAppActor pid=2339)\u001b[0m Merged shape: (3397, 12053)\n"
     ]
    },
    {
     "name": "stderr",
     "output_type": "stream",
     "text": [
      "\u001b[36m(ClientAppActor pid=2339)\u001b[0m /opt/homebrew/anaconda3/lib/python3.12/site-packages/keras/src/trainers/data_adapters/py_dataset_adapter.py:121: UserWarning: Your `PyDataset` class should call `super().__init__(**kwargs)` in its constructor. `**kwargs` can include `workers`, `use_multiprocessing`, `max_queue_size`. Do not pass these arguments to `fit()`, as they will be ignored.\n",
      "\u001b[36m(ClientAppActor pid=2339)\u001b[0m   self._warn_if_super_not_called()\n",
      "\u001b[36m(ClientAppActor pid=2339)\u001b[0m /opt/homebrew/anaconda3/lib/python3.12/site-packages/tensorflow/python/framework/ops.py:315: DeprecationWarning: Conversion of an array with ndim > 0 to a scalar is deprecated, and will error in future. Ensure you extract a single element from your array before performing this operation. (Deprecated NumPy 1.25.)\n",
      "\u001b[36m(ClientAppActor pid=2339)\u001b[0m   return float(self._numpy())\n"
     ]
    },
    {
     "name": "stdout",
     "output_type": "stream",
     "text": [
      "\u001b[36m(ClientAppActor pid=2338)\u001b[0m Loaded benign: (1332, 12053), Loaded anomalies: (6059, 12053)\n",
      "\u001b[36m(ClientAppActor pid=2338)\u001b[0m Merging datasets...\n",
      "\u001b[36m(ClientAppActor pid=2338)\u001b[0m Total iterations: 29, Final anomaly percentage: 13.67%\n",
      "\u001b[36m(ClientAppActor pid=2338)\u001b[0m Merged shape: (1543, 12053)\n"
     ]
    },
    {
     "name": "stderr",
     "output_type": "stream",
     "text": [
      "\u001b[36m(ClientAppActor pid=2338)\u001b[0m /opt/homebrew/anaconda3/lib/python3.12/site-packages/keras/src/trainers/data_adapters/py_dataset_adapter.py:121: UserWarning: Your `PyDataset` class should call `super().__init__(**kwargs)` in its constructor. `**kwargs` can include `workers`, `use_multiprocessing`, `max_queue_size`. Do not pass these arguments to `fit()`, as they will be ignored.\n",
      "\u001b[36m(ClientAppActor pid=2338)\u001b[0m   self._warn_if_super_not_called()\n"
     ]
    },
    {
     "name": "stdout",
     "output_type": "stream",
     "text": [
      "\u001b[36m(ClientAppActor pid=2340)\u001b[0m Loaded benign: (2128, 12053), Loaded anomalies: (55778, 12053)\n",
      "\u001b[36m(ClientAppActor pid=2340)\u001b[0m Merging datasets...\n",
      "\u001b[36m(ClientAppActor pid=2340)\u001b[0m Total iterations: 9, Final anomaly percentage: 5.25%\n",
      "\u001b[36m(ClientAppActor pid=2340)\u001b[0m Merged shape: (2246, 12053)\n"
     ]
    },
    {
     "name": "stderr",
     "output_type": "stream",
     "text": [
      "\u001b[36m(ClientAppActor pid=2338)\u001b[0m /opt/homebrew/anaconda3/lib/python3.12/site-packages/tensorflow/python/framework/ops.py:315: DeprecationWarning: Conversion of an array with ndim > 0 to a scalar is deprecated, and will error in future. Ensure you extract a single element from your array before performing this operation. (Deprecated NumPy 1.25.)\n",
      "\u001b[36m(ClientAppActor pid=2338)\u001b[0m   return float(self._numpy())\n",
      "\u001b[36m(ClientAppActor pid=2340)\u001b[0m /opt/homebrew/anaconda3/lib/python3.12/site-packages/keras/src/trainers/data_adapters/py_dataset_adapter.py:121: UserWarning: Your `PyDataset` class should call `super().__init__(**kwargs)` in its constructor. `**kwargs` can include `workers`, `use_multiprocessing`, `max_queue_size`. Do not pass these arguments to `fit()`, as they will be ignored.\n",
      "\u001b[36m(ClientAppActor pid=2340)\u001b[0m   self._warn_if_super_not_called()\n",
      "\u001b[36m(ClientAppActor pid=2340)\u001b[0m /opt/homebrew/anaconda3/lib/python3.12/site-packages/tensorflow/python/framework/ops.py:315: DeprecationWarning: Conversion of an array with ndim > 0 to a scalar is deprecated, and will error in future. Ensure you extract a single element from your array before performing this operation. (Deprecated NumPy 1.25.)\n",
      "\u001b[36m(ClientAppActor pid=2340)\u001b[0m   return float(self._numpy())\n",
      "\u001b[92mINFO \u001b[0m:      aggregate_evaluate: received 3 results and 0 failures\n",
      "\u001b[92mINFO \u001b[0m:      \n",
      "\u001b[92mINFO \u001b[0m:      [ROUND 9]\n",
      "\u001b[92mINFO \u001b[0m:      configure_fit: strategy sampled 3 clients (out of 12)\n"
     ]
    },
    {
     "name": "stdout",
     "output_type": "stream",
     "text": [
      "\u001b[36m(ClientAppActor pid=2339)\u001b[0m Loaded benign: (15358, 12053), Loaded anomalies: (10114, 12053)\n",
      "\u001b[36m(ClientAppActor pid=2339)\u001b[0m Merging datasets...\n",
      "\u001b[36m(ClientAppActor pid=2339)\u001b[0m Total iterations: 36, Final anomaly percentage: 8.29%\n",
      "\u001b[36m(ClientAppActor pid=2339)\u001b[0m Merged shape: (15598, 12053)\n"
     ]
    },
    {
     "name": "stderr",
     "output_type": "stream",
     "text": [
      "\u001b[36m(ClientAppActor pid=2339)\u001b[0m /opt/homebrew/anaconda3/lib/python3.12/site-packages/keras/src/trainers/data_adapters/py_dataset_adapter.py:121: UserWarning: Your `PyDataset` class should call `super().__init__(**kwargs)` in its constructor. `**kwargs` can include `workers`, `use_multiprocessing`, `max_queue_size`. Do not pass these arguments to `fit()`, as they will be ignored.\n",
      "\u001b[36m(ClientAppActor pid=2339)\u001b[0m   self._warn_if_super_not_called()\n",
      "\u001b[36m(ClientAppActor pid=2339)\u001b[0m /opt/homebrew/anaconda3/lib/python3.12/site-packages/tensorflow/python/framework/ops.py:315: DeprecationWarning: Conversion of an array with ndim > 0 to a scalar is deprecated, and will error in future. Ensure you extract a single element from your array before performing this operation. (Deprecated NumPy 1.25.)\n",
      "\u001b[36m(ClientAppActor pid=2339)\u001b[0m   return float(self._numpy())\n"
     ]
    },
    {
     "name": "stdout",
     "output_type": "stream",
     "text": [
      "\u001b[36m(ClientAppActor pid=2338)\u001b[0m Loaded benign: (1332, 12053), Loaded anomalies: (42281, 12053)\n",
      "\u001b[36m(ClientAppActor pid=2338)\u001b[0m Merging datasets...\n",
      "\u001b[36m(ClientAppActor pid=2338)\u001b[0m Total iterations: 5, Final anomaly percentage: 5.13%\n",
      "\u001b[36m(ClientAppActor pid=2338)\u001b[0m Merged shape: (1404, 12053)\n"
     ]
    },
    {
     "name": "stderr",
     "output_type": "stream",
     "text": [
      "\u001b[36m(ClientAppActor pid=2338)\u001b[0m /opt/homebrew/anaconda3/lib/python3.12/site-packages/keras/src/trainers/data_adapters/py_dataset_adapter.py:121: UserWarning: Your `PyDataset` class should call `super().__init__(**kwargs)` in its constructor. `**kwargs` can include `workers`, `use_multiprocessing`, `max_queue_size`. Do not pass these arguments to `fit()`, as they will be ignored.\n",
      "\u001b[36m(ClientAppActor pid=2338)\u001b[0m   self._warn_if_super_not_called()\n",
      "\u001b[36m(ClientAppActor pid=2338)\u001b[0m /opt/homebrew/anaconda3/lib/python3.12/site-packages/tensorflow/python/framework/ops.py:315: DeprecationWarning: Conversion of an array with ndim > 0 to a scalar is deprecated, and will error in future. Ensure you extract a single element from your array before performing this operation. (Deprecated NumPy 1.25.)\n",
      "\u001b[36m(ClientAppActor pid=2338)\u001b[0m   return float(self._numpy())\n"
     ]
    },
    {
     "name": "stdout",
     "output_type": "stream",
     "text": [
      "\u001b[36m(ClientAppActor pid=2340)\u001b[0m Loaded benign: (179, 12053), Loaded anomalies: (55778, 12053)\n",
      "\u001b[36m(ClientAppActor pid=2340)\u001b[0m Merging datasets...\n",
      "\u001b[36m(ClientAppActor pid=2340)\u001b[0m Total iterations: 1, Final anomaly percentage: 6.28%\n",
      "\u001b[36m(ClientAppActor pid=2340)\u001b[0m Merged shape: (191, 12053)\n"
     ]
    },
    {
     "name": "stderr",
     "output_type": "stream",
     "text": [
      "\u001b[36m(ClientAppActor pid=2340)\u001b[0m /opt/homebrew/anaconda3/lib/python3.12/site-packages/keras/src/trainers/data_adapters/py_dataset_adapter.py:121: UserWarning: Your `PyDataset` class should call `super().__init__(**kwargs)` in its constructor. `**kwargs` can include `workers`, `use_multiprocessing`, `max_queue_size`. Do not pass these arguments to `fit()`, as they will be ignored.\n",
      "\u001b[36m(ClientAppActor pid=2340)\u001b[0m   self._warn_if_super_not_called()\n",
      "\u001b[36m(ClientAppActor pid=2340)\u001b[0m /opt/homebrew/anaconda3/lib/python3.12/site-packages/tensorflow/python/framework/ops.py:315: DeprecationWarning: Conversion of an array with ndim > 0 to a scalar is deprecated, and will error in future. Ensure you extract a single element from your array before performing this operation. (Deprecated NumPy 1.25.)\n",
      "\u001b[36m(ClientAppActor pid=2340)\u001b[0m   return float(self._numpy())\n",
      "\u001b[92mINFO \u001b[0m:      aggregate_fit: received 3 results and 0 failures\n",
      "\u001b[92mINFO \u001b[0m:      configure_evaluate: strategy sampled 3 clients (out of 12)\n"
     ]
    },
    {
     "name": "stdout",
     "output_type": "stream",
     "text": [
      "\u001b[36m(ClientAppActor pid=2340)\u001b[0m Loaded benign: (3221, 12053), Loaded anomalies: (10114, 12053)\n",
      "\u001b[36m(ClientAppActor pid=2340)\u001b[0m Merging datasets...\n",
      "\u001b[36m(ClientAppActor pid=2340)\u001b[0m Total iterations: 26, Final anomaly percentage: 5.59%\n",
      "\u001b[36m(ClientAppActor pid=2340)\u001b[0m Merged shape: (3400, 12053)\n"
     ]
    },
    {
     "name": "stderr",
     "output_type": "stream",
     "text": [
      "\u001b[36m(ClientAppActor pid=2340)\u001b[0m /opt/homebrew/anaconda3/lib/python3.12/site-packages/keras/src/trainers/data_adapters/py_dataset_adapter.py:121: UserWarning: Your `PyDataset` class should call `super().__init__(**kwargs)` in its constructor. `**kwargs` can include `workers`, `use_multiprocessing`, `max_queue_size`. Do not pass these arguments to `fit()`, as they will be ignored.\n",
      "\u001b[36m(ClientAppActor pid=2340)\u001b[0m   self._warn_if_super_not_called()\n",
      "\u001b[36m(ClientAppActor pid=2340)\u001b[0m /opt/homebrew/anaconda3/lib/python3.12/site-packages/tensorflow/python/framework/ops.py:315: DeprecationWarning: Conversion of an array with ndim > 0 to a scalar is deprecated, and will error in future. Ensure you extract a single element from your array before performing this operation. (Deprecated NumPy 1.25.)\n",
      "\u001b[36m(ClientAppActor pid=2340)\u001b[0m   return float(self._numpy())\n"
     ]
    },
    {
     "name": "stdout",
     "output_type": "stream",
     "text": [
      "\u001b[36m(ClientAppActor pid=2339)\u001b[0m Loaded benign: (7920, 12053), Loaded anomalies: (42281, 12053)\n",
      "\u001b[36m(ClientAppActor pid=2339)\u001b[0m Merging datasets...\n",
      "\u001b[36m(ClientAppActor pid=2338)\u001b[0m Loaded benign: (55778, 12053), Loaded anomalies: (10114, 12053)\n",
      "\u001b[36m(ClientAppActor pid=2338)\u001b[0m Merging datasets...\n",
      "\u001b[36m(ClientAppActor pid=2339)\u001b[0m Total iterations: 19, Final anomaly percentage: 5.38%\n",
      "\u001b[36m(ClientAppActor pid=2339)\u001b[0m Merged shape: (8370, 12053)\n"
     ]
    },
    {
     "name": "stderr",
     "output_type": "stream",
     "text": [
      "\u001b[36m(ClientAppActor pid=2339)\u001b[0m /opt/homebrew/anaconda3/lib/python3.12/site-packages/keras/src/trainers/data_adapters/py_dataset_adapter.py:121: UserWarning: Your `PyDataset` class should call `super().__init__(**kwargs)` in its constructor. `**kwargs` can include `workers`, `use_multiprocessing`, `max_queue_size`. Do not pass these arguments to `fit()`, as they will be ignored.\n",
      "\u001b[36m(ClientAppActor pid=2339)\u001b[0m   self._warn_if_super_not_called()\n",
      "\u001b[36m(ClientAppActor pid=2339)\u001b[0m /opt/homebrew/anaconda3/lib/python3.12/site-packages/tensorflow/python/framework/ops.py:315: DeprecationWarning: Conversion of an array with ndim > 0 to a scalar is deprecated, and will error in future. Ensure you extract a single element from your array before performing this operation. (Deprecated NumPy 1.25.)\n",
      "\u001b[36m(ClientAppActor pid=2339)\u001b[0m   return float(self._numpy())\n"
     ]
    },
    {
     "name": "stdout",
     "output_type": "stream",
     "text": [
      "\u001b[36m(ClientAppActor pid=2338)\u001b[0m Total iterations: 37, Final anomaly percentage: 5.10%\n",
      "\u001b[36m(ClientAppActor pid=2338)\u001b[0m Merged shape: (49358, 12053)\n"
     ]
    },
    {
     "name": "stderr",
     "output_type": "stream",
     "text": [
      "\u001b[36m(ClientAppActor pid=2338)\u001b[0m /opt/homebrew/anaconda3/lib/python3.12/site-packages/keras/src/trainers/data_adapters/py_dataset_adapter.py:121: UserWarning: Your `PyDataset` class should call `super().__init__(**kwargs)` in its constructor. `**kwargs` can include `workers`, `use_multiprocessing`, `max_queue_size`. Do not pass these arguments to `fit()`, as they will be ignored.\n",
      "\u001b[36m(ClientAppActor pid=2338)\u001b[0m   self._warn_if_super_not_called()\n",
      "\u001b[36m(ClientAppActor pid=2338)\u001b[0m WARNING:tensorflow:5 out of the last 75 calls to <function TensorFlowTrainer.make_test_function.<locals>.one_step_on_iterator at 0x4c60fb100> triggered tf.function retracing. Tracing is expensive and the excessive number of tracings could be due to (1) creating @tf.function repeatedly in a loop, (2) passing tensors with different shapes, (3) passing Python objects instead of tensors. For (1), please define your @tf.function outside of the loop. For (2), @tf.function has reduce_retracing=True option that can avoid unnecessary retracing. For (3), please refer to https://www.tensorflow.org/guide/function#controlling_retracing and https://www.tensorflow.org/api_docs/python/tf/function for  more details.\n",
      "\u001b[36m(ClientAppActor pid=2338)\u001b[0m /opt/homebrew/anaconda3/lib/python3.12/site-packages/tensorflow/python/framework/ops.py:315: DeprecationWarning: Conversion of an array with ndim > 0 to a scalar is deprecated, and will error in future. Ensure you extract a single element from your array before performing this operation. (Deprecated NumPy 1.25.)\n",
      "\u001b[36m(ClientAppActor pid=2338)\u001b[0m   return float(self._numpy())\n",
      "\u001b[92mINFO \u001b[0m:      aggregate_evaluate: received 3 results and 0 failures\n",
      "\u001b[92mINFO \u001b[0m:      \n",
      "\u001b[92mINFO \u001b[0m:      [ROUND 10]\n",
      "\u001b[92mINFO \u001b[0m:      configure_fit: strategy sampled 3 clients (out of 12)\n"
     ]
    },
    {
     "name": "stdout",
     "output_type": "stream",
     "text": [
      "\u001b[36m(ClientAppActor pid=2340)\u001b[0m Loaded benign: (1332, 12053), Loaded anomalies: (3221, 12053)\n",
      "\u001b[36m(ClientAppActor pid=2340)\u001b[0m Merging datasets...\n",
      "\u001b[36m(ClientAppActor pid=2340)\u001b[0m Total iterations: 22, Final anomaly percentage: 7.56%\n",
      "\u001b[36m(ClientAppActor pid=2340)\u001b[0m Merged shape: (1441, 12053)\n"
     ]
    },
    {
     "name": "stderr",
     "output_type": "stream",
     "text": [
      "\u001b[36m(ClientAppActor pid=2340)\u001b[0m /opt/homebrew/anaconda3/lib/python3.12/site-packages/keras/src/trainers/data_adapters/py_dataset_adapter.py:121: UserWarning: Your `PyDataset` class should call `super().__init__(**kwargs)` in its constructor. `**kwargs` can include `workers`, `use_multiprocessing`, `max_queue_size`. Do not pass these arguments to `fit()`, as they will be ignored.\n",
      "\u001b[36m(ClientAppActor pid=2340)\u001b[0m   self._warn_if_super_not_called()\n",
      "\u001b[36m(ClientAppActor pid=2340)\u001b[0m /opt/homebrew/anaconda3/lib/python3.12/site-packages/tensorflow/python/framework/ops.py:315: DeprecationWarning: Conversion of an array with ndim > 0 to a scalar is deprecated, and will error in future. Ensure you extract a single element from your array before performing this operation. (Deprecated NumPy 1.25.)\n",
      "\u001b[36m(ClientAppActor pid=2340)\u001b[0m   return float(self._numpy())\n"
     ]
    },
    {
     "name": "stdout",
     "output_type": "stream",
     "text": [
      "\u001b[36m(ClientAppActor pid=2338)\u001b[0m Loaded benign: (17284, 12053), Loaded anomalies: (15358, 12053)\n",
      "\u001b[36m(ClientAppActor pid=2338)\u001b[0m Merging datasets...\n",
      "\u001b[36m(ClientAppActor pid=2339)\u001b[0m Loaded benign: (179, 12053), Loaded anomalies: (42281, 12053)\n",
      "\u001b[36m(ClientAppActor pid=2339)\u001b[0m Merging datasets...\n",
      "\u001b[36m(ClientAppActor pid=2338)\u001b[0m Total iterations: 31, Final anomaly percentage: 6.39%\n",
      "\u001b[36m(ClientAppActor pid=2338)\u001b[0m Merged shape: (17942, 12053)\n"
     ]
    },
    {
     "name": "stderr",
     "output_type": "stream",
     "text": [
      "\u001b[36m(ClientAppActor pid=2339)\u001b[0m /opt/homebrew/anaconda3/lib/python3.12/site-packages/keras/src/trainers/data_adapters/py_dataset_adapter.py:121: UserWarning: Your `PyDataset` class should call `super().__init__(**kwargs)` in its constructor. `**kwargs` can include `workers`, `use_multiprocessing`, `max_queue_size`. Do not pass these arguments to `fit()`, as they will be ignored.\n",
      "\u001b[36m(ClientAppActor pid=2339)\u001b[0m   self._warn_if_super_not_called()\n",
      "\u001b[36m(ClientAppActor pid=2338)\u001b[0m /opt/homebrew/anaconda3/lib/python3.12/site-packages/keras/src/trainers/data_adapters/py_dataset_adapter.py:121: UserWarning: Your `PyDataset` class should call `super().__init__(**kwargs)` in its constructor. `**kwargs` can include `workers`, `use_multiprocessing`, `max_queue_size`. Do not pass these arguments to `fit()`, as they will be ignored.\n",
      "\u001b[36m(ClientAppActor pid=2338)\u001b[0m   self._warn_if_super_not_called()\n",
      "\u001b[36m(ClientAppActor pid=2339)\u001b[0m /opt/homebrew/anaconda3/lib/python3.12/site-packages/tensorflow/python/framework/ops.py:315: DeprecationWarning: Conversion of an array with ndim > 0 to a scalar is deprecated, and will error in future. Ensure you extract a single element from your array before performing this operation. (Deprecated NumPy 1.25.)\n",
      "\u001b[36m(ClientAppActor pid=2339)\u001b[0m   return float(self._numpy())\n",
      "\u001b[92mINFO \u001b[0m:      aggregate_fit: received 3 results and 0 failures\n",
      "\u001b[92mINFO \u001b[0m:      configure_evaluate: strategy sampled 3 clients (out of 12)\n"
     ]
    },
    {
     "name": "stdout",
     "output_type": "stream",
     "text": [
      "\u001b[36m(ClientAppActor pid=2340)\u001b[0m Loaded benign: (7920, 12053), Loaded anomalies: (2128, 12053)\n",
      "\u001b[36m(ClientAppActor pid=2340)\u001b[0m Merging datasets...\n",
      "\u001b[36m(ClientAppActor pid=2339)\u001b[0m Total iterations: 1, Final anomaly percentage: 7.25%\n",
      "\u001b[36m(ClientAppActor pid=2339)\u001b[0m Merged shape: (193, 12053)\n",
      "\u001b[36m(ClientAppActor pid=2340)\u001b[0m Total iterations: 22, Final anomaly percentage: 5.70%\n",
      "\u001b[36m(ClientAppActor pid=2340)\u001b[0m Merged shape: (8094, 12053)\n"
     ]
    },
    {
     "name": "stderr",
     "output_type": "stream",
     "text": [
      "\u001b[36m(ClientAppActor pid=2340)\u001b[0m /opt/homebrew/anaconda3/lib/python3.12/site-packages/keras/src/trainers/data_adapters/py_dataset_adapter.py:121: UserWarning: Your `PyDataset` class should call `super().__init__(**kwargs)` in its constructor. `**kwargs` can include `workers`, `use_multiprocessing`, `max_queue_size`. Do not pass these arguments to `fit()`, as they will be ignored.\n",
      "\u001b[36m(ClientAppActor pid=2340)\u001b[0m   self._warn_if_super_not_called()\n",
      "\u001b[36m(ClientAppActor pid=2338)\u001b[0m /opt/homebrew/anaconda3/lib/python3.12/site-packages/tensorflow/python/framework/ops.py:315: DeprecationWarning: Conversion of an array with ndim > 0 to a scalar is deprecated, and will error in future. Ensure you extract a single element from your array before performing this operation. (Deprecated NumPy 1.25.)\n",
      "\u001b[36m(ClientAppActor pid=2338)\u001b[0m   return float(self._numpy())\n",
      "\u001b[36m(ClientAppActor pid=2340)\u001b[0m /opt/homebrew/anaconda3/lib/python3.12/site-packages/tensorflow/python/framework/ops.py:315: DeprecationWarning: Conversion of an array with ndim > 0 to a scalar is deprecated, and will error in future. Ensure you extract a single element from your array before performing this operation. (Deprecated NumPy 1.25.)\n",
      "\u001b[36m(ClientAppActor pid=2340)\u001b[0m   return float(self._numpy())\n"
     ]
    },
    {
     "name": "stdout",
     "output_type": "stream",
     "text": [
      "\u001b[36m(ClientAppActor pid=2338)\u001b[0m Loaded benign: (2128, 12053), Loaded anomalies: (17284, 12053)\n",
      "\u001b[36m(ClientAppActor pid=2338)\u001b[0m Merging datasets...\n",
      "\u001b[36m(ClientAppActor pid=2338)\u001b[0m Total iterations: 13, Final anomaly percentage: 5.72%\n",
      "\u001b[36m(ClientAppActor pid=2338)\u001b[0m Merged shape: (2257, 12053)\n"
     ]
    },
    {
     "name": "stderr",
     "output_type": "stream",
     "text": [
      "\u001b[36m(ClientAppActor pid=2338)\u001b[0m /opt/homebrew/anaconda3/lib/python3.12/site-packages/keras/src/trainers/data_adapters/py_dataset_adapter.py:121: UserWarning: Your `PyDataset` class should call `super().__init__(**kwargs)` in its constructor. `**kwargs` can include `workers`, `use_multiprocessing`, `max_queue_size`. Do not pass these arguments to `fit()`, as they will be ignored.\n",
      "\u001b[36m(ClientAppActor pid=2338)\u001b[0m   self._warn_if_super_not_called()\n",
      "\u001b[36m(ClientAppActor pid=2338)\u001b[0m /opt/homebrew/anaconda3/lib/python3.12/site-packages/tensorflow/python/framework/ops.py:315: DeprecationWarning: Conversion of an array with ndim > 0 to a scalar is deprecated, and will error in future. Ensure you extract a single element from your array before performing this operation. (Deprecated NumPy 1.25.)\n",
      "\u001b[36m(ClientAppActor pid=2338)\u001b[0m   return float(self._numpy())\n"
     ]
    },
    {
     "name": "stdout",
     "output_type": "stream",
     "text": [
      "\u001b[36m(ClientAppActor pid=2339)\u001b[0m Loaded benign: (42281, 12053), Loaded anomalies: (15358, 12053)\n",
      "\u001b[36m(ClientAppActor pid=2339)\u001b[0m Merging datasets...\n",
      "\u001b[36m(ClientAppActor pid=2339)\u001b[0m Total iterations: 34, Final anomaly percentage: 5.53%\n",
      "\u001b[36m(ClientAppActor pid=2339)\u001b[0m Merged shape: (42260, 12053)\n"
     ]
    },
    {
     "name": "stderr",
     "output_type": "stream",
     "text": [
      "\u001b[36m(ClientAppActor pid=2339)\u001b[0m /opt/homebrew/anaconda3/lib/python3.12/site-packages/keras/src/trainers/data_adapters/py_dataset_adapter.py:121: UserWarning: Your `PyDataset` class should call `super().__init__(**kwargs)` in its constructor. `**kwargs` can include `workers`, `use_multiprocessing`, `max_queue_size`. Do not pass these arguments to `fit()`, as they will be ignored.\n",
      "\u001b[36m(ClientAppActor pid=2339)\u001b[0m   self._warn_if_super_not_called()\n",
      "\u001b[36m(ClientAppActor pid=2339)\u001b[0m /opt/homebrew/anaconda3/lib/python3.12/site-packages/tensorflow/python/framework/ops.py:315: DeprecationWarning: Conversion of an array with ndim > 0 to a scalar is deprecated, and will error in future. Ensure you extract a single element from your array before performing this operation. (Deprecated NumPy 1.25.)\n",
      "\u001b[36m(ClientAppActor pid=2339)\u001b[0m   return float(self._numpy())\n",
      "\u001b[92mINFO \u001b[0m:      aggregate_evaluate: received 3 results and 0 failures\n",
      "\u001b[92mINFO \u001b[0m:      \n",
      "\u001b[92mINFO \u001b[0m:      [ROUND 11]\n",
      "\u001b[92mINFO \u001b[0m:      configure_fit: strategy sampled 3 clients (out of 12)\n"
     ]
    },
    {
     "name": "stdout",
     "output_type": "stream",
     "text": [
      "\u001b[36m(ClientAppActor pid=2338)\u001b[0m Loaded benign: (2128, 12053), Loaded anomalies: (6059, 12053)\n",
      "\u001b[36m(ClientAppActor pid=2338)\u001b[0m Merging datasets...\n",
      "\u001b[36m(ClientAppActor pid=2338)\u001b[0m Total iterations: 20, Final anomaly percentage: 5.97%\n",
      "\u001b[36m(ClientAppActor pid=2338)\u001b[0m Merged shape: (2263, 12053)\n"
     ]
    },
    {
     "name": "stderr",
     "output_type": "stream",
     "text": [
      "\u001b[36m(ClientAppActor pid=2338)\u001b[0m /opt/homebrew/anaconda3/lib/python3.12/site-packages/keras/src/trainers/data_adapters/py_dataset_adapter.py:121: UserWarning: Your `PyDataset` class should call `super().__init__(**kwargs)` in its constructor. `**kwargs` can include `workers`, `use_multiprocessing`, `max_queue_size`. Do not pass these arguments to `fit()`, as they will be ignored.\n",
      "\u001b[36m(ClientAppActor pid=2338)\u001b[0m   self._warn_if_super_not_called()\n",
      "\u001b[36m(ClientAppActor pid=2338)\u001b[0m /opt/homebrew/anaconda3/lib/python3.12/site-packages/tensorflow/python/framework/ops.py:315: DeprecationWarning: Conversion of an array with ndim > 0 to a scalar is deprecated, and will error in future. Ensure you extract a single element from your array before performing this operation. (Deprecated NumPy 1.25.)\n",
      "\u001b[36m(ClientAppActor pid=2338)\u001b[0m   return float(self._numpy())\n"
     ]
    },
    {
     "name": "stdout",
     "output_type": "stream",
     "text": [
      "\u001b[36m(ClientAppActor pid=2340)\u001b[0m Loaded benign: (1332, 12053), Loaded anomalies: (17284, 12053)\n",
      "\u001b[36m(ClientAppActor pid=2340)\u001b[0m Merging datasets...\n",
      "\u001b[36m(ClientAppActor pid=2339)\u001b[0m Loaded benign: (17284, 12053), Loaded anomalies: (5404, 12053)\n",
      "\u001b[36m(ClientAppActor pid=2339)\u001b[0m Merging datasets...\n",
      "\u001b[36m(ClientAppActor pid=2340)\u001b[0m Total iterations: 15, Final anomaly percentage: 7.18%\n",
      "\u001b[36m(ClientAppActor pid=2340)\u001b[0m Merged shape: (1435, 12053)\n"
     ]
    },
    {
     "name": "stderr",
     "output_type": "stream",
     "text": [
      "\u001b[36m(ClientAppActor pid=2340)\u001b[0m /opt/homebrew/anaconda3/lib/python3.12/site-packages/keras/src/trainers/data_adapters/py_dataset_adapter.py:121: UserWarning: Your `PyDataset` class should call `super().__init__(**kwargs)` in its constructor. `**kwargs` can include `workers`, `use_multiprocessing`, `max_queue_size`. Do not pass these arguments to `fit()`, as they will be ignored.\n",
      "\u001b[36m(ClientAppActor pid=2340)\u001b[0m   self._warn_if_super_not_called()\n",
      "\u001b[36m(ClientAppActor pid=2340)\u001b[0m /opt/homebrew/anaconda3/lib/python3.12/site-packages/tensorflow/python/framework/ops.py:315: DeprecationWarning: Conversion of an array with ndim > 0 to a scalar is deprecated, and will error in future. Ensure you extract a single element from your array before performing this operation. (Deprecated NumPy 1.25.)\n",
      "\u001b[36m(ClientAppActor pid=2340)\u001b[0m   return float(self._numpy())\n"
     ]
    },
    {
     "name": "stdout",
     "output_type": "stream",
     "text": [
      "\u001b[36m(ClientAppActor pid=2339)\u001b[0m Total iterations: 38, Final anomaly percentage: 5.72%\n",
      "\u001b[36m(ClientAppActor pid=2339)\u001b[0m Merged shape: (17538, 12053)\n"
     ]
    },
    {
     "name": "stderr",
     "output_type": "stream",
     "text": [
      "\u001b[36m(ClientAppActor pid=2339)\u001b[0m /opt/homebrew/anaconda3/lib/python3.12/site-packages/keras/src/trainers/data_adapters/py_dataset_adapter.py:121: UserWarning: Your `PyDataset` class should call `super().__init__(**kwargs)` in its constructor. `**kwargs` can include `workers`, `use_multiprocessing`, `max_queue_size`. Do not pass these arguments to `fit()`, as they will be ignored.\n",
      "\u001b[36m(ClientAppActor pid=2339)\u001b[0m   self._warn_if_super_not_called()\n",
      "\u001b[36m(ClientAppActor pid=2339)\u001b[0m /opt/homebrew/anaconda3/lib/python3.12/site-packages/tensorflow/python/framework/ops.py:315: DeprecationWarning: Conversion of an array with ndim > 0 to a scalar is deprecated, and will error in future. Ensure you extract a single element from your array before performing this operation. (Deprecated NumPy 1.25.)\n",
      "\u001b[36m(ClientAppActor pid=2339)\u001b[0m   return float(self._numpy())\n",
      "\u001b[92mINFO \u001b[0m:      aggregate_fit: received 3 results and 0 failures\n",
      "\u001b[92mINFO \u001b[0m:      configure_evaluate: strategy sampled 3 clients (out of 12)\n"
     ]
    },
    {
     "name": "stdout",
     "output_type": "stream",
     "text": [
      "\u001b[36m(ClientAppActor pid=2339)\u001b[0m Loaded benign: (5404, 12053), Loaded anomalies: (3221, 12053)\n",
      "\u001b[36m(ClientAppActor pid=2339)\u001b[0m Merging datasets...\n",
      "\u001b[36m(ClientAppActor pid=2339)\u001b[0m Total iterations: 28, Final anomaly percentage: 8.44%\n",
      "\u001b[36m(ClientAppActor pid=2339)\u001b[0m Merged shape: (5618, 12053)\n"
     ]
    },
    {
     "name": "stderr",
     "output_type": "stream",
     "text": [
      "\u001b[36m(ClientAppActor pid=2339)\u001b[0m /opt/homebrew/anaconda3/lib/python3.12/site-packages/keras/src/trainers/data_adapters/py_dataset_adapter.py:121: UserWarning: Your `PyDataset` class should call `super().__init__(**kwargs)` in its constructor. `**kwargs` can include `workers`, `use_multiprocessing`, `max_queue_size`. Do not pass these arguments to `fit()`, as they will be ignored.\n",
      "\u001b[36m(ClientAppActor pid=2339)\u001b[0m   self._warn_if_super_not_called()\n",
      "\u001b[36m(ClientAppActor pid=2339)\u001b[0m /opt/homebrew/anaconda3/lib/python3.12/site-packages/tensorflow/python/framework/ops.py:315: DeprecationWarning: Conversion of an array with ndim > 0 to a scalar is deprecated, and will error in future. Ensure you extract a single element from your array before performing this operation. (Deprecated NumPy 1.25.)\n",
      "\u001b[36m(ClientAppActor pid=2339)\u001b[0m   return float(self._numpy())\n"
     ]
    },
    {
     "name": "stdout",
     "output_type": "stream",
     "text": [
      "\u001b[36m(ClientAppActor pid=2338)\u001b[0m Loaded benign: (6059, 12053), Loaded anomalies: (5404, 12053)\n",
      "\u001b[36m(ClientAppActor pid=2338)\u001b[0m Merging datasets...\n",
      "\u001b[36m(ClientAppActor pid=2338)\u001b[0m Total iterations: 33, Final anomaly percentage: 7.16%\n",
      "\u001b[36m(ClientAppActor pid=2338)\u001b[0m Merged shape: (6512, 12053)\n"
     ]
    },
    {
     "name": "stderr",
     "output_type": "stream",
     "text": [
      "\u001b[36m(ClientAppActor pid=2338)\u001b[0m /opt/homebrew/anaconda3/lib/python3.12/site-packages/keras/src/trainers/data_adapters/py_dataset_adapter.py:121: UserWarning: Your `PyDataset` class should call `super().__init__(**kwargs)` in its constructor. `**kwargs` can include `workers`, `use_multiprocessing`, `max_queue_size`. Do not pass these arguments to `fit()`, as they will be ignored.\n",
      "\u001b[36m(ClientAppActor pid=2338)\u001b[0m   self._warn_if_super_not_called()\n"
     ]
    },
    {
     "name": "stdout",
     "output_type": "stream",
     "text": [
      "\u001b[36m(ClientAppActor pid=2340)\u001b[0m Loaded benign: (1332, 12053), Loaded anomalies: (42281, 12053)\n",
      "\u001b[36m(ClientAppActor pid=2340)\u001b[0m Merging datasets...\n",
      "\u001b[36m(ClientAppActor pid=2340)\u001b[0m Total iterations: 7, Final anomaly percentage: 6.20%\n",
      "\u001b[36m(ClientAppActor pid=2340)\u001b[0m Merged shape: (1420, 12053)\n"
     ]
    },
    {
     "name": "stderr",
     "output_type": "stream",
     "text": [
      "\u001b[36m(ClientAppActor pid=2338)\u001b[0m /opt/homebrew/anaconda3/lib/python3.12/site-packages/tensorflow/python/framework/ops.py:315: DeprecationWarning: Conversion of an array with ndim > 0 to a scalar is deprecated, and will error in future. Ensure you extract a single element from your array before performing this operation. (Deprecated NumPy 1.25.)\n",
      "\u001b[36m(ClientAppActor pid=2338)\u001b[0m   return float(self._numpy())\n",
      "\u001b[36m(ClientAppActor pid=2340)\u001b[0m /opt/homebrew/anaconda3/lib/python3.12/site-packages/keras/src/trainers/data_adapters/py_dataset_adapter.py:121: UserWarning: Your `PyDataset` class should call `super().__init__(**kwargs)` in its constructor. `**kwargs` can include `workers`, `use_multiprocessing`, `max_queue_size`. Do not pass these arguments to `fit()`, as they will be ignored.\n",
      "\u001b[36m(ClientAppActor pid=2340)\u001b[0m   self._warn_if_super_not_called()\n",
      "\u001b[36m(ClientAppActor pid=2340)\u001b[0m /opt/homebrew/anaconda3/lib/python3.12/site-packages/tensorflow/python/framework/ops.py:315: DeprecationWarning: Conversion of an array with ndim > 0 to a scalar is deprecated, and will error in future. Ensure you extract a single element from your array before performing this operation. (Deprecated NumPy 1.25.)\n",
      "\u001b[36m(ClientAppActor pid=2340)\u001b[0m   return float(self._numpy())\n",
      "\u001b[92mINFO \u001b[0m:      aggregate_evaluate: received 3 results and 0 failures\n",
      "\u001b[92mINFO \u001b[0m:      \n",
      "\u001b[92mINFO \u001b[0m:      [ROUND 12]\n",
      "\u001b[92mINFO \u001b[0m:      configure_fit: strategy sampled 3 clients (out of 12)\n"
     ]
    },
    {
     "name": "stdout",
     "output_type": "stream",
     "text": [
      "\u001b[36m(ClientAppActor pid=2338)\u001b[0m Loaded benign: (6059, 12053), Loaded anomalies: (15358, 12053)\n",
      "\u001b[36m(ClientAppActor pid=2338)\u001b[0m Merging datasets...\n",
      "\u001b[36m(ClientAppActor pid=2338)\u001b[0m Total iterations: 29, Final anomaly percentage: 5.27%\n",
      "\u001b[36m(ClientAppActor pid=2338)\u001b[0m Merged shape: (6394, 12053)\n",
      "\u001b[36m(ClientAppActor pid=2339)\u001b[0m Loaded benign: (7920, 12053), Loaded anomalies: (15358, 12053)\n",
      "\u001b[36m(ClientAppActor pid=2339)\u001b[0m Merging datasets...\n"
     ]
    },
    {
     "name": "stderr",
     "output_type": "stream",
     "text": [
      "\u001b[36m(ClientAppActor pid=2338)\u001b[0m /opt/homebrew/anaconda3/lib/python3.12/site-packages/keras/src/trainers/data_adapters/py_dataset_adapter.py:121: UserWarning: Your `PyDataset` class should call `super().__init__(**kwargs)` in its constructor. `**kwargs` can include `workers`, `use_multiprocessing`, `max_queue_size`. Do not pass these arguments to `fit()`, as they will be ignored.\n",
      "\u001b[36m(ClientAppActor pid=2338)\u001b[0m   self._warn_if_super_not_called()\n",
      "\u001b[36m(ClientAppActor pid=2338)\u001b[0m /opt/homebrew/anaconda3/lib/python3.12/site-packages/tensorflow/python/framework/ops.py:315: DeprecationWarning: Conversion of an array with ndim > 0 to a scalar is deprecated, and will error in future. Ensure you extract a single element from your array before performing this operation. (Deprecated NumPy 1.25.)\n",
      "\u001b[36m(ClientAppActor pid=2338)\u001b[0m   return float(self._numpy())\n",
      "\u001b[36m(ClientAppActor pid=2339)\u001b[0m /opt/homebrew/anaconda3/lib/python3.12/site-packages/keras/src/trainers/data_adapters/py_dataset_adapter.py:121: UserWarning: Your `PyDataset` class should call `super().__init__(**kwargs)` in its constructor. `**kwargs` can include `workers`, `use_multiprocessing`, `max_queue_size`. Do not pass these arguments to `fit()`, as they will be ignored.\n",
      "\u001b[36m(ClientAppActor pid=2339)\u001b[0m   self._warn_if_super_not_called()\n"
     ]
    },
    {
     "name": "stdout",
     "output_type": "stream",
     "text": [
      "\u001b[36m(ClientAppActor pid=2340)\u001b[0m Loaded benign: (42281, 12053), Loaded anomalies: (179, 12053)\n",
      "\u001b[36m(ClientAppActor pid=2340)\u001b[0m Merging datasets...\n",
      "\u001b[36m(ClientAppActor pid=2339)\u001b[0m Total iterations: 26, Final anomaly percentage: 6.17%\n",
      "\u001b[36m(ClientAppActor pid=2339)\u001b[0m Merged shape: (8348, 12053)\n",
      "\u001b[36m(ClientAppActor pid=2340)\u001b[0m Total iterations: 24, Final anomaly percentage: 0.02%\n",
      "\u001b[36m(ClientAppActor pid=2340)\u001b[0m Merged shape: (42290, 12053)\n"
     ]
    },
    {
     "name": "stderr",
     "output_type": "stream",
     "text": [
      "\u001b[36m(ClientAppActor pid=2340)\u001b[0m /opt/homebrew/anaconda3/lib/python3.12/site-packages/keras/src/trainers/data_adapters/py_dataset_adapter.py:121: UserWarning: Your `PyDataset` class should call `super().__init__(**kwargs)` in its constructor. `**kwargs` can include `workers`, `use_multiprocessing`, `max_queue_size`. Do not pass these arguments to `fit()`, as they will be ignored.\n",
      "\u001b[36m(ClientAppActor pid=2340)\u001b[0m   self._warn_if_super_not_called()\n",
      "\u001b[36m(ClientAppActor pid=2339)\u001b[0m /opt/homebrew/anaconda3/lib/python3.12/site-packages/tensorflow/python/framework/ops.py:315: DeprecationWarning: Conversion of an array with ndim > 0 to a scalar is deprecated, and will error in future. Ensure you extract a single element from your array before performing this operation. (Deprecated NumPy 1.25.)\n",
      "\u001b[36m(ClientAppActor pid=2339)\u001b[0m   return float(self._numpy())\n",
      "\u001b[36m(ClientAppActor pid=2340)\u001b[0m /opt/homebrew/anaconda3/lib/python3.12/site-packages/tensorflow/python/framework/ops.py:315: DeprecationWarning: Conversion of an array with ndim > 0 to a scalar is deprecated, and will error in future. Ensure you extract a single element from your array before performing this operation. (Deprecated NumPy 1.25.)\n",
      "\u001b[36m(ClientAppActor pid=2340)\u001b[0m   return float(self._numpy())\n",
      "\u001b[92mINFO \u001b[0m:      aggregate_fit: received 3 results and 0 failures\n",
      "\u001b[92mINFO \u001b[0m:      configure_evaluate: strategy sampled 3 clients (out of 12)\n"
     ]
    },
    {
     "name": "stdout",
     "output_type": "stream",
     "text": [
      "\u001b[36m(ClientAppActor pid=2338)\u001b[0m Loaded benign: (5404, 12053), Loaded anomalies: (179, 12053)\n",
      "\u001b[36m(ClientAppActor pid=2338)\u001b[0m Merging datasets...\n",
      "\u001b[36m(ClientAppActor pid=2338)\u001b[0m Total iterations: 24, Final anomaly percentage: 0.17%\n",
      "\u001b[36m(ClientAppActor pid=2338)\u001b[0m Merged shape: (5413, 12053)\n"
     ]
    },
    {
     "name": "stderr",
     "output_type": "stream",
     "text": [
      "\u001b[36m(ClientAppActor pid=2338)\u001b[0m /opt/homebrew/anaconda3/lib/python3.12/site-packages/keras/src/trainers/data_adapters/py_dataset_adapter.py:121: UserWarning: Your `PyDataset` class should call `super().__init__(**kwargs)` in its constructor. `**kwargs` can include `workers`, `use_multiprocessing`, `max_queue_size`. Do not pass these arguments to `fit()`, as they will be ignored.\n",
      "\u001b[36m(ClientAppActor pid=2338)\u001b[0m   self._warn_if_super_not_called()\n",
      "\u001b[36m(ClientAppActor pid=2338)\u001b[0m /opt/homebrew/anaconda3/lib/python3.12/site-packages/tensorflow/python/framework/ops.py:315: DeprecationWarning: Conversion of an array with ndim > 0 to a scalar is deprecated, and will error in future. Ensure you extract a single element from your array before performing this operation. (Deprecated NumPy 1.25.)\n",
      "\u001b[36m(ClientAppActor pid=2338)\u001b[0m   return float(self._numpy())\n"
     ]
    },
    {
     "name": "stdout",
     "output_type": "stream",
     "text": [
      "\u001b[36m(ClientAppActor pid=2339)\u001b[0m Loaded benign: (7920, 12053), Loaded anomalies: (179, 12053)\n",
      "\u001b[36m(ClientAppActor pid=2339)\u001b[0m Merging datasets...\n"
     ]
    },
    {
     "name": "stderr",
     "output_type": "stream",
     "text": [
      "\u001b[36m(ClientAppActor pid=2339)\u001b[0m /opt/homebrew/anaconda3/lib/python3.12/site-packages/keras/src/trainers/data_adapters/py_dataset_adapter.py:121: UserWarning: Your `PyDataset` class should call `super().__init__(**kwargs)` in its constructor. `**kwargs` can include `workers`, `use_multiprocessing`, `max_queue_size`. Do not pass these arguments to `fit()`, as they will be ignored.\n",
      "\u001b[36m(ClientAppActor pid=2339)\u001b[0m   self._warn_if_super_not_called()\n"
     ]
    },
    {
     "name": "stdout",
     "output_type": "stream",
     "text": [
      "\u001b[36m(ClientAppActor pid=2340)\u001b[0m Loaded benign: (17284, 12053), Loaded anomalies: (179, 12053)\n",
      "\u001b[36m(ClientAppActor pid=2340)\u001b[0m Merging datasets...\n",
      "\u001b[36m(ClientAppActor pid=2339)\u001b[0m Total iterations: 24, Final anomaly percentage: 0.15%\n",
      "\u001b[36m(ClientAppActor pid=2339)\u001b[0m Merged shape: (7932, 12053)\n",
      "\u001b[36m(ClientAppActor pid=2340)\u001b[0m Total iterations: 24, Final anomaly percentage: 0.03%\n",
      "\u001b[36m(ClientAppActor pid=2340)\u001b[0m Merged shape: (17161, 12053)\n"
     ]
    },
    {
     "name": "stderr",
     "output_type": "stream",
     "text": [
      "\u001b[36m(ClientAppActor pid=2339)\u001b[0m /opt/homebrew/anaconda3/lib/python3.12/site-packages/tensorflow/python/framework/ops.py:315: DeprecationWarning: Conversion of an array with ndim > 0 to a scalar is deprecated, and will error in future. Ensure you extract a single element from your array before performing this operation. (Deprecated NumPy 1.25.)\n",
      "\u001b[36m(ClientAppActor pid=2339)\u001b[0m   return float(self._numpy())\n",
      "\u001b[36m(ClientAppActor pid=2340)\u001b[0m /opt/homebrew/anaconda3/lib/python3.12/site-packages/keras/src/trainers/data_adapters/py_dataset_adapter.py:121: UserWarning: Your `PyDataset` class should call `super().__init__(**kwargs)` in its constructor. `**kwargs` can include `workers`, `use_multiprocessing`, `max_queue_size`. Do not pass these arguments to `fit()`, as they will be ignored.\n",
      "\u001b[36m(ClientAppActor pid=2340)\u001b[0m   self._warn_if_super_not_called()\n",
      "\u001b[36m(ClientAppActor pid=2340)\u001b[0m /opt/homebrew/anaconda3/lib/python3.12/site-packages/tensorflow/python/framework/ops.py:315: DeprecationWarning: Conversion of an array with ndim > 0 to a scalar is deprecated, and will error in future. Ensure you extract a single element from your array before performing this operation. (Deprecated NumPy 1.25.)\n",
      "\u001b[36m(ClientAppActor pid=2340)\u001b[0m   return float(self._numpy())\n",
      "\u001b[92mINFO \u001b[0m:      aggregate_evaluate: received 3 results and 0 failures\n",
      "\u001b[92mINFO \u001b[0m:      \n",
      "\u001b[92mINFO \u001b[0m:      [SUMMARY]\n",
      "\u001b[92mINFO \u001b[0m:      Run finished 12 round(s) in 2581.61s\n",
      "\u001b[92mINFO \u001b[0m:      \tHistory (loss, distributed):\n",
      "\u001b[92mINFO \u001b[0m:      \t\tround 1: 21.74444643656413\n",
      "\u001b[92mINFO \u001b[0m:      \t\tround 2: 40.442376753863165\n",
      "\u001b[92mINFO \u001b[0m:      \t\tround 3: 18.493011728922525\n",
      "\u001b[92mINFO \u001b[0m:      \t\tround 4: 13.987519507712506\n",
      "\u001b[92mINFO \u001b[0m:      \t\tround 5: 42.05164455232166\n",
      "\u001b[92mINFO \u001b[0m:      \t\tround 6: 69.1992792401995\n",
      "\u001b[92mINFO \u001b[0m:      \t\tround 7: 62.62171918496318\n",
      "\u001b[92mINFO \u001b[0m:      \t\tround 8: 15.003454208374023\n",
      "\u001b[92mINFO \u001b[0m:      \t\tround 9: 7.636764331739776\n",
      "\u001b[92mINFO \u001b[0m:      \t\tround 10: 34.10028671082996\n",
      "\u001b[92mINFO \u001b[0m:      \t\tround 11: 40.64430535357931\n",
      "\u001b[92mINFO \u001b[0m:      \t\tround 12: 38.496390517877074\n",
      "\u001b[92mINFO \u001b[0m:      \tHistory (metrics, distributed, fit):\n",
      "\u001b[92mINFO \u001b[0m:      \t{'binary-accuracy': [(1, 0.9333188533782959),\n",
      "\u001b[92mINFO \u001b[0m:      \t                     (2, 0.9702873826026917),\n",
      "\u001b[92mINFO \u001b[0m:      \t                     (3, 0.9071939388910929),\n",
      "\u001b[92mINFO \u001b[0m:      \t                     (4, 0.9199821551640829),\n",
      "\u001b[92mINFO \u001b[0m:      \t                     (5, 0.92905193567276),\n",
      "\u001b[92mINFO \u001b[0m:      \t                     (6, 0.8905797998110453),\n",
      "\u001b[92mINFO \u001b[0m:      \t                     (7, 0.9099807143211365),\n",
      "\u001b[92mINFO \u001b[0m:      \t                     (8, 0.984332819779714),\n",
      "\u001b[92mINFO \u001b[0m:      \t                     (9, 0.9454657832781473),\n",
      "\u001b[92mINFO \u001b[0m:      \t                     (10, 0.9496122598648071),\n",
      "\u001b[92mINFO \u001b[0m:      \t                     (11, 0.8503145376841227),\n",
      "\u001b[92mINFO \u001b[0m:      \t                     (12, 0.9788625041643778)],\n",
      "\u001b[92mINFO \u001b[0m:      \t 'f1-score': [(1, 0.12120906015237172),\n",
      "\u001b[92mINFO \u001b[0m:      \t              (2, 0.054561714331309),\n",
      "\u001b[92mINFO \u001b[0m:      \t              (3, 0.16650832941134772),\n",
      "\u001b[92mINFO \u001b[0m:      \t              (4, 0.14784883707761765),\n",
      "\u001b[92mINFO \u001b[0m:      \t              (5, 0.12795420487721762),\n",
      "\u001b[92mINFO \u001b[0m:      \t              (6, 0.17700974891583124),\n",
      "\u001b[92mINFO \u001b[0m:      \t              (7, 0.15315703054269156),\n",
      "\u001b[92mINFO \u001b[0m:      \t              (8, 0.03015772191186746),\n",
      "\u001b[92mINFO \u001b[0m:      \t              (9, 0.10069651901721954),\n",
      "\u001b[92mINFO \u001b[0m:      \t              (10, 0.08995800962050755),\n",
      "\u001b[92mINFO \u001b[0m:      \t              (11, 0.1837009390195211),\n",
      "\u001b[92mINFO \u001b[0m:      \t              (12, 0.04029733190933863)],\n",
      "\u001b[92mINFO \u001b[0m:      \t 'learning-rate': [(1, 0.009999999776482582),\n",
      "\u001b[92mINFO \u001b[0m:      \t                   (2, 0.009999999776482582),\n",
      "\u001b[92mINFO \u001b[0m:      \t                   (3, 0.009999999776482582),\n",
      "\u001b[92mINFO \u001b[0m:      \t                   (4, 0.009999999776482582),\n",
      "\u001b[92mINFO \u001b[0m:      \t                   (5, 0.009999999776482582),\n",
      "\u001b[92mINFO \u001b[0m:      \t                   (6, 0.009999999776482582),\n",
      "\u001b[92mINFO \u001b[0m:      \t                   (7, 0.009999999776482582),\n",
      "\u001b[92mINFO \u001b[0m:      \t                   (8, 0.009999999776482582),\n",
      "\u001b[92mINFO \u001b[0m:      \t                   (9, 0.009999999776482582),\n",
      "\u001b[92mINFO \u001b[0m:      \t                   (10, 0.009999999776482582),\n",
      "\u001b[92mINFO \u001b[0m:      \t                   (11, 0.009999999776482582),\n",
      "\u001b[92mINFO \u001b[0m:      \t                   (12, 0.009999999776482582)],\n",
      "\u001b[92mINFO \u001b[0m:      \t 'loss': [(1, 4.327207962671916),\n",
      "\u001b[92mINFO \u001b[0m:      \t          (2, 12.652817408243815),\n",
      "\u001b[92mINFO \u001b[0m:      \t          (3, 13.533896764119467),\n",
      "\u001b[92mINFO \u001b[0m:      \t          (4, 4.419931968053182),\n",
      "\u001b[92mINFO \u001b[0m:      \t          (5, 7.737536350886027),\n",
      "\u001b[92mINFO \u001b[0m:      \t          (6, 28.511209964752197),\n",
      "\u001b[92mINFO \u001b[0m:      \t          (7, 36.89414230982462),\n",
      "\u001b[92mINFO \u001b[0m:      \t          (8, 25.249542554219563),\n",
      "\u001b[92mINFO \u001b[0m:      \t          (9, 7.616288145383199),\n",
      "\u001b[92mINFO \u001b[0m:      \t          (10, 3.8632843494415283),\n",
      "\u001b[92mINFO \u001b[0m:      \t          (11, 11.98319419225057),\n",
      "\u001b[92mINFO \u001b[0m:      \t          (12, 17.82414166132609)],\n",
      "\u001b[92mINFO \u001b[0m:      \t 'precision': [(1, 0.010928961137930552)],\n",
      "\u001b[92mINFO \u001b[0m:      \t 'precision-10': [(6, 0.0)],\n",
      "\u001b[92mINFO \u001b[0m:      \t 'precision-12': [(7, 0.0)],\n",
      "\u001b[92mINFO \u001b[0m:      \t 'precision-14': [(8, 0.0)],\n",
      "\u001b[92mINFO \u001b[0m:      \t 'precision-16': [(9, 0.0)],\n",
      "\u001b[92mINFO \u001b[0m:      \t 'precision-18': [(10, 0.0)],\n",
      "\u001b[92mINFO \u001b[0m:      \t 'precision-2': [(2, 0.0)],\n",
      "\u001b[92mINFO \u001b[0m:      \t 'precision-20': [(11, 0.03709334135055542)],\n",
      "\u001b[92mINFO \u001b[0m:      \t 'precision-22': [(12, 0.0)],\n",
      "\u001b[92mINFO \u001b[0m:      \t 'precision-4': [(3, 0.0)],\n",
      "\u001b[92mINFO \u001b[0m:      \t 'precision-6': [(4, 0.0)],\n",
      "\u001b[92mINFO \u001b[0m:      \t 'precision-8': [(5, 0.0)],\n",
      "\u001b[92mINFO \u001b[0m:      \t 'recall': [(1, 0.00062421973173817)],\n",
      "\u001b[92mINFO \u001b[0m:      \t 'recall-10': [(6, 0.0)],\n",
      "\u001b[92mINFO \u001b[0m:      \t 'recall-12': [(7, 0.0)],\n",
      "\u001b[92mINFO \u001b[0m:      \t 'recall-14': [(8, 0.0)],\n",
      "\u001b[92mINFO \u001b[0m:      \t 'recall-16': [(9, 0.0)],\n",
      "\u001b[92mINFO \u001b[0m:      \t 'recall-18': [(10, 0.0)],\n",
      "\u001b[92mINFO \u001b[0m:      \t 'recall-2': [(2, 0.0)],\n",
      "\u001b[92mINFO \u001b[0m:      \t 'recall-20': [(11, 0.040596423049767814)],\n",
      "\u001b[92mINFO \u001b[0m:      \t 'recall-22': [(12, 0.0)],\n",
      "\u001b[92mINFO \u001b[0m:      \t 'recall-4': [(3, 0.0)],\n",
      "\u001b[92mINFO \u001b[0m:      \t 'recall-6': [(4, 0.0)],\n",
      "\u001b[92mINFO \u001b[0m:      \t 'recall-8': [(5, 0.0)],\n",
      "\u001b[92mINFO \u001b[0m:      \t 'val-binary-accuracy': [(1, 0.9863985776901245),\n",
      "\u001b[92mINFO \u001b[0m:      \t                         (2, 0.9807783762613932),\n",
      "\u001b[92mINFO \u001b[0m:      \t                         (3, 0.9420172373453776),\n",
      "\u001b[92mINFO \u001b[0m:      \t                         (4, 0.985271672407786),\n",
      "\u001b[92mINFO \u001b[0m:      \t                         (5, 1.0),\n",
      "\u001b[92mINFO \u001b[0m:      \t                         (6, 0.6015637516975403),\n",
      "\u001b[92mINFO \u001b[0m:      \t                         (7, 0.9508013129234314),\n",
      "\u001b[92mINFO \u001b[0m:      \t                         (8, 0.8953399856885275),\n",
      "\u001b[92mINFO \u001b[0m:      \t                         (9, 0.9601240158081055),\n",
      "\u001b[92mINFO \u001b[0m:      \t                         (10, 0.9452786644299825),\n",
      "\u001b[92mINFO \u001b[0m:      \t                         (11, 1.0),\n",
      "\u001b[92mINFO \u001b[0m:      \t                         (12, 0.9710023601849874)],\n",
      "\u001b[92mINFO \u001b[0m:      \t 'val-f1-score': [(1, 0.026136361062526703),\n",
      "\u001b[92mINFO \u001b[0m:      \t                  (2, 0.03735839451352755),\n",
      "\u001b[92mINFO \u001b[0m:      \t                  (3, 0.10622844410439332),\n",
      "\u001b[92mINFO \u001b[0m:      \t                  (4, 0.028457108264168102),\n",
      "\u001b[92mINFO \u001b[0m:      \t                  (5, 0.0),\n",
      "\u001b[92mINFO \u001b[0m:      \t                  (6, 0.4422640303770701),\n",
      "\u001b[92mINFO \u001b[0m:      \t                  (7, 0.09162739912668864),\n",
      "\u001b[92mINFO \u001b[0m:      \t                  (8, 0.1802424838145574),\n",
      "\u001b[92mINFO \u001b[0m:      \t                  (9, 0.07123077909151714),\n",
      "\u001b[92mINFO \u001b[0m:      \t                  (10, 0.10041198879480362),\n",
      "\u001b[92mINFO \u001b[0m:      \t                  (11, 0.0),\n",
      "\u001b[92mINFO \u001b[0m:      \t                  (12, 0.05521196871995926)],\n",
      "\u001b[92mINFO \u001b[0m:      \t 'val-loss': [(1, 1.4570523500442505),\n",
      "\u001b[92mINFO \u001b[0m:      \t              (2, 8.479347864786783),\n",
      "\u001b[92mINFO \u001b[0m:      \t              (3, 3.9180901050567627),\n",
      "\u001b[92mINFO \u001b[0m:      \t              (4, 1.353199412425359),\n",
      "\u001b[92mINFO \u001b[0m:      \t              (5, 4.211961170037587),\n",
      "\u001b[92mINFO \u001b[0m:      \t              (6, 21.64539098739624),\n",
      "\u001b[92mINFO \u001b[0m:      \t              (7, 21.582856734593708),\n",
      "\u001b[92mINFO \u001b[0m:      \t              (8, 15.358276625474295),\n",
      "\u001b[92mINFO \u001b[0m:      \t              (9, 4.091801146666209),\n",
      "\u001b[92mINFO \u001b[0m:      \t              (10, 2.0919149120648703),\n",
      "\u001b[92mINFO \u001b[0m:      \t              (11, 2.62505766749382),\n",
      "\u001b[92mINFO \u001b[0m:      \t              (12, 11.586577415466309)],\n",
      "\u001b[92mINFO \u001b[0m:      \t 'val-precision': [(1, 0.0)],\n",
      "\u001b[92mINFO \u001b[0m:      \t 'val-precision-10': [(6, 0.0)],\n",
      "\u001b[92mINFO \u001b[0m:      \t 'val-precision-12': [(7, 0.0)],\n",
      "\u001b[92mINFO \u001b[0m:      \t 'val-precision-14': [(8, 0.0)],\n",
      "\u001b[92mINFO \u001b[0m:      \t 'val-precision-16': [(9, 0.0)],\n",
      "\u001b[92mINFO \u001b[0m:      \t 'val-precision-18': [(10, 0.0)],\n",
      "\u001b[92mINFO \u001b[0m:      \t 'val-precision-2': [(2, 0.0)],\n",
      "\u001b[92mINFO \u001b[0m:      \t 'val-precision-20': [(11, 0.0)],\n",
      "\u001b[92mINFO \u001b[0m:      \t 'val-precision-22': [(12, 0.0)],\n",
      "\u001b[92mINFO \u001b[0m:      \t 'val-precision-4': [(3, 0.0)],\n",
      "\u001b[92mINFO \u001b[0m:      \t 'val-precision-6': [(4, 0.0)],\n",
      "\u001b[92mINFO \u001b[0m:      \t 'val-precision-8': [(5, 0.0)],\n",
      "\u001b[92mINFO \u001b[0m:      \t 'val-recall': [(1, 0.0)],\n",
      "\u001b[92mINFO \u001b[0m:      \t 'val-recall-10': [(6, 0.0)],\n",
      "\u001b[92mINFO \u001b[0m:      \t 'val-recall-12': [(7, 0.0)],\n",
      "\u001b[92mINFO \u001b[0m:      \t 'val-recall-14': [(8, 0.0)],\n",
      "\u001b[92mINFO \u001b[0m:      \t 'val-recall-16': [(9, 0.0)],\n",
      "\u001b[92mINFO \u001b[0m:      \t 'val-recall-18': [(10, 0.0)],\n",
      "\u001b[92mINFO \u001b[0m:      \t 'val-recall-2': [(2, 0.0)],\n",
      "\u001b[92mINFO \u001b[0m:      \t 'val-recall-20': [(11, 0.0)],\n",
      "\u001b[92mINFO \u001b[0m:      \t 'val-recall-22': [(12, 0.0)],\n",
      "\u001b[92mINFO \u001b[0m:      \t 'val-recall-4': [(3, 0.0)],\n",
      "\u001b[92mINFO \u001b[0m:      \t 'val-recall-6': [(4, 0.0)],\n",
      "\u001b[92mINFO \u001b[0m:      \t 'val-recall-8': [(5, 0.0)]}\n",
      "\u001b[92mINFO \u001b[0m:      \tHistory (metrics, distributed, evaluate):\n",
      "\u001b[92mINFO \u001b[0m:      \t{'anomaly-percentage': [(1, 0.054024868338027665),\n",
      "\u001b[92mINFO \u001b[0m:      \t                        (2, 0.07446716909854184),\n",
      "\u001b[92mINFO \u001b[0m:      \t                        (3, 0.06748482224651707),\n",
      "\u001b[92mINFO \u001b[0m:      \t                        (4, 0.0545263166778272),\n",
      "\u001b[92mINFO \u001b[0m:      \t                        (5, 0.05027054566496669),\n",
      "\u001b[92mINFO \u001b[0m:      \t                        (6, 0.07150392544145788),\n",
      "\u001b[92mINFO \u001b[0m:      \t                        (7, 0.054413492291888355),\n",
      "\u001b[92mINFO \u001b[0m:      \t                        (8, 0.08036495451827201),\n",
      "\u001b[92mINFO \u001b[0m:      \t                        (9, 0.05356036232187341),\n",
      "\u001b[92mINFO \u001b[0m:      \t                        (10, 0.05647060215490266),\n",
      "\u001b[92mINFO \u001b[0m:      \t                        (11, 0.07263456335315399),\n",
      "\u001b[92mINFO \u001b[0m:      \t                        (12, 0.0011556271912258641)],\n",
      "\u001b[92mINFO \u001b[0m:      \t 'binary-accuracy': [(1, 0.9292656183242798),\n",
      "\u001b[92mINFO \u001b[0m:      \t                     (2, 1.0),\n",
      "\u001b[92mINFO \u001b[0m:      \t                     (3, 0.8351128300031027),\n",
      "\u001b[92mINFO \u001b[0m:      \t                     (4, 0.9318698644638062),\n",
      "\u001b[92mINFO \u001b[0m:      \t                     (5, 0.7777955333391825),\n",
      "\u001b[92mINFO \u001b[0m:      \t                     (6, 0.726208915313085),\n",
      "\u001b[92mINFO \u001b[0m:      \t                     (7, 0.9295037786165873),\n",
      "\u001b[92mINFO \u001b[0m:      \t                     (8, 0.9122023781140646),\n",
      "\u001b[92mINFO \u001b[0m:      \t                     (9, 0.9019580483436584),\n",
      "\u001b[92mINFO \u001b[0m:      \t                     (10, 0.9151435494422913),\n",
      "\u001b[92mINFO \u001b[0m:      \t                     (11, 0.7938666741053263),\n",
      "\u001b[92mINFO \u001b[0m:      \t                     (12, 1.0)],\n",
      "\u001b[92mINFO \u001b[0m:      \t 'f1-score': [(1, 0.11802167352288961),\n",
      "\u001b[92mINFO \u001b[0m:      \t              (2, 0.0),\n",
      "\u001b[92mINFO \u001b[0m:      \t              (3, 0.23616555829842886),\n",
      "\u001b[92mINFO \u001b[0m:      \t              (4, 0.1235186258951823),\n",
      "\u001b[92mINFO \u001b[0m:      \t              (5, 0.3549878845612208),\n",
      "\u001b[92mINFO \u001b[0m:      \t              (6, 0.37685467799504596),\n",
      "\u001b[92mINFO \u001b[0m:      \t              (7, 0.1275028189023336),\n",
      "\u001b[92mINFO \u001b[0m:      \t              (8, 0.13898702462514242),\n",
      "\u001b[92mINFO \u001b[0m:      \t              (9, 0.1667418827613195),\n",
      "\u001b[92mINFO \u001b[0m:      \t              (10, 0.14086284240086874),\n",
      "\u001b[92mINFO \u001b[0m:      \t              (11, 0.3139396508534749),\n",
      "\u001b[92mINFO \u001b[0m:      \t              (12, 0.0)],\n",
      "\u001b[92mINFO \u001b[0m:      \t 'loss': [(1, 21.7781499226888),\n",
      "\u001b[92mINFO \u001b[0m:      \t          (2, 40.44223403930664),\n",
      "\u001b[92mINFO \u001b[0m:      \t          (3, 18.853450139363606),\n",
      "\u001b[92mINFO \u001b[0m:      \t          (4, 13.93074099222819),\n",
      "\u001b[92mINFO \u001b[0m:      \t          (5, 42.3385976155599),\n",
      "\u001b[92mINFO \u001b[0m:      \t          (6, 70.1144282023112),\n",
      "\u001b[92mINFO \u001b[0m:      \t          (7, 62.47913614908854),\n",
      "\u001b[92mINFO \u001b[0m:      \t          (8, 15.020872751871744),\n",
      "\u001b[92mINFO \u001b[0m:      \t          (9, 7.6412092844645185),\n",
      "\u001b[92mINFO \u001b[0m:      \t          (10, 34.121725718180336),\n",
      "\u001b[92mINFO \u001b[0m:      \t          (11, 40.56383260091146),\n",
      "\u001b[92mINFO \u001b[0m:      \t          (12, 38.49670918782552)],\n",
      "\u001b[92mINFO \u001b[0m:      \t 'precision': [(1, 0.0),\n",
      "\u001b[92mINFO \u001b[0m:      \t               (2, 0.0),\n",
      "\u001b[92mINFO \u001b[0m:      \t               (3, 0.0),\n",
      "\u001b[92mINFO \u001b[0m:      \t               (4, 0.0),\n",
      "\u001b[92mINFO \u001b[0m:      \t               (5, 0.0),\n",
      "\u001b[92mINFO \u001b[0m:      \t               (6, 0.0),\n",
      "\u001b[92mINFO \u001b[0m:      \t               (7, 0.0),\n",
      "\u001b[92mINFO \u001b[0m:      \t               (8, 0.0),\n",
      "\u001b[92mINFO \u001b[0m:      \t               (9, 0.0),\n",
      "\u001b[92mINFO \u001b[0m:      \t               (10, 0.0),\n",
      "\u001b[92mINFO \u001b[0m:      \t               (11, 0.0),\n",
      "\u001b[92mINFO \u001b[0m:      \t               (12, 0.0)],\n",
      "\u001b[92mINFO \u001b[0m:      \t 'recall': [(1, 0.0),\n",
      "\u001b[92mINFO \u001b[0m:      \t            (2, 0.0),\n",
      "\u001b[92mINFO \u001b[0m:      \t            (3, 0.0),\n",
      "\u001b[92mINFO \u001b[0m:      \t            (4, 0.0),\n",
      "\u001b[92mINFO \u001b[0m:      \t            (5, 0.0),\n",
      "\u001b[92mINFO \u001b[0m:      \t            (6, 0.0),\n",
      "\u001b[92mINFO \u001b[0m:      \t            (7, 0.0),\n",
      "\u001b[92mINFO \u001b[0m:      \t            (8, 0.0),\n",
      "\u001b[92mINFO \u001b[0m:      \t            (9, 0.0),\n",
      "\u001b[92mINFO \u001b[0m:      \t            (10, 0.0),\n",
      "\u001b[92mINFO \u001b[0m:      \t            (11, 0.0),\n",
      "\u001b[92mINFO \u001b[0m:      \t            (12, 0.0)]}\n",
      "\u001b[92mINFO \u001b[0m:      \n"
     ]
    }
   ],
   "source": [
    "from flwr.simulation import run_simulation\n",
    "\n",
    "run_simulation(\n",
    "    server_app=server,\n",
    "    client_app=client,      \n",
    "    num_supernodes=run_config[\"num-clients\"],\n",
    ")"
   ]
  },
  {
   "cell_type": "code",
   "execution_count": 15,
   "metadata": {},
   "outputs": [
    {
     "name": "stdout",
     "output_type": "stream",
     "text": [
      "[{'current-round': 1, 'binary-accuracy': 0.9936134219169617, 'recall': 0.0, 'anomaly-percentage': 0.05607901010330344, 'f1-score': 0.012692143209278584, 'precision': 0.0, 'loss': 21.737028121948242, 'client-id': 7}, {'f1-score': 0.0, 'loss': 21.7351016998291, 'binary-accuracy': 1.0, 'client-id': 4, 'anomaly-percentage': 0.0551481372836609, 'current-round': 1, 'precision': 0.0, 'recall': 0.0}, {'client-id': 2, 'anomaly-percentage': 0.05084745762711865, 'recall': 0.0, 'binary-accuracy': 0.7941834330558777, 'loss': 21.862319946289062, 'precision': 0.0, 'f1-score': 0.34137287735939026, 'current-round': 1}, {'binary-accuracy': 1.0, 'anomaly-percentage': 0.0975609756097561, 'loss': 40.4401741027832, 'precision': 0.0, 'recall': 0.0, 'client-id': 6, 'f1-score': 0.0, 'current-round': 2}, {'precision': 0.0, 'client-id': 7, 'recall': 0.0, 'f1-score': 0.0, 'loss': 40.442161560058594, 'anomaly-percentage': 0.05965725491943931, 'current-round': 2, 'binary-accuracy': 1.0}, {'recall': 0.0, 'f1-score': 0.0, 'binary-accuracy': 1.0, 'client-id': 8, 'anomaly-percentage': 0.06618327676643011, 'loss': 40.444366455078125, 'precision': 0.0, 'current-round': 2}, {'f1-score': 0.0, 'precision': 0.0, 'client-id': 6, 'loss': 18.308292388916016, 'recall': 0.0, 'current-round': 3, 'anomaly-percentage': 0.06329113924050633, 'binary-accuracy': 1.0}, {'precision': 0.0, 'recall': 0.0, 'f1-score': 0.6181817650794983, 'current-round': 3, 'binary-accuracy': 0.5526315569877625, 'anomaly-percentage': 0.08673469387755102, 'client-id': 1, 'loss': 19.787521362304688}, {'current-round': 3, 'loss': 18.464536666870117, 'f1-score': 0.09031490981578827, 'anomaly-percentage': 0.05242863362149387, 'client-id': 11, 'precision': 0.0, 'binary-accuracy': 0.9527069330215454, 'recall': 0.0}, {'precision': 0.0, 'anomaly-percentage': 0.055864570737605805, 'f1-score': 0.20239388942718506, 'binary-accuracy': 0.8874092102050781, 'client-id': 10, 'recall': 0.0, 'current-round': 4, 'loss': 14.072402000427246}, {'precision': 0.0, 'recall': 0.0, 'client-id': 0, 'anomaly-percentage': 0.050078334825425244, 'current-round': 4, 'loss': 14.006966590881348, 'binary-accuracy': 0.9082003831863403, 'f1-score': 0.16816198825836182}, {'current-round': 4, 'anomaly-percentage': 0.05763604447045056, 'f1-score': 0.0, 'loss': 13.712854385375977, 'binary-accuracy': 1.0, 'precision': 0.0, 'recall': 0.0, 'client-id': 4}, {'f1-score': 0.46808505058288574, 'recall': 0.0, 'binary-accuracy': 0.6944444179534912, 'client-id': 1, 'anomaly-percentage': 0.05789473684210526, 'precision': 0.0, 'current-round': 5, 'loss': 42.6995735168457}, {'binary-accuracy': 0.7415940165519714, 'client-id': 10, 'anomaly-percentage': 0.07239706431148153, 'current-round': 5, 'recall': 0.0, 'precision': 0.0, 'f1-score': 0.41068777441978455, 'loss': 42.4923095703125}, {'loss': 41.823909759521484, 'precision': 0.0, 'current-round': 5, 'recall': 0.0, 'f1-score': 0.18619082868099213, 'anomaly-percentage': 0.02051983584131327, 'client-id': 7, 'binary-accuracy': 0.897348165512085}, {'loss': 69.95370483398438, 'precision': 0.0, 'recall': 0.0, 'binary-accuracy': 0.7427293062210083, 'current-round': 6, 'f1-score': 0.4092526435852051, 'anomaly-percentage': 0.051270619705751225, 'client-id': 2}, {'recall': 0.0, 'binary-accuracy': 1.0, 'anomaly-percentage': 0.05378842030021444, 'client-id': 5, 'current-round': 6, 'loss': 68.57318878173828, 'f1-score': 0.0, 'precision': 0.0}, {'loss': 71.81639099121094, 'anomaly-percentage': 0.10945273631840796, 'current-round': 6, 'recall': 0.0, 'f1-score': 0.7213113903999329, 'binary-accuracy': 0.43589743971824646, 'precision': 0.0, 'client-id': 1}, {'current-round': 7, 'recall': 0.0, 'binary-accuracy': 0.8917378783226013, 'anomaly-percentage': 0.05779633671823099, 'loss': 62.6986083984375, 'precision': 0.0, 'f1-score': 0.19537273049354553, 'client-id': 3}, {'f1-score': 0.0, 'client-id': 6, 'recall': 0.0, 'current-round': 7, 'anomaly-percentage': 0.05128205128205128, 'binary-accuracy': 1.0, 'loss': 62.11384963989258, 'precision': 0.0}, {'f1-score': 0.1871357262134552, 'binary-accuracy': 0.8967734575271606, 'precision': 0.0, 'loss': 62.62495040893555, 'anomaly-percentage': 0.054162088875382784, 'client-id': 7, 'current-round': 7, 'recall': 0.0}, {'precision': 0.0, 'current-round': 8, 'loss': 14.792526245117188, 'client-id': 6, 'anomaly-percentage': 0.13674659753726506, 'recall': 0.0, 'f1-score': 0.0, 'binary-accuracy': 1.0}, {'client-id': 4, 'binary-accuracy': 1.0, 'precision': 0.0, 'anomaly-percentage': 0.0518104209596703, 'f1-score': 0.0, 'recall': 0.0, 'loss': 14.793478965759277, 'current-round': 8}, {'client-id': 2, 'anomaly-percentage': 0.05253784505788068, 'current-round': 8, 'f1-score': 0.41696107387542725, 'precision': 0.0, 'loss': 15.47661304473877, 'binary-accuracy': 0.7366071343421936, 'recall': 0.0}, {'binary-accuracy': 0.7840909361839294, 'f1-score': 0.35514014959335327, 'client-id': 10, 'loss': 7.77149772644043, 'current-round': 9, 'recall': 0.0, 'precision': 0.0, 'anomaly-percentage': 0.053763440860215055}, {'loss': 7.620682716369629, 'precision': 0.0, 'client-id': 9, 'recall': 0.0, 'binary-accuracy': 0.9217832088470459, 'anomaly-percentage': 0.051035293164228696, 'current-round': 9, 'f1-score': 0.14508549869060516}, {'f1-score': 0.0, 'current-round': 9, 'precision': 0.0, 'anomaly-percentage': 0.05588235294117647, 'loss': 7.531447410583496, 'client-id': 4, 'recall': 0.0, 'binary-accuracy': 1.0}, {'precision': 0.0, 'anomaly-percentage': 0.05530052058684335, 'f1-score': 0.050074994564056396, 'current-round': 10, 'loss': 34.11481475830078, 'client-id': 7, 'binary-accuracy': 0.9743195176124573, 'recall': 0.0}, {'anomaly-percentage': 0.05695576970595503, 'f1-score': 0.0, 'client-id': 10, 'recall': 0.0, 'current-round': 10, 'binary-accuracy': 1.0, 'precision': 0.0, 'loss': 33.97000503540039}, {'f1-score': 0.3725135326385498, 'anomaly-percentage': 0.057155516171909615, 'recall': 0.0, 'precision': 0.0, 'client-id': 2, 'loss': 34.280357360839844, 'binary-accuracy': 0.7711111307144165, 'current-round': 10}, {'recall': 0.0, 'loss': 40.61025619506836, 'f1-score': 0.42398542165756226, 'anomaly-percentage': 0.07156019656019656, 'current-round': 11, 'client-id': 8, 'binary-accuracy': 0.7309761643409729, 'precision': 0.0}, {'recall': 0.0, 'client-id': 6, 'current-round': 11, 'binary-accuracy': 1.0, 'loss': 40.27082824707031, 'precision': 0.0, 'anomaly-percentage': 0.061971830985915494, 'f1-score': 0.0}, {'client-id': 5, 'recall': 0.0, 'loss': 40.8104133605957, 'current-round': 11, 'anomaly-percentage': 0.08437166251334995, 'precision': 0.0, 'binary-accuracy': 0.6506238579750061, 'f1-score': 0.5178335309028625}, {'f1-score': 0.0, 'anomaly-percentage': 0.001662663957140218, 'client-id': 5, 'precision': 0.0, 'loss': 38.497257232666016, 'recall': 0.0, 'binary-accuracy': 1.0, 'current-round': 12}, {'client-id': 0, 'loss': 38.495750427246094, 'current-round': 12, 'anomaly-percentage': 0.00029135831245265427, 'recall': 0.0, 'f1-score': 0.0, 'precision': 0.0, 'binary-accuracy': 1.0}, {'client-id': 10, 'current-round': 12, 'binary-accuracy': 1.0, 'recall': 0.0, 'f1-score': 0.0, 'precision': 0.0, 'loss': 38.49711990356445, 'anomaly-percentage': 0.0015128593040847202}]\n"
     ]
    },
    {
     "data": {
      "text/html": [
       "<div>\n",
       "<style scoped>\n",
       "    .dataframe tbody tr th:only-of-type {\n",
       "        vertical-align: middle;\n",
       "    }\n",
       "\n",
       "    .dataframe tbody tr th {\n",
       "        vertical-align: top;\n",
       "    }\n",
       "\n",
       "    .dataframe thead th {\n",
       "        text-align: right;\n",
       "    }\n",
       "</style>\n",
       "<table border=\"1\" class=\"dataframe\">\n",
       "  <thead>\n",
       "    <tr style=\"text-align: right;\">\n",
       "      <th></th>\n",
       "      <th>anomaly-percentage</th>\n",
       "      <th>binary-accuracy</th>\n",
       "      <th>client-id</th>\n",
       "      <th>current-round</th>\n",
       "      <th>f1-score</th>\n",
       "      <th>loss</th>\n",
       "      <th>precision</th>\n",
       "      <th>recall</th>\n",
       "    </tr>\n",
       "  </thead>\n",
       "  <tbody>\n",
       "    <tr>\n",
       "      <th>0</th>\n",
       "      <td>0.056079</td>\n",
       "      <td>0.993613</td>\n",
       "      <td>7</td>\n",
       "      <td>1</td>\n",
       "      <td>0.012692</td>\n",
       "      <td>21.737028</td>\n",
       "      <td>0.0</td>\n",
       "      <td>0.0</td>\n",
       "    </tr>\n",
       "    <tr>\n",
       "      <th>1</th>\n",
       "      <td>0.055148</td>\n",
       "      <td>1.000000</td>\n",
       "      <td>4</td>\n",
       "      <td>1</td>\n",
       "      <td>0.000000</td>\n",
       "      <td>21.735102</td>\n",
       "      <td>0.0</td>\n",
       "      <td>0.0</td>\n",
       "    </tr>\n",
       "    <tr>\n",
       "      <th>2</th>\n",
       "      <td>0.050847</td>\n",
       "      <td>0.794183</td>\n",
       "      <td>2</td>\n",
       "      <td>1</td>\n",
       "      <td>0.341373</td>\n",
       "      <td>21.862320</td>\n",
       "      <td>0.0</td>\n",
       "      <td>0.0</td>\n",
       "    </tr>\n",
       "    <tr>\n",
       "      <th>3</th>\n",
       "      <td>0.097561</td>\n",
       "      <td>1.000000</td>\n",
       "      <td>6</td>\n",
       "      <td>2</td>\n",
       "      <td>0.000000</td>\n",
       "      <td>40.440174</td>\n",
       "      <td>0.0</td>\n",
       "      <td>0.0</td>\n",
       "    </tr>\n",
       "    <tr>\n",
       "      <th>4</th>\n",
       "      <td>0.059657</td>\n",
       "      <td>1.000000</td>\n",
       "      <td>7</td>\n",
       "      <td>2</td>\n",
       "      <td>0.000000</td>\n",
       "      <td>40.442162</td>\n",
       "      <td>0.0</td>\n",
       "      <td>0.0</td>\n",
       "    </tr>\n",
       "    <tr>\n",
       "      <th>5</th>\n",
       "      <td>0.066183</td>\n",
       "      <td>1.000000</td>\n",
       "      <td>8</td>\n",
       "      <td>2</td>\n",
       "      <td>0.000000</td>\n",
       "      <td>40.444366</td>\n",
       "      <td>0.0</td>\n",
       "      <td>0.0</td>\n",
       "    </tr>\n",
       "    <tr>\n",
       "      <th>6</th>\n",
       "      <td>0.063291</td>\n",
       "      <td>1.000000</td>\n",
       "      <td>6</td>\n",
       "      <td>3</td>\n",
       "      <td>0.000000</td>\n",
       "      <td>18.308292</td>\n",
       "      <td>0.0</td>\n",
       "      <td>0.0</td>\n",
       "    </tr>\n",
       "    <tr>\n",
       "      <th>7</th>\n",
       "      <td>0.086735</td>\n",
       "      <td>0.552632</td>\n",
       "      <td>1</td>\n",
       "      <td>3</td>\n",
       "      <td>0.618182</td>\n",
       "      <td>19.787521</td>\n",
       "      <td>0.0</td>\n",
       "      <td>0.0</td>\n",
       "    </tr>\n",
       "    <tr>\n",
       "      <th>8</th>\n",
       "      <td>0.052429</td>\n",
       "      <td>0.952707</td>\n",
       "      <td>11</td>\n",
       "      <td>3</td>\n",
       "      <td>0.090315</td>\n",
       "      <td>18.464537</td>\n",
       "      <td>0.0</td>\n",
       "      <td>0.0</td>\n",
       "    </tr>\n",
       "    <tr>\n",
       "      <th>9</th>\n",
       "      <td>0.055865</td>\n",
       "      <td>0.887409</td>\n",
       "      <td>10</td>\n",
       "      <td>4</td>\n",
       "      <td>0.202394</td>\n",
       "      <td>14.072402</td>\n",
       "      <td>0.0</td>\n",
       "      <td>0.0</td>\n",
       "    </tr>\n",
       "    <tr>\n",
       "      <th>10</th>\n",
       "      <td>0.050078</td>\n",
       "      <td>0.908200</td>\n",
       "      <td>0</td>\n",
       "      <td>4</td>\n",
       "      <td>0.168162</td>\n",
       "      <td>14.006967</td>\n",
       "      <td>0.0</td>\n",
       "      <td>0.0</td>\n",
       "    </tr>\n",
       "    <tr>\n",
       "      <th>11</th>\n",
       "      <td>0.057636</td>\n",
       "      <td>1.000000</td>\n",
       "      <td>4</td>\n",
       "      <td>4</td>\n",
       "      <td>0.000000</td>\n",
       "      <td>13.712854</td>\n",
       "      <td>0.0</td>\n",
       "      <td>0.0</td>\n",
       "    </tr>\n",
       "    <tr>\n",
       "      <th>12</th>\n",
       "      <td>0.057895</td>\n",
       "      <td>0.694444</td>\n",
       "      <td>1</td>\n",
       "      <td>5</td>\n",
       "      <td>0.468085</td>\n",
       "      <td>42.699574</td>\n",
       "      <td>0.0</td>\n",
       "      <td>0.0</td>\n",
       "    </tr>\n",
       "    <tr>\n",
       "      <th>13</th>\n",
       "      <td>0.072397</td>\n",
       "      <td>0.741594</td>\n",
       "      <td>10</td>\n",
       "      <td>5</td>\n",
       "      <td>0.410688</td>\n",
       "      <td>42.492310</td>\n",
       "      <td>0.0</td>\n",
       "      <td>0.0</td>\n",
       "    </tr>\n",
       "    <tr>\n",
       "      <th>14</th>\n",
       "      <td>0.020520</td>\n",
       "      <td>0.897348</td>\n",
       "      <td>7</td>\n",
       "      <td>5</td>\n",
       "      <td>0.186191</td>\n",
       "      <td>41.823910</td>\n",
       "      <td>0.0</td>\n",
       "      <td>0.0</td>\n",
       "    </tr>\n",
       "    <tr>\n",
       "      <th>15</th>\n",
       "      <td>0.051271</td>\n",
       "      <td>0.742729</td>\n",
       "      <td>2</td>\n",
       "      <td>6</td>\n",
       "      <td>0.409253</td>\n",
       "      <td>69.953705</td>\n",
       "      <td>0.0</td>\n",
       "      <td>0.0</td>\n",
       "    </tr>\n",
       "    <tr>\n",
       "      <th>16</th>\n",
       "      <td>0.053788</td>\n",
       "      <td>1.000000</td>\n",
       "      <td>5</td>\n",
       "      <td>6</td>\n",
       "      <td>0.000000</td>\n",
       "      <td>68.573189</td>\n",
       "      <td>0.0</td>\n",
       "      <td>0.0</td>\n",
       "    </tr>\n",
       "    <tr>\n",
       "      <th>17</th>\n",
       "      <td>0.109453</td>\n",
       "      <td>0.435897</td>\n",
       "      <td>1</td>\n",
       "      <td>6</td>\n",
       "      <td>0.721311</td>\n",
       "      <td>71.816391</td>\n",
       "      <td>0.0</td>\n",
       "      <td>0.0</td>\n",
       "    </tr>\n",
       "    <tr>\n",
       "      <th>18</th>\n",
       "      <td>0.057796</td>\n",
       "      <td>0.891738</td>\n",
       "      <td>3</td>\n",
       "      <td>7</td>\n",
       "      <td>0.195373</td>\n",
       "      <td>62.698608</td>\n",
       "      <td>0.0</td>\n",
       "      <td>0.0</td>\n",
       "    </tr>\n",
       "    <tr>\n",
       "      <th>19</th>\n",
       "      <td>0.051282</td>\n",
       "      <td>1.000000</td>\n",
       "      <td>6</td>\n",
       "      <td>7</td>\n",
       "      <td>0.000000</td>\n",
       "      <td>62.113850</td>\n",
       "      <td>0.0</td>\n",
       "      <td>0.0</td>\n",
       "    </tr>\n",
       "    <tr>\n",
       "      <th>20</th>\n",
       "      <td>0.054162</td>\n",
       "      <td>0.896773</td>\n",
       "      <td>7</td>\n",
       "      <td>7</td>\n",
       "      <td>0.187136</td>\n",
       "      <td>62.624950</td>\n",
       "      <td>0.0</td>\n",
       "      <td>0.0</td>\n",
       "    </tr>\n",
       "    <tr>\n",
       "      <th>21</th>\n",
       "      <td>0.136747</td>\n",
       "      <td>1.000000</td>\n",
       "      <td>6</td>\n",
       "      <td>8</td>\n",
       "      <td>0.000000</td>\n",
       "      <td>14.792526</td>\n",
       "      <td>0.0</td>\n",
       "      <td>0.0</td>\n",
       "    </tr>\n",
       "    <tr>\n",
       "      <th>22</th>\n",
       "      <td>0.051810</td>\n",
       "      <td>1.000000</td>\n",
       "      <td>4</td>\n",
       "      <td>8</td>\n",
       "      <td>0.000000</td>\n",
       "      <td>14.793479</td>\n",
       "      <td>0.0</td>\n",
       "      <td>0.0</td>\n",
       "    </tr>\n",
       "    <tr>\n",
       "      <th>23</th>\n",
       "      <td>0.052538</td>\n",
       "      <td>0.736607</td>\n",
       "      <td>2</td>\n",
       "      <td>8</td>\n",
       "      <td>0.416961</td>\n",
       "      <td>15.476613</td>\n",
       "      <td>0.0</td>\n",
       "      <td>0.0</td>\n",
       "    </tr>\n",
       "    <tr>\n",
       "      <th>24</th>\n",
       "      <td>0.053763</td>\n",
       "      <td>0.784091</td>\n",
       "      <td>10</td>\n",
       "      <td>9</td>\n",
       "      <td>0.355140</td>\n",
       "      <td>7.771498</td>\n",
       "      <td>0.0</td>\n",
       "      <td>0.0</td>\n",
       "    </tr>\n",
       "    <tr>\n",
       "      <th>25</th>\n",
       "      <td>0.051035</td>\n",
       "      <td>0.921783</td>\n",
       "      <td>9</td>\n",
       "      <td>9</td>\n",
       "      <td>0.145085</td>\n",
       "      <td>7.620683</td>\n",
       "      <td>0.0</td>\n",
       "      <td>0.0</td>\n",
       "    </tr>\n",
       "    <tr>\n",
       "      <th>26</th>\n",
       "      <td>0.055882</td>\n",
       "      <td>1.000000</td>\n",
       "      <td>4</td>\n",
       "      <td>9</td>\n",
       "      <td>0.000000</td>\n",
       "      <td>7.531447</td>\n",
       "      <td>0.0</td>\n",
       "      <td>0.0</td>\n",
       "    </tr>\n",
       "    <tr>\n",
       "      <th>27</th>\n",
       "      <td>0.055301</td>\n",
       "      <td>0.974320</td>\n",
       "      <td>7</td>\n",
       "      <td>10</td>\n",
       "      <td>0.050075</td>\n",
       "      <td>34.114815</td>\n",
       "      <td>0.0</td>\n",
       "      <td>0.0</td>\n",
       "    </tr>\n",
       "    <tr>\n",
       "      <th>28</th>\n",
       "      <td>0.056956</td>\n",
       "      <td>1.000000</td>\n",
       "      <td>10</td>\n",
       "      <td>10</td>\n",
       "      <td>0.000000</td>\n",
       "      <td>33.970005</td>\n",
       "      <td>0.0</td>\n",
       "      <td>0.0</td>\n",
       "    </tr>\n",
       "    <tr>\n",
       "      <th>29</th>\n",
       "      <td>0.057156</td>\n",
       "      <td>0.771111</td>\n",
       "      <td>2</td>\n",
       "      <td>10</td>\n",
       "      <td>0.372514</td>\n",
       "      <td>34.280357</td>\n",
       "      <td>0.0</td>\n",
       "      <td>0.0</td>\n",
       "    </tr>\n",
       "    <tr>\n",
       "      <th>30</th>\n",
       "      <td>0.071560</td>\n",
       "      <td>0.730976</td>\n",
       "      <td>8</td>\n",
       "      <td>11</td>\n",
       "      <td>0.423985</td>\n",
       "      <td>40.610256</td>\n",
       "      <td>0.0</td>\n",
       "      <td>0.0</td>\n",
       "    </tr>\n",
       "    <tr>\n",
       "      <th>31</th>\n",
       "      <td>0.061972</td>\n",
       "      <td>1.000000</td>\n",
       "      <td>6</td>\n",
       "      <td>11</td>\n",
       "      <td>0.000000</td>\n",
       "      <td>40.270828</td>\n",
       "      <td>0.0</td>\n",
       "      <td>0.0</td>\n",
       "    </tr>\n",
       "    <tr>\n",
       "      <th>32</th>\n",
       "      <td>0.084372</td>\n",
       "      <td>0.650624</td>\n",
       "      <td>5</td>\n",
       "      <td>11</td>\n",
       "      <td>0.517834</td>\n",
       "      <td>40.810413</td>\n",
       "      <td>0.0</td>\n",
       "      <td>0.0</td>\n",
       "    </tr>\n",
       "    <tr>\n",
       "      <th>33</th>\n",
       "      <td>0.001663</td>\n",
       "      <td>1.000000</td>\n",
       "      <td>5</td>\n",
       "      <td>12</td>\n",
       "      <td>0.000000</td>\n",
       "      <td>38.497257</td>\n",
       "      <td>0.0</td>\n",
       "      <td>0.0</td>\n",
       "    </tr>\n",
       "    <tr>\n",
       "      <th>34</th>\n",
       "      <td>0.000291</td>\n",
       "      <td>1.000000</td>\n",
       "      <td>0</td>\n",
       "      <td>12</td>\n",
       "      <td>0.000000</td>\n",
       "      <td>38.495750</td>\n",
       "      <td>0.0</td>\n",
       "      <td>0.0</td>\n",
       "    </tr>\n",
       "    <tr>\n",
       "      <th>35</th>\n",
       "      <td>0.001513</td>\n",
       "      <td>1.000000</td>\n",
       "      <td>10</td>\n",
       "      <td>12</td>\n",
       "      <td>0.000000</td>\n",
       "      <td>38.497120</td>\n",
       "      <td>0.0</td>\n",
       "      <td>0.0</td>\n",
       "    </tr>\n",
       "  </tbody>\n",
       "</table>\n",
       "</div>"
      ],
      "text/plain": [
       "    anomaly-percentage  binary-accuracy  client-id  current-round  f1-score  \\\n",
       "0             0.056079         0.993613          7              1  0.012692   \n",
       "1             0.055148         1.000000          4              1  0.000000   \n",
       "2             0.050847         0.794183          2              1  0.341373   \n",
       "3             0.097561         1.000000          6              2  0.000000   \n",
       "4             0.059657         1.000000          7              2  0.000000   \n",
       "5             0.066183         1.000000          8              2  0.000000   \n",
       "6             0.063291         1.000000          6              3  0.000000   \n",
       "7             0.086735         0.552632          1              3  0.618182   \n",
       "8             0.052429         0.952707         11              3  0.090315   \n",
       "9             0.055865         0.887409         10              4  0.202394   \n",
       "10            0.050078         0.908200          0              4  0.168162   \n",
       "11            0.057636         1.000000          4              4  0.000000   \n",
       "12            0.057895         0.694444          1              5  0.468085   \n",
       "13            0.072397         0.741594         10              5  0.410688   \n",
       "14            0.020520         0.897348          7              5  0.186191   \n",
       "15            0.051271         0.742729          2              6  0.409253   \n",
       "16            0.053788         1.000000          5              6  0.000000   \n",
       "17            0.109453         0.435897          1              6  0.721311   \n",
       "18            0.057796         0.891738          3              7  0.195373   \n",
       "19            0.051282         1.000000          6              7  0.000000   \n",
       "20            0.054162         0.896773          7              7  0.187136   \n",
       "21            0.136747         1.000000          6              8  0.000000   \n",
       "22            0.051810         1.000000          4              8  0.000000   \n",
       "23            0.052538         0.736607          2              8  0.416961   \n",
       "24            0.053763         0.784091         10              9  0.355140   \n",
       "25            0.051035         0.921783          9              9  0.145085   \n",
       "26            0.055882         1.000000          4              9  0.000000   \n",
       "27            0.055301         0.974320          7             10  0.050075   \n",
       "28            0.056956         1.000000         10             10  0.000000   \n",
       "29            0.057156         0.771111          2             10  0.372514   \n",
       "30            0.071560         0.730976          8             11  0.423985   \n",
       "31            0.061972         1.000000          6             11  0.000000   \n",
       "32            0.084372         0.650624          5             11  0.517834   \n",
       "33            0.001663         1.000000          5             12  0.000000   \n",
       "34            0.000291         1.000000          0             12  0.000000   \n",
       "35            0.001513         1.000000         10             12  0.000000   \n",
       "\n",
       "         loss  precision  recall  \n",
       "0   21.737028        0.0     0.0  \n",
       "1   21.735102        0.0     0.0  \n",
       "2   21.862320        0.0     0.0  \n",
       "3   40.440174        0.0     0.0  \n",
       "4   40.442162        0.0     0.0  \n",
       "5   40.444366        0.0     0.0  \n",
       "6   18.308292        0.0     0.0  \n",
       "7   19.787521        0.0     0.0  \n",
       "8   18.464537        0.0     0.0  \n",
       "9   14.072402        0.0     0.0  \n",
       "10  14.006967        0.0     0.0  \n",
       "11  13.712854        0.0     0.0  \n",
       "12  42.699574        0.0     0.0  \n",
       "13  42.492310        0.0     0.0  \n",
       "14  41.823910        0.0     0.0  \n",
       "15  69.953705        0.0     0.0  \n",
       "16  68.573189        0.0     0.0  \n",
       "17  71.816391        0.0     0.0  \n",
       "18  62.698608        0.0     0.0  \n",
       "19  62.113850        0.0     0.0  \n",
       "20  62.624950        0.0     0.0  \n",
       "21  14.792526        0.0     0.0  \n",
       "22  14.793479        0.0     0.0  \n",
       "23  15.476613        0.0     0.0  \n",
       "24   7.771498        0.0     0.0  \n",
       "25   7.620683        0.0     0.0  \n",
       "26   7.531447        0.0     0.0  \n",
       "27  34.114815        0.0     0.0  \n",
       "28  33.970005        0.0     0.0  \n",
       "29  34.280357        0.0     0.0  \n",
       "30  40.610256        0.0     0.0  \n",
       "31  40.270828        0.0     0.0  \n",
       "32  40.810413        0.0     0.0  \n",
       "33  38.497257        0.0     0.0  \n",
       "34  38.495750        0.0     0.0  \n",
       "35  38.497120        0.0     0.0  "
      ]
     },
     "execution_count": 15,
     "metadata": {},
     "output_type": "execute_result"
    }
   ],
   "source": [
    "print(federated_server.evaluate_results)\n",
    "df = pd.DataFrame(federated_server.evaluate_results)\n",
    "df"
   ]
  },
  {
   "cell_type": "code",
   "execution_count": 16,
   "metadata": {},
   "outputs": [
    {
     "name": "stderr",
     "output_type": "stream",
     "text": [
      "/opt/homebrew/anaconda3/lib/python3.12/site-packages/IPython/core/pylabtools.py:77: DeprecationWarning: backend2gui is deprecated since IPython 8.24, backends are managed in matplotlib and can be externally registered.\n",
      "  warnings.warn(\n"
     ]
    },
    {
     "data": {
      "image/png": "[encoded data removed]",
      "text/plain": [
       "<Figure size 1200x1000 with 5 Axes>"
      ]
     },
     "metadata": {},
     "output_type": "display_data"
    }
   ],
   "source": [
    "import matplotlib.pyplot as plt\n",
    "\n",
    "# List of metrics to plot\n",
    "metrics_to_plot = ['binary-accuracy', 'loss', 'recall', 'precision', 'f1-score']\n",
    "\n",
    "def plot_round_metrics_per_client(data: pd.DataFrame) -> None:\n",
    "    # Create a figure with subplots for each metric\n",
    "    plt.figure(figsize=(12, 10))\n",
    "\n",
    "    # Loop through each metric and plot its values vs. rounds\n",
    "    for idx, metric in enumerate(metrics_to_plot, 1):\n",
    "        plt.subplot(3, 2, idx)  \n",
    "        for client_id in data[client_id_key].unique():\n",
    "            # Filter data for the current client_id\n",
    "            client_data = data[data[client_id_key] == client_id]\n",
    "            plt.plot(client_data[current_round_key], client_data[metric], label=f'Client {client_id}', marker='o', alpha=0.7)\n",
    "        \n",
    "        plt.title(f'{metric} vs Round')\n",
    "        plt.xlabel('Round')\n",
    "        plt.ylabel(metric)\n",
    "        plt.grid(True)\n",
    "        plt.xticks(ticks=range(1,df[current_round_key].max() + 1))\n",
    "        plt.legend()\n",
    "\n",
    "    plt.tight_layout()\n",
    "    plt.show()\n",
    "\n",
    "\n",
    "plot_round_metrics_per_client(pd.DataFrame(federated_server.evaluate_results))"
   ]
  },
  {
   "cell_type": "code",
   "execution_count": 17,
   "metadata": {},
   "outputs": [
    {
     "data": {
      "image/png": "[encoded data removed]",
      "text/plain": [
       "<Figure size 1200x1000 with 5 Axes>"
      ]
     },
     "metadata": {},
     "output_type": "display_data"
    },
    {
     "data": {
      "text/html": [
       "<div>\n",
       "<style scoped>\n",
       "    .dataframe tbody tr th:only-of-type {\n",
       "        vertical-align: middle;\n",
       "    }\n",
       "\n",
       "    .dataframe tbody tr th {\n",
       "        vertical-align: top;\n",
       "    }\n",
       "\n",
       "    .dataframe thead th {\n",
       "        text-align: right;\n",
       "    }\n",
       "</style>\n",
       "<table border=\"1\" class=\"dataframe\">\n",
       "  <thead>\n",
       "    <tr style=\"text-align: right;\">\n",
       "      <th></th>\n",
       "      <th>0</th>\n",
       "    </tr>\n",
       "  </thead>\n",
       "  <tbody>\n",
       "    <tr>\n",
       "      <th>anomaly-percentage</th>\n",
       "      <td>0.057573</td>\n",
       "    </tr>\n",
       "    <tr>\n",
       "      <th>binary-accuracy</th>\n",
       "      <td>0.887744</td>\n",
       "    </tr>\n",
       "    <tr>\n",
       "      <th>client-id</th>\n",
       "      <td>5.444444</td>\n",
       "    </tr>\n",
       "    <tr>\n",
       "      <th>f1-score</th>\n",
       "      <td>0.174799</td>\n",
       "    </tr>\n",
       "    <tr>\n",
       "      <th>loss</th>\n",
       "      <td>33.815091</td>\n",
       "    </tr>\n",
       "    <tr>\n",
       "      <th>precision</th>\n",
       "      <td>0.000000</td>\n",
       "    </tr>\n",
       "    <tr>\n",
       "      <th>recall</th>\n",
       "      <td>0.000000</td>\n",
       "    </tr>\n",
       "  </tbody>\n",
       "</table>\n",
       "</div>"
      ],
      "text/plain": [
       "                            0\n",
       "anomaly-percentage   0.057573\n",
       "binary-accuracy      0.887744\n",
       "client-id            5.444444\n",
       "f1-score             0.174799\n",
       "loss                33.815091\n",
       "precision            0.000000\n",
       "recall               0.000000"
      ]
     },
     "execution_count": 17,
     "metadata": {},
     "output_type": "execute_result"
    }
   ],
   "source": [
    "import pandas as pd\n",
    "import matplotlib.pyplot as plt\n",
    "\n",
    "def plot_round_metrics(data: pd.DataFrame) -> None:\n",
    "    # Calculate the average of each metric per round\n",
    "    avg_metrics_per_round = df.groupby(current_round_key)[metrics_to_plot].mean()\n",
    "\n",
    "\n",
    "    # Plot the average values for each metric\n",
    "    plt.figure(figsize=(12, 10))\n",
    "\n",
    "    for idx, metric in enumerate(metrics_to_plot, 1):\n",
    "        plt.subplot(3, 2, idx)  # Create a 3x2 grid of subplots\n",
    "        plt.plot(avg_metrics_per_round.index, avg_metrics_per_round[metric], marker='o', label=f'Average {metric}')\n",
    "        plt.title(f'{metric} vs Round (Average per Round)')\n",
    "        plt.xlabel('Round')\n",
    "        plt.xticks(ticks=range(1,df[current_round_key].max() + 1))\n",
    "        plt.ylabel(metric)\n",
    "        plt.grid(True)\n",
    "\n",
    "    plt.tight_layout()\n",
    "    plt.show()\n",
    "    \n",
    "\n",
    "plot_round_metrics(pd.DataFrame(federated_server.evaluate_results))\n",
    "pd.DataFrame(df.groupby(client_id_key)[metrics_to_plot].mean())\n",
    "pd.DataFrame(df.groupby(current_round_key)[metrics_to_plot].mean())\n",
    "pd.DataFrame(df.groupby(current_round_key).mean().mean())"
   ]
  }
 ],
 "metadata": {
  "kernelspec": {
   "display_name": "base",
   "language": "python",
   "name": "python3"
  },
  "language_info": {
   "codemirror_mode": {
    "name": "ipython",
    "version": 3
   },
   "file_extension": ".py",
   "mimetype": "text/x-python",
   "name": "python",
   "nbconvert_exporter": "python",
   "pygments_lexer": "ipython3",
   "version": "3.12.4"
  }
 },
 "nbformat": 4,
 "nbformat_minor": 2
}
